{
 "cells": [
  {
   "cell_type": "markdown",
   "metadata": {},
   "source": [
    "![](https://www.pata.org/wp-content/uploads/2014/09/TripAdvisor_Logo-300x119.png)\n",
    "# Predict TripAdvisor Rating\n",
    "## В этом соревновании нам предстоит предсказать рейтинг ресторана в TripAdvisor\n",
    "**По ходу задачи:**\n",
    "* Прокачаем работу с pandas\n",
    "* Научимся работать с Kaggle Notebooks\n",
    "* Поймем как делать предобработку различных данных\n",
    "* Научимся работать с пропущенными данными (Nan)\n",
    "* Познакомимся с различными видами кодирования признаков\n",
    "* Немного попробуем [Feature Engineering](https://ru.wikipedia.org/wiki/Конструирование_признаков) (генерировать новые признаки)\n",
    "* И совсем немного затронем ML\n",
    "* И многое другое...   \n",
    "\n",
    "\n",
    "\n",
    "### И самое важное, все это вы сможете сделать самостоятельно!\n",
    "\n",
    "*Этот Ноутбук являетсся Примером/Шаблоном к этому соревнованию (Baseline) и не служит готовым решением!*   \n",
    "Вы можете использовать его как основу для построения своего решения.\n",
    "\n",
    "> что такое baseline решение, зачем оно нужно и почему предоставлять baseline к соревнованию стало важным стандартом на kaggle и других площадках.   \n",
    "**baseline** создается больше как шаблон, где можно посмотреть как происходит обращение с входящими данными и что нужно получить на выходе. При этом МЛ начинка может быть достаточно простой, просто для примера. Это помогает быстрее приступить к самому МЛ, а не тратить ценное время на чисто инженерные задачи. \n",
    "Также baseline являеться хорошей опорной точкой по метрике. Если твое решение хуже baseline - ты явно делаешь что-то не то и стоит попробовать другой путь) \n",
    "\n",
    "В контексте нашего соревнования baseline идет с небольшими примерами того, что можно делать с данными, и с инструкцией, что делать дальше, чтобы улучшить результат.  Вообще готовым решением это сложно назвать, так как используются всего 2 самых простых признака (а остальные исключаются)."
   ]
  },
  {
   "cell_type": "markdown",
   "metadata": {},
   "source": [
    "# import"
   ]
  },
  {
   "cell_type": "code",
   "execution_count": 1,
   "metadata": {
    "_cell_guid": "b1076dfc-b9ad-4769-8c92-a6c4dae69d19",
    "_uuid": "8f2839f25d086af736a60e9eeb907d3b93b6e0e5",
    "execution": {
     "iopub.execute_input": "2021-06-02T02:58:59.033075Z",
     "iopub.status.busy": "2021-06-02T02:58:59.032399Z",
     "iopub.status.idle": "2021-06-02T02:58:59.051901Z",
     "shell.execute_reply": "2021-06-02T02:58:59.051063Z",
     "shell.execute_reply.started": "2021-06-02T02:58:59.033022Z"
    }
   },
   "outputs": [
    {
     "name": "stdout",
     "output_type": "stream",
     "text": [
      "/kaggle/input/sf-dst-restaurant-rating/sample_submission.csv\n",
      "/kaggle/input/sf-dst-restaurant-rating/main_task.csv\n",
      "/kaggle/input/sf-dst-restaurant-rating/kaggle_task.csv\n"
     ]
    }
   ],
   "source": [
    "# This Python 3 environment comes with many helpful analytics libraries installed\n",
    "# It is defined by the kaggle/python docker image: https://github.com/kaggle/docker-python\n",
    "# For example, here's several helpful packages to load in \n",
    "\n",
    "import numpy as np # linear algebra\n",
    "import pandas as pd # data processing, CSV file I/O (e.g. pd.read_csv)\n",
    "import re as re\n",
    "import matplotlib.pyplot as plt\n",
    "import seaborn as sns \n",
    "import datetime\n",
    "from itertools import combinations\n",
    "from scipy.stats import ttest_ind\n",
    "%matplotlib inline\n",
    "\n",
    "# Загружаем специальный удобный инструмент для разделения датасета:\n",
    "from sklearn.model_selection import train_test_split\n",
    "\n",
    "# Input data files are available in the \"../input/\" directory.\n",
    "# For example, running this (by clicking run or pressing Shift+Enter) will list all files under the input directory\n",
    "\n",
    "import os\n",
    "for dirname, _, filenames in os.walk('/kaggle/input'):\n",
    "    for filename in filenames:\n",
    "        print(os.path.join(dirname, filename))\n",
    "\n",
    "# Any results you write to the current directory are saved as output."
   ]
  },
  {
   "cell_type": "code",
   "execution_count": 2,
   "metadata": {
    "execution": {
     "iopub.execute_input": "2021-06-02T02:58:59.057603Z",
     "iopub.status.busy": "2021-06-02T02:58:59.057052Z",
     "iopub.status.idle": "2021-06-02T02:58:59.065492Z",
     "shell.execute_reply": "2021-06-02T02:58:59.064750Z",
     "shell.execute_reply.started": "2021-06-02T02:58:59.057542Z"
    }
   },
   "outputs": [],
   "source": [
    "# всегда фиксируйте RANDOM_SEED, чтобы ваши эксперименты были воспроизводимы!\n",
    "RANDOM_SEED = 42"
   ]
  },
  {
   "cell_type": "code",
   "execution_count": 3,
   "metadata": {
    "execution": {
     "iopub.execute_input": "2021-06-02T02:58:59.085514Z",
     "iopub.status.busy": "2021-06-02T02:58:59.085173Z",
     "iopub.status.idle": "2021-06-02T02:59:01.411260Z",
     "shell.execute_reply": "2021-06-02T02:59:01.410142Z",
     "shell.execute_reply.started": "2021-06-02T02:58:59.085466Z"
    }
   },
   "outputs": [],
   "source": [
    "# зафиксируем версию пакетов, чтобы эксперименты были воспроизводимы:\n",
    "!pip freeze > requirements.txt"
   ]
  },
  {
   "cell_type": "markdown",
   "metadata": {},
   "source": [
    "# DATA"
   ]
  },
  {
   "cell_type": "code",
   "execution_count": 4,
   "metadata": {
    "_cell_guid": "79c7e3d0-c299-4dcb-8224-4455121ee9b0",
    "_uuid": "d629ff2d2480ee46fbb7e2d37f6b5fab8052498a",
    "execution": {
     "iopub.execute_input": "2021-06-02T02:59:01.413401Z",
     "iopub.status.busy": "2021-06-02T02:59:01.413147Z",
     "iopub.status.idle": "2021-06-02T02:59:01.689205Z",
     "shell.execute_reply": "2021-06-02T02:59:01.688399Z",
     "shell.execute_reply.started": "2021-06-02T02:59:01.413363Z"
    }
   },
   "outputs": [],
   "source": [
    "DATA_DIR = '/kaggle/input/sf-dst-restaurant-rating/'\n",
    "df_train = pd.read_csv(DATA_DIR+'/main_task.csv')\n",
    "df_test = pd.read_csv(DATA_DIR+'kaggle_task.csv')\n",
    "sample_submission = pd.read_csv(DATA_DIR+'/sample_submission.csv')"
   ]
  },
  {
   "cell_type": "code",
   "execution_count": 5,
   "metadata": {
    "execution": {
     "iopub.execute_input": "2021-06-02T02:59:01.693763Z",
     "iopub.status.busy": "2021-06-02T02:59:01.693336Z",
     "iopub.status.idle": "2021-06-02T02:59:01.720980Z",
     "shell.execute_reply": "2021-06-02T02:59:01.719829Z",
     "shell.execute_reply.started": "2021-06-02T02:59:01.693555Z"
    }
   },
   "outputs": [
    {
     "name": "stdout",
     "output_type": "stream",
     "text": [
      "<class 'pandas.core.frame.DataFrame'>\n",
      "RangeIndex: 40000 entries, 0 to 39999\n",
      "Data columns (total 10 columns):\n",
      "Restaurant_id        40000 non-null object\n",
      "City                 40000 non-null object\n",
      "Cuisine Style        30717 non-null object\n",
      "Ranking              40000 non-null float64\n",
      "Rating               40000 non-null float64\n",
      "Price Range          26114 non-null object\n",
      "Number of Reviews    37457 non-null float64\n",
      "Reviews              40000 non-null object\n",
      "URL_TA               40000 non-null object\n",
      "ID_TA                40000 non-null object\n",
      "dtypes: float64(3), object(7)\n",
      "memory usage: 3.1+ MB\n"
     ]
    }
   ],
   "source": [
    "df_train.info()"
   ]
  },
  {
   "cell_type": "code",
   "execution_count": 6,
   "metadata": {
    "execution": {
     "iopub.execute_input": "2021-06-02T02:59:01.723231Z",
     "iopub.status.busy": "2021-06-02T02:59:01.722875Z",
     "iopub.status.idle": "2021-06-02T02:59:01.740443Z",
     "shell.execute_reply": "2021-06-02T02:59:01.739263Z",
     "shell.execute_reply.started": "2021-06-02T02:59:01.723171Z"
    }
   },
   "outputs": [
    {
     "data": {
      "text/html": [
       "<div>\n",
       "<style scoped>\n",
       "    .dataframe tbody tr th:only-of-type {\n",
       "        vertical-align: middle;\n",
       "    }\n",
       "\n",
       "    .dataframe tbody tr th {\n",
       "        vertical-align: top;\n",
       "    }\n",
       "\n",
       "    .dataframe thead th {\n",
       "        text-align: right;\n",
       "    }\n",
       "</style>\n",
       "<table border=\"1\" class=\"dataframe\">\n",
       "  <thead>\n",
       "    <tr style=\"text-align: right;\">\n",
       "      <th></th>\n",
       "      <th>Restaurant_id</th>\n",
       "      <th>City</th>\n",
       "      <th>Cuisine Style</th>\n",
       "      <th>Ranking</th>\n",
       "      <th>Rating</th>\n",
       "      <th>Price Range</th>\n",
       "      <th>Number of Reviews</th>\n",
       "      <th>Reviews</th>\n",
       "      <th>URL_TA</th>\n",
       "      <th>ID_TA</th>\n",
       "    </tr>\n",
       "  </thead>\n",
       "  <tbody>\n",
       "    <tr>\n",
       "      <th>0</th>\n",
       "      <td>id_5569</td>\n",
       "      <td>Paris</td>\n",
       "      <td>['European', 'French', 'International']</td>\n",
       "      <td>5570.0</td>\n",
       "      <td>3.5</td>\n",
       "      <td>$$ - $$$</td>\n",
       "      <td>194.0</td>\n",
       "      <td>[['Good food at your doorstep', 'A good hotel ...</td>\n",
       "      <td>/Restaurant_Review-g187147-d1912643-Reviews-R_...</td>\n",
       "      <td>d1912643</td>\n",
       "    </tr>\n",
       "    <tr>\n",
       "      <th>1</th>\n",
       "      <td>id_1535</td>\n",
       "      <td>Stockholm</td>\n",
       "      <td>NaN</td>\n",
       "      <td>1537.0</td>\n",
       "      <td>4.0</td>\n",
       "      <td>NaN</td>\n",
       "      <td>10.0</td>\n",
       "      <td>[['Unique cuisine', 'Delicious Nepalese food']...</td>\n",
       "      <td>/Restaurant_Review-g189852-d7992032-Reviews-Bu...</td>\n",
       "      <td>d7992032</td>\n",
       "    </tr>\n",
       "    <tr>\n",
       "      <th>2</th>\n",
       "      <td>id_352</td>\n",
       "      <td>London</td>\n",
       "      <td>['Japanese', 'Sushi', 'Asian', 'Grill', 'Veget...</td>\n",
       "      <td>353.0</td>\n",
       "      <td>4.5</td>\n",
       "      <td>$$$$</td>\n",
       "      <td>688.0</td>\n",
       "      <td>[['Catch up with friends', 'Not exceptional'],...</td>\n",
       "      <td>/Restaurant_Review-g186338-d8632781-Reviews-RO...</td>\n",
       "      <td>d8632781</td>\n",
       "    </tr>\n",
       "    <tr>\n",
       "      <th>3</th>\n",
       "      <td>id_3456</td>\n",
       "      <td>Berlin</td>\n",
       "      <td>NaN</td>\n",
       "      <td>3458.0</td>\n",
       "      <td>5.0</td>\n",
       "      <td>NaN</td>\n",
       "      <td>3.0</td>\n",
       "      <td>[[], []]</td>\n",
       "      <td>/Restaurant_Review-g187323-d1358776-Reviews-Es...</td>\n",
       "      <td>d1358776</td>\n",
       "    </tr>\n",
       "    <tr>\n",
       "      <th>4</th>\n",
       "      <td>id_615</td>\n",
       "      <td>Munich</td>\n",
       "      <td>['German', 'Central European', 'Vegetarian Fri...</td>\n",
       "      <td>621.0</td>\n",
       "      <td>4.0</td>\n",
       "      <td>$$ - $$$</td>\n",
       "      <td>84.0</td>\n",
       "      <td>[['Best place to try a Bavarian food', 'Nice b...</td>\n",
       "      <td>/Restaurant_Review-g187309-d6864963-Reviews-Au...</td>\n",
       "      <td>d6864963</td>\n",
       "    </tr>\n",
       "  </tbody>\n",
       "</table>\n",
       "</div>"
      ],
      "text/plain": [
       "  Restaurant_id       City                                      Cuisine Style  \\\n",
       "0       id_5569      Paris            ['European', 'French', 'International']   \n",
       "1       id_1535  Stockholm                                                NaN   \n",
       "2        id_352     London  ['Japanese', 'Sushi', 'Asian', 'Grill', 'Veget...   \n",
       "3       id_3456     Berlin                                                NaN   \n",
       "4        id_615     Munich  ['German', 'Central European', 'Vegetarian Fri...   \n",
       "\n",
       "   Ranking  Rating Price Range  Number of Reviews  \\\n",
       "0   5570.0     3.5    $$ - $$$              194.0   \n",
       "1   1537.0     4.0         NaN               10.0   \n",
       "2    353.0     4.5        $$$$              688.0   \n",
       "3   3458.0     5.0         NaN                3.0   \n",
       "4    621.0     4.0    $$ - $$$               84.0   \n",
       "\n",
       "                                             Reviews  \\\n",
       "0  [['Good food at your doorstep', 'A good hotel ...   \n",
       "1  [['Unique cuisine', 'Delicious Nepalese food']...   \n",
       "2  [['Catch up with friends', 'Not exceptional'],...   \n",
       "3                                           [[], []]   \n",
       "4  [['Best place to try a Bavarian food', 'Nice b...   \n",
       "\n",
       "                                              URL_TA     ID_TA  \n",
       "0  /Restaurant_Review-g187147-d1912643-Reviews-R_...  d1912643  \n",
       "1  /Restaurant_Review-g189852-d7992032-Reviews-Bu...  d7992032  \n",
       "2  /Restaurant_Review-g186338-d8632781-Reviews-RO...  d8632781  \n",
       "3  /Restaurant_Review-g187323-d1358776-Reviews-Es...  d1358776  \n",
       "4  /Restaurant_Review-g187309-d6864963-Reviews-Au...  d6864963  "
      ]
     },
     "execution_count": 6,
     "metadata": {},
     "output_type": "execute_result"
    }
   ],
   "source": [
    "df_train.head(5)"
   ]
  },
  {
   "cell_type": "code",
   "execution_count": 7,
   "metadata": {
    "execution": {
     "iopub.execute_input": "2021-06-02T02:59:01.745213Z",
     "iopub.status.busy": "2021-06-02T02:59:01.744916Z",
     "iopub.status.idle": "2021-06-02T02:59:01.762717Z",
     "shell.execute_reply": "2021-06-02T02:59:01.761772Z",
     "shell.execute_reply.started": "2021-06-02T02:59:01.745165Z"
    }
   },
   "outputs": [
    {
     "name": "stdout",
     "output_type": "stream",
     "text": [
      "<class 'pandas.core.frame.DataFrame'>\n",
      "RangeIndex: 10000 entries, 0 to 9999\n",
      "Data columns (total 9 columns):\n",
      "Restaurant_id        10000 non-null object\n",
      "City                 10000 non-null object\n",
      "Cuisine Style        7693 non-null object\n",
      "Ranking              10000 non-null float64\n",
      "Price Range          6525 non-null object\n",
      "Number of Reviews    9343 non-null float64\n",
      "Reviews              9998 non-null object\n",
      "URL_TA               10000 non-null object\n",
      "ID_TA                10000 non-null object\n",
      "dtypes: float64(2), object(7)\n",
      "memory usage: 703.2+ KB\n"
     ]
    }
   ],
   "source": [
    "df_test.info()"
   ]
  },
  {
   "cell_type": "code",
   "execution_count": 8,
   "metadata": {
    "execution": {
     "iopub.execute_input": "2021-06-02T02:59:01.766413Z",
     "iopub.status.busy": "2021-06-02T02:59:01.766133Z",
     "iopub.status.idle": "2021-06-02T02:59:01.783721Z",
     "shell.execute_reply": "2021-06-02T02:59:01.782930Z",
     "shell.execute_reply.started": "2021-06-02T02:59:01.766364Z"
    }
   },
   "outputs": [
    {
     "data": {
      "text/html": [
       "<div>\n",
       "<style scoped>\n",
       "    .dataframe tbody tr th:only-of-type {\n",
       "        vertical-align: middle;\n",
       "    }\n",
       "\n",
       "    .dataframe tbody tr th {\n",
       "        vertical-align: top;\n",
       "    }\n",
       "\n",
       "    .dataframe thead th {\n",
       "        text-align: right;\n",
       "    }\n",
       "</style>\n",
       "<table border=\"1\" class=\"dataframe\">\n",
       "  <thead>\n",
       "    <tr style=\"text-align: right;\">\n",
       "      <th></th>\n",
       "      <th>Restaurant_id</th>\n",
       "      <th>City</th>\n",
       "      <th>Cuisine Style</th>\n",
       "      <th>Ranking</th>\n",
       "      <th>Price Range</th>\n",
       "      <th>Number of Reviews</th>\n",
       "      <th>Reviews</th>\n",
       "      <th>URL_TA</th>\n",
       "      <th>ID_TA</th>\n",
       "    </tr>\n",
       "  </thead>\n",
       "  <tbody>\n",
       "    <tr>\n",
       "      <th>0</th>\n",
       "      <td>id_0</td>\n",
       "      <td>Paris</td>\n",
       "      <td>['Bar', 'Pub']</td>\n",
       "      <td>12963.0</td>\n",
       "      <td>$$ - $$$</td>\n",
       "      <td>4.0</td>\n",
       "      <td>[[], []]</td>\n",
       "      <td>/Restaurant_Review-g187147-d10746918-Reviews-L...</td>\n",
       "      <td>d10746918</td>\n",
       "    </tr>\n",
       "    <tr>\n",
       "      <th>1</th>\n",
       "      <td>id_1</td>\n",
       "      <td>Helsinki</td>\n",
       "      <td>['European', 'Scandinavian', 'Gluten Free Opti...</td>\n",
       "      <td>106.0</td>\n",
       "      <td>$$ - $$$</td>\n",
       "      <td>97.0</td>\n",
       "      <td>[['Very good reviews!', 'Fine dining in Hakani...</td>\n",
       "      <td>/Restaurant_Review-g189934-d6674944-Reviews-Ra...</td>\n",
       "      <td>d6674944</td>\n",
       "    </tr>\n",
       "    <tr>\n",
       "      <th>2</th>\n",
       "      <td>id_2</td>\n",
       "      <td>Edinburgh</td>\n",
       "      <td>['Vegetarian Friendly']</td>\n",
       "      <td>810.0</td>\n",
       "      <td>$$ - $$$</td>\n",
       "      <td>28.0</td>\n",
       "      <td>[['Better than the Links', 'Ivy Black'], ['12/...</td>\n",
       "      <td>/Restaurant_Review-g186525-d13129638-Reviews-B...</td>\n",
       "      <td>d13129638</td>\n",
       "    </tr>\n",
       "    <tr>\n",
       "      <th>3</th>\n",
       "      <td>id_3</td>\n",
       "      <td>London</td>\n",
       "      <td>['Italian', 'Mediterranean', 'European', 'Vege...</td>\n",
       "      <td>1669.0</td>\n",
       "      <td>$$$$</td>\n",
       "      <td>202.0</td>\n",
       "      <td>[['Most exquisite', 'Delicious and authentic']...</td>\n",
       "      <td>/Restaurant_Review-g186338-d680417-Reviews-Qui...</td>\n",
       "      <td>d680417</td>\n",
       "    </tr>\n",
       "    <tr>\n",
       "      <th>4</th>\n",
       "      <td>id_4</td>\n",
       "      <td>Bratislava</td>\n",
       "      <td>['Italian', 'Mediterranean', 'European', 'Seaf...</td>\n",
       "      <td>37.0</td>\n",
       "      <td>$$$$</td>\n",
       "      <td>162.0</td>\n",
       "      <td>[['Always the best in bratislava', 'Very good ...</td>\n",
       "      <td>/Restaurant_Review-g274924-d1112354-Reviews-Ma...</td>\n",
       "      <td>d1112354</td>\n",
       "    </tr>\n",
       "  </tbody>\n",
       "</table>\n",
       "</div>"
      ],
      "text/plain": [
       "  Restaurant_id        City  \\\n",
       "0          id_0       Paris   \n",
       "1          id_1    Helsinki   \n",
       "2          id_2   Edinburgh   \n",
       "3          id_3      London   \n",
       "4          id_4  Bratislava   \n",
       "\n",
       "                                       Cuisine Style  Ranking Price Range  \\\n",
       "0                                     ['Bar', 'Pub']  12963.0    $$ - $$$   \n",
       "1  ['European', 'Scandinavian', 'Gluten Free Opti...    106.0    $$ - $$$   \n",
       "2                            ['Vegetarian Friendly']    810.0    $$ - $$$   \n",
       "3  ['Italian', 'Mediterranean', 'European', 'Vege...   1669.0        $$$$   \n",
       "4  ['Italian', 'Mediterranean', 'European', 'Seaf...     37.0        $$$$   \n",
       "\n",
       "   Number of Reviews                                            Reviews  \\\n",
       "0                4.0                                           [[], []]   \n",
       "1               97.0  [['Very good reviews!', 'Fine dining in Hakani...   \n",
       "2               28.0  [['Better than the Links', 'Ivy Black'], ['12/...   \n",
       "3              202.0  [['Most exquisite', 'Delicious and authentic']...   \n",
       "4              162.0  [['Always the best in bratislava', 'Very good ...   \n",
       "\n",
       "                                              URL_TA      ID_TA  \n",
       "0  /Restaurant_Review-g187147-d10746918-Reviews-L...  d10746918  \n",
       "1  /Restaurant_Review-g189934-d6674944-Reviews-Ra...   d6674944  \n",
       "2  /Restaurant_Review-g186525-d13129638-Reviews-B...  d13129638  \n",
       "3  /Restaurant_Review-g186338-d680417-Reviews-Qui...    d680417  \n",
       "4  /Restaurant_Review-g274924-d1112354-Reviews-Ma...   d1112354  "
      ]
     },
     "execution_count": 8,
     "metadata": {},
     "output_type": "execute_result"
    }
   ],
   "source": [
    "df_test.head(5)"
   ]
  },
  {
   "cell_type": "code",
   "execution_count": 9,
   "metadata": {
    "execution": {
     "iopub.execute_input": "2021-06-02T02:59:01.784829Z",
     "iopub.status.busy": "2021-06-02T02:59:01.784612Z",
     "iopub.status.idle": "2021-06-02T02:59:01.795730Z",
     "shell.execute_reply": "2021-06-02T02:59:01.794697Z",
     "shell.execute_reply.started": "2021-06-02T02:59:01.784796Z"
    }
   },
   "outputs": [
    {
     "data": {
      "text/html": [
       "<div>\n",
       "<style scoped>\n",
       "    .dataframe tbody tr th:only-of-type {\n",
       "        vertical-align: middle;\n",
       "    }\n",
       "\n",
       "    .dataframe tbody tr th {\n",
       "        vertical-align: top;\n",
       "    }\n",
       "\n",
       "    .dataframe thead th {\n",
       "        text-align: right;\n",
       "    }\n",
       "</style>\n",
       "<table border=\"1\" class=\"dataframe\">\n",
       "  <thead>\n",
       "    <tr style=\"text-align: right;\">\n",
       "      <th></th>\n",
       "      <th>Restaurant_id</th>\n",
       "      <th>Rating</th>\n",
       "    </tr>\n",
       "  </thead>\n",
       "  <tbody>\n",
       "    <tr>\n",
       "      <th>0</th>\n",
       "      <td>id_0</td>\n",
       "      <td>2.0</td>\n",
       "    </tr>\n",
       "    <tr>\n",
       "      <th>1</th>\n",
       "      <td>id_1</td>\n",
       "      <td>2.5</td>\n",
       "    </tr>\n",
       "    <tr>\n",
       "      <th>2</th>\n",
       "      <td>id_2</td>\n",
       "      <td>4.0</td>\n",
       "    </tr>\n",
       "    <tr>\n",
       "      <th>3</th>\n",
       "      <td>id_3</td>\n",
       "      <td>1.0</td>\n",
       "    </tr>\n",
       "    <tr>\n",
       "      <th>4</th>\n",
       "      <td>id_4</td>\n",
       "      <td>4.0</td>\n",
       "    </tr>\n",
       "  </tbody>\n",
       "</table>\n",
       "</div>"
      ],
      "text/plain": [
       "  Restaurant_id  Rating\n",
       "0          id_0     2.0\n",
       "1          id_1     2.5\n",
       "2          id_2     4.0\n",
       "3          id_3     1.0\n",
       "4          id_4     4.0"
      ]
     },
     "execution_count": 9,
     "metadata": {},
     "output_type": "execute_result"
    }
   ],
   "source": [
    "sample_submission.head(5)"
   ]
  },
  {
   "cell_type": "code",
   "execution_count": 10,
   "metadata": {
    "execution": {
     "iopub.execute_input": "2021-06-02T02:59:01.797390Z",
     "iopub.status.busy": "2021-06-02T02:59:01.797086Z",
     "iopub.status.idle": "2021-06-02T02:59:01.811262Z",
     "shell.execute_reply": "2021-06-02T02:59:01.810171Z",
     "shell.execute_reply.started": "2021-06-02T02:59:01.797343Z"
    }
   },
   "outputs": [
    {
     "name": "stdout",
     "output_type": "stream",
     "text": [
      "<class 'pandas.core.frame.DataFrame'>\n",
      "RangeIndex: 10000 entries, 0 to 9999\n",
      "Data columns (total 2 columns):\n",
      "Restaurant_id    10000 non-null object\n",
      "Rating           10000 non-null float64\n",
      "dtypes: float64(1), object(1)\n",
      "memory usage: 156.4+ KB\n"
     ]
    }
   ],
   "source": [
    "sample_submission.info()"
   ]
  },
  {
   "cell_type": "code",
   "execution_count": 11,
   "metadata": {
    "execution": {
     "iopub.execute_input": "2021-06-02T02:59:01.812371Z",
     "iopub.status.busy": "2021-06-02T02:59:01.812135Z",
     "iopub.status.idle": "2021-06-02T02:59:01.854222Z",
     "shell.execute_reply": "2021-06-02T02:59:01.853186Z",
     "shell.execute_reply.started": "2021-06-02T02:59:01.812330Z"
    }
   },
   "outputs": [],
   "source": [
    "# ВАЖНО! дря корректной обработки признаков объединяем трейн и тест в один датасет\n",
    "df_train['sample'] = 1 # помечаем где у нас трейн\n",
    "df_test['sample'] = 0 # помечаем где у нас тест\n",
    "df_test['Rating'] = 0 # в тесте у нас нет значения Rating, мы его должны предсказать, по этому пока просто заполняем нулями\n",
    "\n",
    "data = df_test.append(df_train, sort=False).reset_index(drop=True) # объединяем"
   ]
  },
  {
   "cell_type": "code",
   "execution_count": 12,
   "metadata": {
    "execution": {
     "iopub.execute_input": "2021-06-02T02:59:01.856187Z",
     "iopub.status.busy": "2021-06-02T02:59:01.855794Z",
     "iopub.status.idle": "2021-06-02T02:59:01.909612Z",
     "shell.execute_reply": "2021-06-02T02:59:01.908934Z",
     "shell.execute_reply.started": "2021-06-02T02:59:01.856029Z"
    }
   },
   "outputs": [
    {
     "name": "stdout",
     "output_type": "stream",
     "text": [
      "<class 'pandas.core.frame.DataFrame'>\n",
      "RangeIndex: 50000 entries, 0 to 49999\n",
      "Data columns (total 11 columns):\n",
      "Restaurant_id        50000 non-null object\n",
      "City                 50000 non-null object\n",
      "Cuisine Style        38410 non-null object\n",
      "Ranking              50000 non-null float64\n",
      "Price Range          32639 non-null object\n",
      "Number of Reviews    46800 non-null float64\n",
      "Reviews              49998 non-null object\n",
      "URL_TA               50000 non-null object\n",
      "ID_TA                50000 non-null object\n",
      "sample               50000 non-null int64\n",
      "Rating               50000 non-null float64\n",
      "dtypes: float64(3), int64(1), object(7)\n",
      "memory usage: 4.2+ MB\n"
     ]
    }
   ],
   "source": [
    "data.info()\n",
    "data.sample(1)\n",
    "data_for_changes=data.copy()"
   ]
  },
  {
   "cell_type": "markdown",
   "metadata": {},
   "source": [
    "Подробнее по признакам:\n",
    "* City: Город \n",
    "* Cuisine Style: Кухня\n",
    "* Ranking: Ранг ресторана относительно других ресторанов в этом городе\n",
    "* Price Range: Цены в ресторане в 3 категориях\n",
    "* Number of Reviews: Количество отзывов\n",
    "* Reviews: 2 последних отзыва и даты этих отзывов\n",
    "* URL_TA: страница ресторана на 'www.tripadvisor.com' \n",
    "* ID_TA: ID ресторана в TripAdvisor\n",
    "* Rating: Рейтинг ресторана"
   ]
  },
  {
   "cell_type": "code",
   "execution_count": 13,
   "metadata": {
    "execution": {
     "iopub.execute_input": "2021-06-02T02:59:01.910886Z",
     "iopub.status.busy": "2021-06-02T02:59:01.910535Z",
     "iopub.status.idle": "2021-06-02T02:59:01.930580Z",
     "shell.execute_reply": "2021-06-02T02:59:01.929919Z",
     "shell.execute_reply.started": "2021-06-02T02:59:01.910848Z"
    }
   },
   "outputs": [
    {
     "data": {
      "text/html": [
       "<div>\n",
       "<style scoped>\n",
       "    .dataframe tbody tr th:only-of-type {\n",
       "        vertical-align: middle;\n",
       "    }\n",
       "\n",
       "    .dataframe tbody tr th {\n",
       "        vertical-align: top;\n",
       "    }\n",
       "\n",
       "    .dataframe thead th {\n",
       "        text-align: right;\n",
       "    }\n",
       "</style>\n",
       "<table border=\"1\" class=\"dataframe\">\n",
       "  <thead>\n",
       "    <tr style=\"text-align: right;\">\n",
       "      <th></th>\n",
       "      <th>Restaurant_id</th>\n",
       "      <th>City</th>\n",
       "      <th>Cuisine Style</th>\n",
       "      <th>Ranking</th>\n",
       "      <th>Price Range</th>\n",
       "      <th>Number of Reviews</th>\n",
       "      <th>Reviews</th>\n",
       "      <th>URL_TA</th>\n",
       "      <th>ID_TA</th>\n",
       "      <th>sample</th>\n",
       "      <th>Rating</th>\n",
       "    </tr>\n",
       "  </thead>\n",
       "  <tbody>\n",
       "    <tr>\n",
       "      <th>14691</th>\n",
       "      <td>id_5271</td>\n",
       "      <td>Paris</td>\n",
       "      <td>['French', 'Bar', 'Pub']</td>\n",
       "      <td>5272.0</td>\n",
       "      <td>$$ - $$$</td>\n",
       "      <td>86.0</td>\n",
       "      <td>[['Fab find', 'Friendly bar - good food'], ['0...</td>\n",
       "      <td>/Restaurant_Review-g187147-d8762711-Reviews-Le...</td>\n",
       "      <td>d8762711</td>\n",
       "      <td>1</td>\n",
       "      <td>4.0</td>\n",
       "    </tr>\n",
       "  </tbody>\n",
       "</table>\n",
       "</div>"
      ],
      "text/plain": [
       "      Restaurant_id   City             Cuisine Style  Ranking Price Range  \\\n",
       "14691       id_5271  Paris  ['French', 'Bar', 'Pub']   5272.0    $$ - $$$   \n",
       "\n",
       "       Number of Reviews                                            Reviews  \\\n",
       "14691               86.0  [['Fab find', 'Friendly bar - good food'], ['0...   \n",
       "\n",
       "                                                  URL_TA     ID_TA  sample  \\\n",
       "14691  /Restaurant_Review-g187147-d8762711-Reviews-Le...  d8762711       1   \n",
       "\n",
       "       Rating  \n",
       "14691     4.0  "
      ]
     },
     "execution_count": 13,
     "metadata": {},
     "output_type": "execute_result"
    }
   ],
   "source": [
    "data.sample(5)\n",
    "data_for_changes.sample(1)"
   ]
  },
  {
   "cell_type": "code",
   "execution_count": 14,
   "metadata": {
    "execution": {
     "iopub.execute_input": "2021-06-02T02:59:01.931821Z",
     "iopub.status.busy": "2021-06-02T02:59:01.931478Z",
     "iopub.status.idle": "2021-06-02T02:59:01.938036Z",
     "shell.execute_reply": "2021-06-02T02:59:01.937122Z",
     "shell.execute_reply.started": "2021-06-02T02:59:01.931786Z"
    }
   },
   "outputs": [
    {
     "data": {
      "text/plain": [
       "\"[['Very good reviews!', 'Fine dining in Hakaniemi'], ['12/05/2017', '10/29/2017']]\""
      ]
     },
     "execution_count": 14,
     "metadata": {},
     "output_type": "execute_result"
    }
   ],
   "source": [
    "data.Reviews[1]"
   ]
  },
  {
   "cell_type": "markdown",
   "metadata": {},
   "source": [
    "Как видим, большинство признаков у нас требует очистки и предварительной обработки."
   ]
  },
  {
   "cell_type": "markdown",
   "metadata": {},
   "source": [
    "# Cleaning and Prepping Data\n",
    "Обычно данные содержат в себе кучу мусора, который необходимо почистить, для того чтобы привести их в приемлемый формат. Чистка данных — это необходимый этап решения почти любой реальной задачи.   \n"
   ]
  },
  {
   "cell_type": "markdown",
   "metadata": {},
   "source": [
    "## 1. Обработка NAN \n",
    "У наличия пропусков могут быть разные причины, но пропуски нужно либо заполнить, либо исключить из набора полностью. Но с пропусками нужно быть внимательным, **даже отсутствие информации может быть важным признаком!**   \n",
    "По этому перед обработкой NAN лучше вынести информацию о наличии пропуска как отдельный признак "
   ]
  },
  {
   "cell_type": "code",
   "execution_count": 15,
   "metadata": {
    "execution": {
     "iopub.execute_input": "2021-06-02T02:59:01.939768Z",
     "iopub.status.busy": "2021-06-02T02:59:01.939358Z",
     "iopub.status.idle": "2021-06-02T02:59:02.270490Z",
     "shell.execute_reply": "2021-06-02T02:59:02.269540Z",
     "shell.execute_reply.started": "2021-06-02T02:59:01.939692Z"
    }
   },
   "outputs": [],
   "source": [
    "# Количество отзывов\n",
    "data['isNAN'] = pd.isna(data['Number of Reviews']).astype('uint8')\n",
    "# заполняем пропуски средним по городу\n",
    "mean = data.groupby('City')['Number of Reviews'].mean()\n",
    "data['Number_of_Reviews'] = data[data['isNAN'] > 0].City.apply(lambda x: round(mean).loc[x])\n",
    "data['Number of Reviews'].fillna(0, inplace=True)\n",
    "data['Number_of_Reviews'].fillna(0, inplace=True)\n",
    "data['Number of Reviews'] = data['Number of Reviews'] + data['Number_of_Reviews']\n",
    "data.drop(['Number_of_Reviews'], axis = 1, inplace = True)"
   ]
  },
  {
   "cell_type": "markdown",
   "metadata": {},
   "source": [
    "### 2. Обработка признаков\n",
    "Для начала посмотрим какие признаки у нас могут быть категориальными."
   ]
  },
  {
   "cell_type": "code",
   "execution_count": 16,
   "metadata": {
    "execution": {
     "iopub.execute_input": "2021-06-02T02:59:02.272074Z",
     "iopub.status.busy": "2021-06-02T02:59:02.271798Z",
     "iopub.status.idle": "2021-06-02T02:59:02.368289Z",
     "shell.execute_reply": "2021-06-02T02:59:02.367248Z",
     "shell.execute_reply.started": "2021-06-02T02:59:02.272026Z"
    }
   },
   "outputs": [
    {
     "data": {
      "text/plain": [
       "Restaurant_id        13094\n",
       "City                    31\n",
       "Cuisine Style        10732\n",
       "Ranking              12975\n",
       "Price Range              4\n",
       "Number of Reviews     1573\n",
       "Reviews              41858\n",
       "URL_TA               49963\n",
       "ID_TA                49963\n",
       "sample                   2\n",
       "Rating                  10\n",
       "isNAN                    2\n",
       "dtype: int64"
      ]
     },
     "execution_count": 16,
     "metadata": {},
     "output_type": "execute_result"
    }
   ],
   "source": [
    "data.nunique(dropna=False)"
   ]
  },
  {
   "cell_type": "markdown",
   "metadata": {},
   "source": [
    "Для кодирования категориальных признаков есть множество подходов:\n",
    "* Label Encoding\n",
    "* One-Hot Encoding\n",
    "* Target Encoding\n",
    "* Hashing\n",
    "\n"
   ]
  },
  {
   "cell_type": "markdown",
   "metadata": {},
   "source": [
    " ### признак \"Price Range\""
   ]
  },
  {
   "cell_type": "code",
   "execution_count": 17,
   "metadata": {
    "execution": {
     "iopub.execute_input": "2021-06-02T02:59:02.369822Z",
     "iopub.status.busy": "2021-06-02T02:59:02.369502Z",
     "iopub.status.idle": "2021-06-02T02:59:02.391719Z",
     "shell.execute_reply": "2021-06-02T02:59:02.390678Z",
     "shell.execute_reply.started": "2021-06-02T02:59:02.369735Z"
    }
   },
   "outputs": [
    {
     "data": {
      "text/plain": [
       "array(['$$ - $$$', '$$$$', '$', nan], dtype=object)"
      ]
     },
     "metadata": {},
     "output_type": "display_data"
    },
    {
     "data": {
      "text/plain": [
       "$$ - $$$    23041\n",
       "$            7816\n",
       "$$$$         1782\n",
       "Name: Price Range, dtype: int64"
      ]
     },
     "execution_count": 17,
     "metadata": {},
     "output_type": "execute_result"
    }
   ],
   "source": [
    "display(data['Price Range'].unique())\n",
    "data['Price Range'].value_counts()"
   ]
  },
  {
   "cell_type": "code",
   "execution_count": 18,
   "metadata": {
    "execution": {
     "iopub.execute_input": "2021-06-02T02:59:02.393721Z",
     "iopub.status.busy": "2021-06-02T02:59:02.393345Z",
     "iopub.status.idle": "2021-06-02T02:59:02.859149Z",
     "shell.execute_reply": "2021-06-02T02:59:02.858342Z",
     "shell.execute_reply.started": "2021-06-02T02:59:02.393654Z"
    }
   },
   "outputs": [],
   "source": [
    "# признак \"Price Range\"\n",
    "data['isNAN'] = pd.isna(data['Price Range']).astype('uint8')\n",
    "price_dict = {\"$$$$\": 3, \"$$ - $$$\": 2, \"$\": 1}\n",
    "data['Price Range'] = data['Price Range'].replace(to_replace=price_dict)\n",
    "# заполняем пропуски средним по городу\n",
    "median = data.groupby('City')['Price Range'].median()\n",
    "data['Price_Range'] = data[data['isNAN'] > 0].City.apply(lambda x: median.loc[x])\n",
    "data['Price Range'].fillna(0, inplace=True)\n",
    "data['Price_Range'].fillna(0, inplace=True)\n",
    "data['Price Range'] = data['Price Range'] + data['Price_Range']\n",
    "data.drop(['Price_Range'], axis = 1, inplace = True)"
   ]
  },
  {
   "cell_type": "code",
   "execution_count": 19,
   "metadata": {
    "execution": {
     "iopub.execute_input": "2021-06-02T02:59:02.860618Z",
     "iopub.status.busy": "2021-06-02T02:59:02.860245Z",
     "iopub.status.idle": "2021-06-02T02:59:02.871714Z",
     "shell.execute_reply": "2021-06-02T02:59:02.870724Z",
     "shell.execute_reply.started": "2021-06-02T02:59:02.860569Z"
    }
   },
   "outputs": [
    {
     "data": {
      "text/plain": [
       "array([2., 3., 1.])"
      ]
     },
     "metadata": {},
     "output_type": "display_data"
    },
    {
     "data": {
      "text/plain": [
       "2.0    40402\n",
       "1.0     7816\n",
       "3.0     1782\n",
       "Name: Price Range, dtype: int64"
      ]
     },
     "execution_count": 19,
     "metadata": {},
     "output_type": "execute_result"
    }
   ],
   "source": [
    "display(data['Price Range'].unique())\n",
    "data['Price Range'].value_counts()"
   ]
  },
  {
   "cell_type": "code",
   "execution_count": 20,
   "metadata": {
    "execution": {
     "iopub.execute_input": "2021-06-02T02:59:02.873742Z",
     "iopub.status.busy": "2021-06-02T02:59:02.873285Z",
     "iopub.status.idle": "2021-06-02T02:59:02.904081Z",
     "shell.execute_reply": "2021-06-02T02:59:02.903231Z",
     "shell.execute_reply.started": "2021-06-02T02:59:02.873540Z"
    }
   },
   "outputs": [
    {
     "name": "stdout",
     "output_type": "stream",
     "text": [
      "<class 'pandas.core.frame.DataFrame'>\n",
      "RangeIndex: 50000 entries, 0 to 49999\n",
      "Data columns (total 12 columns):\n",
      "Restaurant_id        50000 non-null object\n",
      "City                 50000 non-null object\n",
      "Cuisine Style        38410 non-null object\n",
      "Ranking              50000 non-null float64\n",
      "Price Range          50000 non-null float64\n",
      "Number of Reviews    50000 non-null float64\n",
      "Reviews              49998 non-null object\n",
      "URL_TA               50000 non-null object\n",
      "ID_TA                50000 non-null object\n",
      "sample               50000 non-null int64\n",
      "Rating               50000 non-null float64\n",
      "isNAN                50000 non-null uint8\n",
      "dtypes: float64(4), int64(1), object(6), uint8(1)\n",
      "memory usage: 4.2+ MB\n"
     ]
    }
   ],
   "source": [
    "data.info()\n"
   ]
  },
  {
   "cell_type": "code",
   "execution_count": 21,
   "metadata": {
    "execution": {
     "iopub.execute_input": "2021-06-02T02:59:02.906234Z",
     "iopub.status.busy": "2021-06-02T02:59:02.905543Z",
     "iopub.status.idle": "2021-06-02T02:59:02.910528Z",
     "shell.execute_reply": "2021-06-02T02:59:02.909928Z",
     "shell.execute_reply.started": "2021-06-02T02:59:02.905908Z"
    }
   },
   "outputs": [
    {
     "data": {
      "text/plain": [
       "\"['Bar', 'Pub']\""
      ]
     },
     "execution_count": 21,
     "metadata": {},
     "output_type": "execute_result"
    }
   ],
   "source": [
    "# Cuisine Style: Кухня\n",
    "data.loc[0, 'Cuisine Style']"
   ]
  },
  {
   "cell_type": "code",
   "execution_count": 22,
   "metadata": {
    "execution": {
     "iopub.execute_input": "2021-06-02T02:59:02.912016Z",
     "iopub.status.busy": "2021-06-02T02:59:02.911564Z",
     "iopub.status.idle": "2021-06-02T02:59:03.028018Z",
     "shell.execute_reply": "2021-06-02T02:59:03.027127Z",
     "shell.execute_reply.started": "2021-06-02T02:59:02.911974Z"
    }
   },
   "outputs": [],
   "source": [
    "# посчитаем количество представленных кухонь, если значение пустое, то кухня одна\n",
    "def modify_cuisine_style(value):\n",
    "    if pd.isnull(value):\n",
    "        return []\n",
    "    else:\n",
    "        result = value.replace('[', '')\n",
    "        result = result.replace(']', '')\n",
    "        result = result.replace(', ', ',')\n",
    "        return result.split(\",\")\n",
    "\n",
    "data['Cuisine Style'] = data['Cuisine Style'].apply(modify_cuisine_style)\n",
    "data['Cuisine_Style'] = data['Cuisine Style'].apply(lambda x: 1 if len(x)==0 else len(x))"
   ]
  },
  {
   "cell_type": "code",
   "execution_count": 23,
   "metadata": {
    "execution": {
     "iopub.execute_input": "2021-06-02T02:59:03.029664Z",
     "iopub.status.busy": "2021-06-02T02:59:03.029254Z",
     "iopub.status.idle": "2021-06-02T02:59:03.075131Z",
     "shell.execute_reply": "2021-06-02T02:59:03.074174Z",
     "shell.execute_reply.started": "2021-06-02T02:59:03.029624Z"
    }
   },
   "outputs": [
    {
     "name": "stdout",
     "output_type": "stream",
     "text": [
      "<class 'pandas.core.frame.DataFrame'>\n",
      "RangeIndex: 50000 entries, 0 to 49999\n",
      "Data columns (total 13 columns):\n",
      "Restaurant_id        50000 non-null object\n",
      "City                 50000 non-null object\n",
      "Cuisine Style        50000 non-null object\n",
      "Ranking              50000 non-null float64\n",
      "Price Range          50000 non-null float64\n",
      "Number of Reviews    50000 non-null float64\n",
      "Reviews              49998 non-null object\n",
      "URL_TA               50000 non-null object\n",
      "ID_TA                50000 non-null object\n",
      "sample               50000 non-null int64\n",
      "Rating               50000 non-null float64\n",
      "isNAN                50000 non-null uint8\n",
      "Cuisine_Style        50000 non-null int64\n",
      "dtypes: float64(4), int64(2), object(6), uint8(1)\n",
      "memory usage: 4.6+ MB\n"
     ]
    },
    {
     "data": {
      "text/plain": [
       "id_871      19\n",
       "id_633      19\n",
       "id_436      19\n",
       "id_227      19\n",
       "id_585      18\n",
       "            ..\n",
       "id_15128     1\n",
       "id_15276     1\n",
       "id_9031      1\n",
       "id_11802     1\n",
       "id_6906      1\n",
       "Name: Restaurant_id, Length: 13094, dtype: int64"
      ]
     },
     "execution_count": 23,
     "metadata": {},
     "output_type": "execute_result"
    }
   ],
   "source": [
    "data.info()\n",
    "data.Restaurant_id.value_counts()"
   ]
  },
  {
   "cell_type": "code",
   "execution_count": 24,
   "metadata": {
    "execution": {
     "iopub.execute_input": "2021-06-02T02:59:03.076957Z",
     "iopub.status.busy": "2021-06-02T02:59:03.076676Z",
     "iopub.status.idle": "2021-06-02T02:59:03.120576Z",
     "shell.execute_reply": "2021-06-02T02:59:03.119548Z",
     "shell.execute_reply.started": "2021-06-02T02:59:03.076902Z"
    }
   },
   "outputs": [],
   "source": [
    "# для One-Hot Encoding в pandas есть готовая функция - get_dummies. Особенно радует параметр dummy_na\n",
    "data['city']=data['City'].copy()\n",
    "data = pd.get_dummies(data, columns=[ 'city',], dummy_na=True)"
   ]
  },
  {
   "cell_type": "code",
   "execution_count": 25,
   "metadata": {
    "execution": {
     "iopub.execute_input": "2021-06-02T02:59:03.122111Z",
     "iopub.status.busy": "2021-06-02T02:59:03.121848Z",
     "iopub.status.idle": "2021-06-02T02:59:03.125563Z",
     "shell.execute_reply": "2021-06-02T02:59:03.124883Z",
     "shell.execute_reply.started": "2021-06-02T02:59:03.122064Z"
    }
   },
   "outputs": [],
   "source": [
    "#data_city.sample(2)"
   ]
  },
  {
   "cell_type": "markdown",
   "metadata": {},
   "source": [
    "> Для некоторых алгоритмов МЛ даже для не категориальных признаков можно применить One-Hot Encoding, и это может улучшить качество модели. Пробуйте разные подходы к кодированию признака - никто не знает заранее, что может взлететь."
   ]
  },
  {
   "cell_type": "markdown",
   "metadata": {},
   "source": [
    "# EDA \n",
    "Анализ данных\n",
    "На этом этапе мы строим графики, ищем закономерности, аномалии, выбросы или связи между признаками.\n",
    "В общем цель этого этапа понять, что эти данные могут нам дать и как признаки могут быть взаимосвязаны между собой.\n",
    "Понимание изначальных признаков позволит сгенерировать новые, более сильные и, тем самым, сделать нашу модель лучше.\n"
   ]
  },
  {
   "cell_type": "markdown",
   "metadata": {},
   "source": [
    "### Посмотрим распределение признака"
   ]
  },
  {
   "cell_type": "code",
   "execution_count": 26,
   "metadata": {
    "execution": {
     "iopub.execute_input": "2021-06-02T02:59:03.127148Z",
     "iopub.status.busy": "2021-06-02T02:59:03.126885Z",
     "iopub.status.idle": "2021-06-02T02:59:03.554771Z",
     "shell.execute_reply": "2021-06-02T02:59:03.553945Z",
     "shell.execute_reply.started": "2021-06-02T02:59:03.127098Z"
    }
   },
   "outputs": [
    {
     "data": {
      "text/plain": [
       "<matplotlib.axes._subplots.AxesSubplot at 0x7f44f1ccd7f0>"
      ]
     },
     "execution_count": 26,
     "metadata": {},
     "output_type": "execute_result"
    },
    {
     "data": {
      "image/png": "[encoded data removed]",
      "text/plain": [
       "<Figure size 720x504 with 1 Axes>"
      ]
     },
     "metadata": {
      "needs_background": "light"
     },
     "output_type": "display_data"
    }
   ],
   "source": [
    "plt.rcParams['figure.figsize'] = (10,7)\n",
    "df_train['Ranking'].hist(bins=100)"
   ]
  },
  {
   "cell_type": "markdown",
   "metadata": {},
   "source": [
    "У нас много ресторанов, которые не дотягивают и до 2500 места в своем городе, а что там по городам?"
   ]
  },
  {
   "cell_type": "code",
   "execution_count": 27,
   "metadata": {
    "execution": {
     "iopub.execute_input": "2021-06-02T02:59:03.556464Z",
     "iopub.status.busy": "2021-06-02T02:59:03.556192Z",
     "iopub.status.idle": "2021-06-02T02:59:03.979333Z",
     "shell.execute_reply": "2021-06-02T02:59:03.978654Z",
     "shell.execute_reply.started": "2021-06-02T02:59:03.556410Z"
    }
   },
   "outputs": [
    {
     "data": {
      "text/plain": [
       "<matplotlib.axes._subplots.AxesSubplot at 0x7f44d72d3080>"
      ]
     },
     "execution_count": 27,
     "metadata": {},
     "output_type": "execute_result"
    },
    {
     "data": {
      "image/png": "[encoded data removed]",
      "text/plain": [
       "<Figure size 720x504 with 1 Axes>"
      ]
     },
     "metadata": {
      "needs_background": "light"
     },
     "output_type": "display_data"
    }
   ],
   "source": [
    "df_train['City'].value_counts(ascending=True).plot(kind='barh')"
   ]
  },
  {
   "cell_type": "markdown",
   "metadata": {},
   "source": [
    "А кто-то говорил, что французы любят поесть=) Посмотрим, как изменится распределение в большом городе:"
   ]
  },
  {
   "cell_type": "code",
   "execution_count": 28,
   "metadata": {
    "execution": {
     "iopub.execute_input": "2021-06-02T02:59:03.980911Z",
     "iopub.status.busy": "2021-06-02T02:59:03.980475Z",
     "iopub.status.idle": "2021-06-02T02:59:04.767402Z",
     "shell.execute_reply": "2021-06-02T02:59:04.766236Z",
     "shell.execute_reply.started": "2021-06-02T02:59:03.980869Z"
    }
   },
   "outputs": [
    {
     "data": {
      "text/plain": [
       "<matplotlib.axes._subplots.AxesSubplot at 0x7f44d59dcb70>"
      ]
     },
     "execution_count": 28,
     "metadata": {},
     "output_type": "execute_result"
    },
    {
     "data": {
      "image/png": "[encoded data removed]",
      "text/plain": [
       "<Figure size 720x504 with 1 Axes>"
      ]
     },
     "metadata": {
      "needs_background": "light"
     },
     "output_type": "display_data"
    }
   ],
   "source": [
    "df_train['Ranking'][df_train['City'] =='London'].hist(bins=100)"
   ]
  },
  {
   "cell_type": "code",
   "execution_count": 29,
   "metadata": {
    "execution": {
     "iopub.execute_input": "2021-06-02T02:59:04.769315Z",
     "iopub.status.busy": "2021-06-02T02:59:04.768846Z",
     "iopub.status.idle": "2021-06-02T02:59:06.934146Z",
     "shell.execute_reply": "2021-06-02T02:59:06.932915Z",
     "shell.execute_reply.started": "2021-06-02T02:59:04.769066Z"
    }
   },
   "outputs": [
    {
     "data": {
      "image/png": "[encoded data removed]",
      "text/plain": [
       "<Figure size 720x504 with 1 Axes>"
      ]
     },
     "metadata": {
      "needs_background": "light"
     },
     "output_type": "display_data"
    }
   ],
   "source": [
    "# посмотрим на топ 10 городов\n",
    "for x in (df_train['City'].value_counts())[0:10].index:\n",
    "    df_train['Ranking'][df_train['City'] == x].hist(bins=100)\n",
    "plt.show()"
   ]
  },
  {
   "cell_type": "markdown",
   "metadata": {},
   "source": [
    "Получается, что Ranking имеет нормальное распределение, просто в больших городах больше ресторанов, из-за мы этого имеем смещение.\n",
    "\n",
    ">Подумайте как из этого можно сделать признак для вашей модели. Я покажу вам пример, как визуализация помогает находить взаимосвязи. А далее действуйте без подсказок =) \n"
   ]
  },
  {
   "cell_type": "markdown",
   "metadata": {},
   "source": [
    "### Посмотрим распределение целевой переменной"
   ]
  },
  {
   "cell_type": "code",
   "execution_count": 30,
   "metadata": {
    "execution": {
     "iopub.execute_input": "2021-06-02T02:59:06.936078Z",
     "iopub.status.busy": "2021-06-02T02:59:06.935767Z",
     "iopub.status.idle": "2021-06-02T02:59:07.198456Z",
     "shell.execute_reply": "2021-06-02T02:59:07.197218Z",
     "shell.execute_reply.started": "2021-06-02T02:59:06.936029Z"
    }
   },
   "outputs": [
    {
     "data": {
      "text/plain": [
       "<matplotlib.axes._subplots.AxesSubplot at 0x7f44d58150b8>"
      ]
     },
     "execution_count": 30,
     "metadata": {},
     "output_type": "execute_result"
    },
    {
     "data": {
      "image/png": "[encoded data removed]",
      "text/plain": [
       "<Figure size 720x504 with 1 Axes>"
      ]
     },
     "metadata": {
      "needs_background": "light"
     },
     "output_type": "display_data"
    }
   ],
   "source": [
    "df_train['Rating'].value_counts(ascending=True).plot(kind='barh')"
   ]
  },
  {
   "cell_type": "markdown",
   "metadata": {},
   "source": [
    "### Посмотрим распределение целевой переменной относительно признака"
   ]
  },
  {
   "cell_type": "code",
   "execution_count": 31,
   "metadata": {
    "execution": {
     "iopub.execute_input": "2021-06-02T02:59:07.200339Z",
     "iopub.status.busy": "2021-06-02T02:59:07.199973Z",
     "iopub.status.idle": "2021-06-02T02:59:07.660917Z",
     "shell.execute_reply": "2021-06-02T02:59:07.659685Z",
     "shell.execute_reply.started": "2021-06-02T02:59:07.200281Z"
    }
   },
   "outputs": [
    {
     "data": {
      "text/plain": [
       "<matplotlib.axes._subplots.AxesSubplot at 0x7f44d4d499b0>"
      ]
     },
     "execution_count": 31,
     "metadata": {},
     "output_type": "execute_result"
    },
    {
     "data": {
      "image/png": "[encoded data removed]",
      "text/plain": [
       "<Figure size 720x504 with 1 Axes>"
      ]
     },
     "metadata": {
      "needs_background": "light"
     },
     "output_type": "display_data"
    }
   ],
   "source": [
    "df_train['Ranking'][df_train['Rating'] == 5].hist(bins=100)"
   ]
  },
  {
   "cell_type": "code",
   "execution_count": 32,
   "metadata": {
    "execution": {
     "iopub.execute_input": "2021-06-02T02:59:07.663157Z",
     "iopub.status.busy": "2021-06-02T02:59:07.662773Z",
     "iopub.status.idle": "2021-06-02T02:59:08.301138Z",
     "shell.execute_reply": "2021-06-02T02:59:08.300088Z",
     "shell.execute_reply.started": "2021-06-02T02:59:07.663101Z"
    }
   },
   "outputs": [
    {
     "data": {
      "text/plain": [
       "<matplotlib.axes._subplots.AxesSubplot at 0x7f44d4f2f5c0>"
      ]
     },
     "execution_count": 32,
     "metadata": {},
     "output_type": "execute_result"
    },
    {
     "data": {
      "image/png": "[encoded data removed]",
      "text/plain": [
       "<Figure size 720x504 with 1 Axes>"
      ]
     },
     "metadata": {
      "needs_background": "light"
     },
     "output_type": "display_data"
    }
   ],
   "source": [
    "df_train['Ranking'][df_train['Rating'] < 4].hist(bins=100)"
   ]
  },
  {
   "cell_type": "markdown",
   "metadata": {},
   "source": [
    "### И один из моих любимых - [корреляция признаков](https://ru.wikipedia.org/wiki/Корреляция)\n",
    "На этом графике уже сейчас вы сможете заметить, как признаки связаны между собой и с целевой переменной."
   ]
  },
  {
   "cell_type": "code",
   "execution_count": 33,
   "metadata": {
    "execution": {
     "iopub.execute_input": "2021-06-02T02:59:08.304522Z",
     "iopub.status.busy": "2021-06-02T02:59:08.304135Z",
     "iopub.status.idle": "2021-06-02T02:59:08.716837Z",
     "shell.execute_reply": "2021-06-02T02:59:08.715782Z",
     "shell.execute_reply.started": "2021-06-02T02:59:08.304464Z"
    }
   },
   "outputs": [
    {
     "data": {
      "text/plain": [
       "<matplotlib.axes._subplots.AxesSubplot at 0x7f44d5697898>"
      ]
     },
     "execution_count": 33,
     "metadata": {},
     "output_type": "execute_result"
    },
    {
     "data": {
      "image/png": "[encoded data removed]",
      "text/plain": [
       "<Figure size 1080x720 with 2 Axes>"
      ]
     },
     "metadata": {
      "needs_background": "light"
     },
     "output_type": "display_data"
    }
   ],
   "source": [
    "plt.rcParams['figure.figsize'] = (15,10)\n",
    "data1=data[['Ranking','Price Range','Number of Reviews','Rating','Cuisine_Style']]\n",
    "matrix = np.triu(data1.corr())\n",
    "sns.heatmap(data1.corr(), annot=True, mask=matrix, cmap= 'coolwarm')"
   ]
  },
  {
   "cell_type": "code",
   "execution_count": 34,
   "metadata": {
    "execution": {
     "iopub.execute_input": "2021-06-02T02:59:08.725330Z",
     "iopub.status.busy": "2021-06-02T02:59:08.724688Z",
     "iopub.status.idle": "2021-06-02T02:59:08.755048Z",
     "shell.execute_reply": "2021-06-02T02:59:08.754116Z",
     "shell.execute_reply.started": "2021-06-02T02:59:08.725264Z"
    }
   },
   "outputs": [
    {
     "data": {
      "text/html": [
       "<div>\n",
       "<style scoped>\n",
       "    .dataframe tbody tr th:only-of-type {\n",
       "        vertical-align: middle;\n",
       "    }\n",
       "\n",
       "    .dataframe tbody tr th {\n",
       "        vertical-align: top;\n",
       "    }\n",
       "\n",
       "    .dataframe thead th {\n",
       "        text-align: right;\n",
       "    }\n",
       "</style>\n",
       "<table border=\"1\" class=\"dataframe\">\n",
       "  <thead>\n",
       "    <tr style=\"text-align: right;\">\n",
       "      <th></th>\n",
       "      <th>Restaurant_id</th>\n",
       "      <th>City</th>\n",
       "      <th>Cuisine Style</th>\n",
       "      <th>Ranking</th>\n",
       "      <th>Price Range</th>\n",
       "      <th>Number of Reviews</th>\n",
       "      <th>Reviews</th>\n",
       "      <th>URL_TA</th>\n",
       "      <th>ID_TA</th>\n",
       "      <th>sample</th>\n",
       "      <th>Rating</th>\n",
       "    </tr>\n",
       "  </thead>\n",
       "  <tbody>\n",
       "    <tr>\n",
       "      <th>6760</th>\n",
       "      <td>id_6760</td>\n",
       "      <td>Paris</td>\n",
       "      <td>['French', 'Cafe', 'European', 'Vegetarian Fri...</td>\n",
       "      <td>3127.0</td>\n",
       "      <td>$$ - $$$</td>\n",
       "      <td>629.0</td>\n",
       "      <td>[['Good food, cozy ambiance!', 'Food good - at...</td>\n",
       "      <td>/Restaurant_Review-g187147-d786885-Reviews-Caf...</td>\n",
       "      <td>d786885</td>\n",
       "      <td>0</td>\n",
       "      <td>0.0</td>\n",
       "    </tr>\n",
       "  </tbody>\n",
       "</table>\n",
       "</div>"
      ],
      "text/plain": [
       "     Restaurant_id   City                                      Cuisine Style  \\\n",
       "6760       id_6760  Paris  ['French', 'Cafe', 'European', 'Vegetarian Fri...   \n",
       "\n",
       "      Ranking Price Range  Number of Reviews  \\\n",
       "6760   3127.0    $$ - $$$              629.0   \n",
       "\n",
       "                                                Reviews  \\\n",
       "6760  [['Good food, cozy ambiance!', 'Food good - at...   \n",
       "\n",
       "                                                 URL_TA    ID_TA  sample  \\\n",
       "6760  /Restaurant_Review-g187147-d786885-Reviews-Caf...  d786885       0   \n",
       "\n",
       "      Rating  \n",
       "6760     0.0  "
      ]
     },
     "execution_count": 34,
     "metadata": {},
     "output_type": "execute_result"
    }
   ],
   "source": [
    "data.sample(10)\n",
    "data_for_changes.sample(1)"
   ]
  },
  {
   "cell_type": "markdown",
   "metadata": {
    "execution": {
     "iopub.execute_input": "2021-05-26T03:54:43.257518Z",
     "iopub.status.busy": "2021-05-26T03:54:43.256943Z",
     "iopub.status.idle": "2021-05-26T03:54:43.267861Z",
     "shell.execute_reply": "2021-05-26T03:54:43.266337Z",
     "shell.execute_reply.started": "2021-05-26T03:54:43.25728Z"
    }
   },
   "source": [
    "\n",
    "\n",
    "Вообще благодаря визуализации в этом датасете можно узнать много интересных фактов, например:\n",
    "* где больше Пицерий в Мадриде или Лондоне?\n",
    "* в каком городе кухня ресторанов более разнообразна?\n",
    "\n",
    "придумайте свои вопрос и найдите на него ответ в данных)"
   ]
  },
  {
   "cell_type": "markdown",
   "metadata": {},
   "source": [
    "# Мой блок"
   ]
  },
  {
   "cell_type": "code",
   "execution_count": 35,
   "metadata": {
    "execution": {
     "iopub.execute_input": "2021-06-02T02:59:08.757314Z",
     "iopub.status.busy": "2021-06-02T02:59:08.756801Z",
     "iopub.status.idle": "2021-06-02T02:59:08.772867Z",
     "shell.execute_reply": "2021-06-02T02:59:08.772069Z",
     "shell.execute_reply.started": "2021-06-02T02:59:08.757257Z"
    }
   },
   "outputs": [],
   "source": [
    "### Функции\n",
    "\n",
    "#Функция для рассчета стат.величин и выбросов\n",
    "#Для строковых столбцов\n",
    "def plot_str(df,col):\n",
    "\n",
    "    print('Распределение для столбца (не числовой):', col)\n",
    "    fig,ax=plt.subplots()\n",
    "    sns.countplot(df.loc[:,col], ax=ax)\n",
    "    plt.show()\n",
    "#поиск пустых  Nan значений в символьном  столбце, расчет процента потерянных значений\n",
    "    n=100-(df[col].count()/df.shape[0]*100)\n",
    "    print('уникальных значений ', len(df[col].dropna().unique()))\n",
    "    print ('пустых значений,%', round(n,2))\n",
    "    stud_math.score.unique()\n",
    "\n",
    "#Для числовых столбцов\n",
    "def plot_num (df,col_name, borders=None):\n",
    "    sns.set(rc={'figure.figsize':(5, 5)})\n",
    "    print('Распределение для столбца (числовой):', col_name)\n",
    "    \n",
    "    fig,ax=plt.subplots()\n",
    "    df.loc[:,col_name].hist(ax=ax, bins=50)\n",
    "    ax.set_xlabel(col_name)\n",
    "    ax.set_ylabel('кол-во')\n",
    "    plt.show()\n",
    "    print (df[col_name].count())\n",
    "    print (df.shape[0])\n",
    "\n",
    "    n=100-(df[col_name].count()/df.shape[0]*100)\n",
    "    print ('пустых значений,%', round(n,2))\n",
    "    \n",
    "    if borders is not None:\n",
    "        print ('выбросы по условию ', borders)\n",
    "        display(df[(~df.loc[:,col_name].between(borders[0],borders[1]))&pd.notnull(df.loc[:,col_name])])\n",
    "\n",
    "#функция для рисования \"усов\"  \n",
    "def get_boxplot(df,column):\n",
    "    fig, ax = plt.subplots(figsize = (5, 5))\n",
    "    sns.boxplot(x=column, y='score', \n",
    "                data=df.loc[df.loc[:, column].isin(df.loc[:, column].value_counts().index[:30])],\n",
    "               ax=ax)\n",
    "    plt.xticks(rotation=45)\n",
    "    ax.set_title('Boxplot для ' + column)\n",
    "    plt.show()    \n",
    "#Функция по расчету коэффициента стьюдента из \n",
    "def get_stat_dif(df,column):\n",
    "    st_t=0\n",
    "    cols = df.loc[:, column].value_counts(dropna =True).index[:30]\n",
    "    combinations_all = list(combinations(cols, 2))\n",
    "    for comb in combinations_all:\n",
    "        if ttest_ind(df.loc[df.loc[:, column] == comb[0], 'Rating'], \n",
    "                        df.loc[df.loc[:, column] == comb[1], 'Rating']).pvalue <= 0.05/len(combinations_all): # Учли поправку Бонферони\n",
    "            print('Найдены статистически значимые различия для колонки', column)\n",
    "            st_t=1\n",
    "            \n",
    "            break\n",
    "    #print(st_t)   \n",
    "    return st_t"
   ]
  },
  {
   "cell_type": "markdown",
   "metadata": {},
   "source": [
    "# Добавление новых признаков"
   ]
  },
  {
   "cell_type": "markdown",
   "metadata": {
    "execution": {
     "iopub.execute_input": "2021-05-26T02:33:39.816486Z",
     "iopub.status.busy": "2021-05-26T02:33:39.815817Z",
     "iopub.status.idle": "2021-05-26T02:33:39.928272Z",
     "shell.execute_reply": "2021-05-26T02:33:39.925676Z",
     "shell.execute_reply.started": "2021-05-26T02:33:39.816419Z"
    }
   },
   "source": [
    "# Гипотезы:\n",
    "1. Количество ресторанов в городе может влиять на оценку (чем более избалован клиент, тем строже оценивает)\n",
    "2. Количество упоминаний кухни для каждого ресторана может косвенно свидетельствавть о ее популярности (наличие в ресторане популярных кухонь может сильно коррелировать с количеством отзывов и влиять на общую оценку ресторана\n",
    "3. Наличие отзывов (булево, 1/0) может как говорить о популярности, так и о банальном отсутствии данных, нужно преверить способен ли данный признак улучшить модель\n",
    "4. Наличие свежих отзывов: (количество дней от самого свежего отзыва до последнего отыва по каждому ресторану\n",
    "5. Ранг ресторана/количество ресторанов в городе\n",
    "6. Признак столицы (1/0)\n",
    "\n"
   ]
  },
  {
   "cell_type": "markdown",
   "metadata": {},
   "source": [
    "#### 1. Количество ресторанов в городе. Данные из DataSet (подтверждается влияние на оценку):"
   ]
  },
  {
   "cell_type": "code",
   "execution_count": 36,
   "metadata": {
    "execution": {
     "iopub.execute_input": "2021-06-02T02:59:08.774408Z",
     "iopub.status.busy": "2021-06-02T02:59:08.774175Z",
     "iopub.status.idle": "2021-06-02T02:59:08.855781Z",
     "shell.execute_reply": "2021-06-02T02:59:08.854747Z",
     "shell.execute_reply.started": "2021-06-02T02:59:08.774370Z"
    }
   },
   "outputs": [
    {
     "name": "stdout",
     "output_type": "stream",
     "text": [
      "          City  count_rest_in_city\n",
      "0    Amsterdam                1372\n",
      "1       Athens                 776\n",
      "2    Barcelona                3395\n",
      "3       Berlin                2705\n",
      "4   Bratislava                 380\n",
      "5     Brussels                1314\n",
      "6     Budapest                1021\n",
      "7   Copenhagen                 819\n",
      "8       Dublin                 836\n",
      "9    Edinburgh                 745\n",
      "10      Geneva                 590\n",
      "11     Hamburg                1186\n",
      "12    Helsinki                 475\n",
      "13      Krakow                 554\n",
      "14      Lisbon                1647\n",
      "15   Ljubljana                 222\n",
      "16      London                7193\n",
      "17  Luxembourg                 263\n",
      "18        Lyon                1126\n",
      "19      Madrid                3813\n",
      "20       Milan                2694\n",
      "21      Munich                1145\n",
      "22      Oporto                 642\n",
      "23        Oslo                 488\n",
      "24       Paris                6108\n",
      "25      Prague                1816\n",
      "26        Rome                2589\n",
      "27   Stockholm                1033\n",
      "28      Vienna                1443\n",
      "29      Warsaw                 925\n",
      "30      Zurich                 685\n"
     ]
    }
   ],
   "source": [
    "rest_city_count=data.groupby('City')['Restaurant_id'].count().reset_index()\n",
    "rest_city_count=rest_city_count.rename(columns={'Restaurant_id' : 'count_rest_in_city'})\n",
    "#df = df.rename(columns={'oldName1': 'newName1', 'oldName2': 'newName2'})\n",
    "print (rest_city_count)\n",
    "data=pd.merge(data,rest_city_count, how='left', on='City')\n"
   ]
  },
  {
   "cell_type": "markdown",
   "metadata": {
    "execution": {
     "iopub.execute_input": "2021-05-26T04:24:54.937591Z",
     "iopub.status.busy": "2021-05-26T04:24:54.937132Z",
     "iopub.status.idle": "2021-05-26T04:24:54.978739Z",
     "shell.execute_reply": "2021-05-26T04:24:54.977993Z",
     "shell.execute_reply.started": "2021-05-26T04:24:54.937542Z"
    }
   },
   "source": [
    "#### 5. Ранг/количество (Показатель ухудшает качество прогноза, на данном этапе не используем)"
   ]
  },
  {
   "cell_type": "code",
   "execution_count": 37,
   "metadata": {
    "execution": {
     "iopub.execute_input": "2021-06-02T02:59:08.857478Z",
     "iopub.status.busy": "2021-06-02T02:59:08.857100Z",
     "iopub.status.idle": "2021-06-02T02:59:08.864004Z",
     "shell.execute_reply": "2021-06-02T02:59:08.862898Z",
     "shell.execute_reply.started": "2021-06-02T02:59:08.857320Z"
    }
   },
   "outputs": [],
   "source": [
    "data['Rank_count']=data['Ranking']/data['count_rest_in_city']"
   ]
  },
  {
   "cell_type": "markdown",
   "metadata": {},
   "source": [
    "### 3. Наличие отзывов (не улучшает модель. На данном этапе в обучающей выборке не используем)"
   ]
  },
  {
   "cell_type": "code",
   "execution_count": 38,
   "metadata": {
    "execution": {
     "iopub.execute_input": "2021-06-02T02:59:08.866011Z",
     "iopub.status.busy": "2021-06-02T02:59:08.865617Z",
     "iopub.status.idle": "2021-06-02T02:59:08.877794Z",
     "shell.execute_reply": "2021-06-02T02:59:08.876667Z",
     "shell.execute_reply.started": "2021-06-02T02:59:08.865939Z"
    }
   },
   "outputs": [
    {
     "data": {
      "text/plain": [
       "str"
      ]
     },
     "execution_count": 38,
     "metadata": {},
     "output_type": "execute_result"
    }
   ],
   "source": [
    "type(data.loc[0,'Reviews'])"
   ]
  },
  {
   "cell_type": "code",
   "execution_count": 39,
   "metadata": {
    "execution": {
     "iopub.execute_input": "2021-06-02T02:59:08.879530Z",
     "iopub.status.busy": "2021-06-02T02:59:08.879238Z",
     "iopub.status.idle": "2021-06-02T02:59:09.441974Z",
     "shell.execute_reply": "2021-06-02T02:59:09.441303Z",
     "shell.execute_reply.started": "2021-06-02T02:59:08.879472Z"
    }
   },
   "outputs": [],
   "source": [
    "# Следует осуществить раяд преобразований в строке отзывов, чтобы добыть из нее нужную информацию\n",
    "#1.\n",
    "pattern = re.compile('\\d+\\/\\d+\\/\\d+')\n",
    "pat=re.compile(\"[\\[\\]\\']\")\n",
    "rpattern=re.compile(\"\\[\\[(.+?)\\]\")\n",
    "\n",
    "data['Reviews_only'] = data['Reviews'].apply(lambda i: re.sub(pat, '', str(i)))\n",
    "data['Date_of_Reviews'] = data['Reviews'].apply(lambda i : re.findall(pattern,str(i)))\n",
    "data['Reviews_only'] = data['Reviews'].apply(lambda i : re.findall(rpattern,str(i)))\n",
    "#убираем список из отзывов\n",
    "data['Reviews_only'] = data['Reviews_only'].apply(lambda x: ''.join(x))\n",
    "#Чистим от мусора (кавычки)\n",
    "data['Reviews_only']=data['Reviews_only'].apply(lambda x: x.replace(\"'\",''))\n",
    "data['Reviews_only']=data['Reviews_only'].apply(lambda x: x.replace(\"], [\",''))\n"
   ]
  },
  {
   "cell_type": "code",
   "execution_count": 40,
   "metadata": {
    "execution": {
     "iopub.execute_input": "2021-06-02T02:59:09.443395Z",
     "iopub.status.busy": "2021-06-02T02:59:09.443000Z",
     "iopub.status.idle": "2021-06-02T02:59:09.564575Z",
     "shell.execute_reply": "2021-06-02T02:59:09.563527Z",
     "shell.execute_reply.started": "2021-06-02T02:59:09.443340Z"
    }
   },
   "outputs": [],
   "source": [
    "#Наличие отзывов о ресторане\n",
    "cnt_rev_0 = data[data['Reviews_only']==''].groupby('Restaurant_id')['Reviews_only'].count().sort_values().reset_index()\n",
    "cnt_rev_0=cnt_rev_0.rename(columns={'Reviews_only' : 'cnt_rev_0'})\n",
    "data=pd.merge(data,cnt_rev_0, how='left', on='Restaurant_id')\n",
    "data.cnt_rev_0=data.cnt_rev_0.fillna(0)"
   ]
  },
  {
   "cell_type": "markdown",
   "metadata": {},
   "source": [
    "#### 4. Наличие свежих отзывов timedelta между последними отзывами (используем оба признака)"
   ]
  },
  {
   "cell_type": "code",
   "execution_count": 41,
   "metadata": {
    "execution": {
     "iopub.execute_input": "2021-06-02T02:59:09.566486Z",
     "iopub.status.busy": "2021-06-02T02:59:09.566007Z",
     "iopub.status.idle": "2021-06-02T02:59:09.603106Z",
     "shell.execute_reply": "2021-06-02T02:59:09.601447Z",
     "shell.execute_reply.started": "2021-06-02T02:59:09.566428Z"
    }
   },
   "outputs": [
    {
     "data": {
      "text/plain": [
       "2    36202\n",
       "0     8114\n",
       "1     5680\n",
       "3        4\n",
       "Name: Date_of_Reviews, dtype: int64"
      ]
     },
     "execution_count": 41,
     "metadata": {},
     "output_type": "execute_result"
    }
   ],
   "source": [
    "data['date_list']=data['Date_of_Reviews'].copy()\n",
    "(data.Date_of_Reviews).apply( lambda x : len(x)).value_counts()\n",
    "\n"
   ]
  },
  {
   "cell_type": "markdown",
   "metadata": {},
   "source": [
    "Есть записи с 3 датами, хотя по условию отзывов должно быть не более 2. По-видимому, регулярное выражение вытащило дату из отзыва, \n",
    "соотсветственно в этих 4 случаях нужно взять только последние 2. Для исследования разницы между последними отзывами, используем только последнюю дату (len(list)-1). \n",
    "### Вывод: \n",
    "Оба признака:\n",
    "- разница между датами послених отзывов (пропуски - нули)\n",
    "- разница между датой самого свежего отзыва и последним отзывом по ресторану (пропуски - медиана) \n",
    "используем для обучения модели, т.к. их включение в модель позволило снизить ошибку."
   ]
  },
  {
   "cell_type": "code",
   "execution_count": 42,
   "metadata": {
    "execution": {
     "iopub.execute_input": "2021-06-02T02:59:09.606478Z",
     "iopub.status.busy": "2021-06-02T02:59:09.605917Z",
     "iopub.status.idle": "2021-06-02T02:59:12.015906Z",
     "shell.execute_reply": "2021-06-02T02:59:12.014828Z",
     "shell.execute_reply.started": "2021-06-02T02:59:09.606408Z"
    }
   },
   "outputs": [
    {
     "name": "stdout",
     "output_type": "stream",
     "text": [
      "1 ошибка преобразования, значение:  21/10/17  в строке   2221 формат %d%m%Y прогоняем снова\n",
      "2 ошибка преобразования, значение:  21/10/17  в строке   2221 формат %d%m%y прогоняем снова\n",
      "1 ошибка преобразования, значение:  30/5/2017  в строке   3809 формат %d%m%Y прогоняем снова\n",
      "1 ошибка преобразования, значение:  29/9/2016  в строке   33348 формат %d%m%Y прогоняем снова\n"
     ]
    }
   ],
   "source": [
    "#Блок обработки строки отзывыов, преобразование: получение отдельного отзыва и дат двух последних отзывов:\n",
    "\n",
    "for n, dat in enumerate(data.Date_of_Reviews):\n",
    "    first_date=''\n",
    "    last_date=''        \n",
    "# Обрабатываем список строк, превращая его в список дат\n",
    "    if len(dat)>1:\n",
    "        local_dates=[]\n",
    "        for d in dat:\n",
    "\n",
    "            if pd.isna(d)==False:\n",
    "                try:\n",
    "                    d=datetime.datetime.strptime(d, '%m/%d/%Y')\n",
    "                    local_dates.append(d)\n",
    "                except:\n",
    "                    print ('1 ошибка преобразования, значение: ', d,' в строке  ',n, 'формат %d%m%Y прогоняем снова')\n",
    "                    try:\n",
    "                        d=datetime.datetime.strptime(d, '%d/%m/%Y')\n",
    "                        local_dates.append(d)\n",
    "                        \n",
    "                    except:\n",
    "                        print ('2 ошибка преобразования, значение: ', d,' в строке  ',n, 'формат %d%m%y прогоняем снова')\n",
    "                        try:\n",
    "                            d=datetime.datetime.strptime(d, '%d/%m/%y')\n",
    "                            local_dates.append(d)\n",
    "                        except:    \n",
    "                            print ('3 ну теперь-то точно не получается: ошибка преобразования, значение: ', d,' в строке  ',n)\n",
    "\n",
    "        data.at[n,'date_list']=sorted(list(local_dates))\n",
    "\n",
    "    else: \n",
    "        data.at[n,'date_list']=[]\n",
    "\n",
    "#Получаем более ранюю дату и последнюю дату, выносим их в отдельные столбцы      \n",
    "        \n",
    "data['first_date']=data['date_list'].apply(lambda x: x[-2] if len(x)>1 else None)  \n",
    "data['last_date']=data['date_list'].apply(lambda x: x[-1] if len(x)>1 else None)\n",
    "\n",
    "# Получаем разницу двух последних отзывов\n",
    "data ['delta_days_rev']=data['last_date']-data['first_date']\n",
    "data ['delta_days_rev']=data['delta_days_rev'].apply(lambda x: x.days if pd.notna(x)  else None)\n",
    "\n",
    "#Заполняем пропущенные значения нулями, проверяем, уличшится ли модель (лучше всего отреагировала на 0)\n",
    "data ['delta_days_rev']=data ['delta_days_rev'].fillna(0)\n",
    "\n",
    "#И средним значением:\n",
    "#data ['delta_days_rev']=data ['delta_days_rev'].fillna(data ['delta_days_rev'].mean()) #стало чуть хуже\n",
    "#И медианой:\n",
    "#data ['delta_days_rev']=data ['delta_days_rev'].fillna(data ['delta_days_rev'].median()) #стало еще хуже, оставляем 0\n",
    "\n",
    "#Находим  дату самого позднего отзыва\n",
    "\n",
    "last_date_rev=data['last_date'].max()\n",
    "\n",
    "#Делаем еще один признак: разница в днях последнего отзыва по ресторану и вообще последнего отзыва (лучше всего пропуски заполнить медианой, есть улучшение качества модели)\n",
    "\n",
    "data ['delta_days_last_rev']=last_date_rev-data['last_date']\n",
    "data ['delta_days_last_rev']=data ['delta_days_last_rev'].apply(lambda x: x.days if pd.notna(x)  else None)\n",
    "\n",
    "data ['delta_days_last_rev']=data ['delta_days_last_rev'].fillna(data ['delta_days_last_rev'].median())\n"
   ]
  },
  {
   "cell_type": "markdown",
   "metadata": {},
   "source": [
    "## Количество упоминаний кухни (популярность)?\n",
    "Выбираем все кухни в один список, считаем количество упоминаний. Находим вес колтичества упоминаний в общем количестве упоминаний каждой кухни. Получаем метрику предполагаемой популярности ресторана на основании популярности каждой кухни: складываем веса.\n",
    "\n",
    "### Вывод:\n",
    "Новый признак увеличил \"шум\" и снизи качество модели, не используем.\n"
   ]
  },
  {
   "cell_type": "code",
   "execution_count": 43,
   "metadata": {
    "execution": {
     "iopub.execute_input": "2021-06-02T02:59:12.017793Z",
     "iopub.status.busy": "2021-06-02T02:59:12.017369Z",
     "iopub.status.idle": "2021-06-02T02:59:12.119017Z",
     "shell.execute_reply": "2021-06-02T02:59:12.117997Z",
     "shell.execute_reply.started": "2021-06-02T02:59:12.017583Z"
    }
   },
   "outputs": [],
   "source": [
    "#Заполняем пустые значения списка значемем \"mixed\" (смешанная кухня)\n",
    "\n",
    "for i, val in enumerate(data['Cuisine Style']):\n",
    "    Tlist=[]\n",
    "    if len (val) <1: \n",
    "        data.at[i,'Cuisine Style']=['mixed']\n",
    "        "
   ]
  },
  {
   "cell_type": "code",
   "execution_count": 44,
   "metadata": {
    "execution": {
     "iopub.execute_input": "2021-06-02T02:59:12.120845Z",
     "iopub.status.busy": "2021-06-02T02:59:12.120489Z",
     "iopub.status.idle": "2021-06-02T02:59:12.490802Z",
     "shell.execute_reply": "2021-06-02T02:59:12.489830Z",
     "shell.execute_reply.started": "2021-06-02T02:59:12.120781Z"
    }
   },
   "outputs": [],
   "source": [
    "#получаем список всех кухонь. \n",
    "data['Cuisine Style']=data['Cuisine Style'].fillna('some_cusine')\n",
    "\n",
    "c_list=\",\".join(list(data['Cuisine Style'].apply(lambda x: ','.join(x)))).split(',')\n",
    "#преобразуем в DataFrame\n",
    "cusine_list=pd.DataFrame(c_list)\n",
    "\n",
    "cusine_list.columns = ['Cuisine Style']\n",
    "\n",
    "#получаем количество упоминаний\n",
    "cusine_list = cusine_list['Cuisine Style'].value_counts().reset_index()\n",
    "cusine_list.columns=['Cuisine Style','cnt']\n",
    "\n",
    "#считаем общее количество упоминаний\n",
    "total_count=cusine_list.cnt.sum()\n",
    "\n",
    "#Считаем \"Вес\" каждой кухни (популярность)\n",
    "cusine_list['Weight']=cusine_list['cnt']/total_count*100\n",
    "TTcuisine=data[['Restaurant_id','Cuisine Style']].copy()\n",
    "TTcuisine=TTcuisine.explode('Cuisine Style')\n",
    "TTcuisine=TTcuisine.merge(cusine_list, how='left', on ='Cuisine Style')\n",
    "TTcuisine=TTcuisine.groupby('Restaurant_id')['Weight'].sum().reset_index()\n",
    "TTcuisine.columns=['Restaurant_id','Weight']"
   ]
  },
  {
   "cell_type": "code",
   "execution_count": 45,
   "metadata": {
    "execution": {
     "iopub.execute_input": "2021-06-02T02:59:12.492610Z",
     "iopub.status.busy": "2021-06-02T02:59:12.492238Z",
     "iopub.status.idle": "2021-06-02T02:59:12.650346Z",
     "shell.execute_reply": "2021-06-02T02:59:12.649463Z",
     "shell.execute_reply.started": "2021-06-02T02:59:12.492534Z"
    }
   },
   "outputs": [
    {
     "name": "stdout",
     "output_type": "stream",
     "text": [
      "<class 'pandas.core.frame.DataFrame'>\n",
      "Int64Index: 50000 entries, 0 to 49999\n",
      "Data columns (total 57 columns):\n",
      "Restaurant_id          50000 non-null object\n",
      "City                   50000 non-null object\n",
      "Cuisine Style          50000 non-null object\n",
      "Ranking                50000 non-null float64\n",
      "Price Range            50000 non-null float64\n",
      "Number of Reviews      50000 non-null float64\n",
      "Reviews                49998 non-null object\n",
      "URL_TA                 50000 non-null object\n",
      "ID_TA                  50000 non-null object\n",
      "sample                 50000 non-null int64\n",
      "Rating                 50000 non-null float64\n",
      "isNAN                  50000 non-null uint8\n",
      "Cuisine_Style          50000 non-null int64\n",
      "city_Amsterdam         50000 non-null uint8\n",
      "city_Athens            50000 non-null uint8\n",
      "city_Barcelona         50000 non-null uint8\n",
      "city_Berlin            50000 non-null uint8\n",
      "city_Bratislava        50000 non-null uint8\n",
      "city_Brussels          50000 non-null uint8\n",
      "city_Budapest          50000 non-null uint8\n",
      "city_Copenhagen        50000 non-null uint8\n",
      "city_Dublin            50000 non-null uint8\n",
      "city_Edinburgh         50000 non-null uint8\n",
      "city_Geneva            50000 non-null uint8\n",
      "city_Hamburg           50000 non-null uint8\n",
      "city_Helsinki          50000 non-null uint8\n",
      "city_Krakow            50000 non-null uint8\n",
      "city_Lisbon            50000 non-null uint8\n",
      "city_Ljubljana         50000 non-null uint8\n",
      "city_London            50000 non-null uint8\n",
      "city_Luxembourg        50000 non-null uint8\n",
      "city_Lyon              50000 non-null uint8\n",
      "city_Madrid            50000 non-null uint8\n",
      "city_Milan             50000 non-null uint8\n",
      "city_Munich            50000 non-null uint8\n",
      "city_Oporto            50000 non-null uint8\n",
      "city_Oslo              50000 non-null uint8\n",
      "city_Paris             50000 non-null uint8\n",
      "city_Prague            50000 non-null uint8\n",
      "city_Rome              50000 non-null uint8\n",
      "city_Stockholm         50000 non-null uint8\n",
      "city_Vienna            50000 non-null uint8\n",
      "city_Warsaw            50000 non-null uint8\n",
      "city_Zurich            50000 non-null uint8\n",
      "city_nan               50000 non-null uint8\n",
      "count_rest_in_city     50000 non-null int64\n",
      "Rank_count             50000 non-null float64\n",
      "Reviews_only           50000 non-null object\n",
      "Date_of_Reviews        50000 non-null object\n",
      "cnt_rev_0              50000 non-null float64\n",
      "date_list              50000 non-null object\n",
      "first_date             36206 non-null datetime64[ns]\n",
      "last_date              36206 non-null datetime64[ns]\n",
      "delta_days_rev         50000 non-null float64\n",
      "delta_days_last_rev    50000 non-null float64\n",
      "Weight                 50000 non-null float64\n",
      "Weight_cusine          50000 non-null float64\n",
      "dtypes: datetime64[ns](2), float64(10), int64(3), object(9), uint8(33)\n",
      "memory usage: 11.1+ MB\n"
     ]
    },
    {
     "data": {
      "text/plain": [
       "None"
      ]
     },
     "metadata": {},
     "output_type": "display_data"
    }
   ],
   "source": [
    "data=data.merge(TTcuisine, how='left', on = 'Restaurant_id' )\n",
    "data['Weight_cusine']=data['Weight']/data['Cuisine_Style']\n",
    "display(data.info())"
   ]
  },
  {
   "cell_type": "markdown",
   "metadata": {},
   "source": [
    "#### Добавим дополнительный признак: Столица (да/нет) Данные берем из географического атласа)))\n",
    "Модель отреагировала увеличением ошбики на признак Столица, но хорошо на признак ограничения (большой город/небольшой город) эмпирически установлен порог - 500000 населения"
   ]
  },
  {
   "cell_type": "code",
   "execution_count": 46,
   "metadata": {
    "execution": {
     "iopub.execute_input": "2021-06-02T02:59:12.653877Z",
     "iopub.status.busy": "2021-06-02T02:59:12.653602Z",
     "iopub.status.idle": "2021-06-02T02:59:12.999559Z",
     "shell.execute_reply": "2021-06-02T02:59:12.998525Z",
     "shell.execute_reply.started": "2021-06-02T02:59:12.653831Z"
    }
   },
   "outputs": [
    {
     "data": {
      "text/plain": [
       "<matplotlib.axes._subplots.AxesSubplot at 0x7f44c494fcf8>"
      ]
     },
     "execution_count": 46,
     "metadata": {},
     "output_type": "execute_result"
    },
    {
     "data": {
      "image/png": "[encoded data removed]",
      "text/plain": [
       "<Figure size 1080x720 with 1 Axes>"
      ]
     },
     "metadata": {
      "needs_background": "light"
     },
     "output_type": "display_data"
    }
   ],
   "source": [
    "#Составляем DataFrame с признаком \"Столица\"  инаселение (С сайта https://ec.europa.eu/eurostat/data/database)\n",
    "data.City.unique()\n",
    "Capital=pd.DataFrame([['Paris', 1, 2160928], ['Helsinki',1,656229 ], ['Edinburgh',0,482005], ['London',1,8982256], ['Bratislava',1,437726 ], ['Lisbon',1,505526 ],\n",
    "       ['Budapest',1,1752286], ['Stockholm',1,975551], ['Rome',1,2873494], ['Milan',0,1399860  ], ['Munich',0,1471508], ['Hamburg',0,1841179],\n",
    "       ['Prague',1,1308632], ['Vienna',1,1897491 ], ['Dublin',0,544107 ], ['Barcelona',1,1636762 ], ['Brussels',1,174383 ], ['Madrid',1,3223334],\n",
    "       ['Oslo',1,634293 ], ['Amsterdam',1,873555 ], ['Berlin',1,3644826 ], ['Lyon',0,513275], ['Athens',1,3167000 ], ['Warsaw',1,1764615],\n",
    "       ['Oporto',0,214349], ['Krakow',0,766683], ['Copenhagen',1, 794128 ], ['Luxembourg',1,613894 ], ['Zurich',0,402762], ['Geneva',1,499480 ],\n",
    "       ['Ljubljana',1,295504]])\n",
    "Capital.columns=['City','Capital','Population']\n",
    "Capital['Population'].hist()"
   ]
  },
  {
   "cell_type": "code",
   "execution_count": 47,
   "metadata": {
    "execution": {
     "iopub.execute_input": "2021-06-02T02:59:13.002445Z",
     "iopub.status.busy": "2021-06-02T02:59:13.001618Z",
     "iopub.status.idle": "2021-06-02T02:59:13.009416Z",
     "shell.execute_reply": "2021-06-02T02:59:13.008531Z",
     "shell.execute_reply.started": "2021-06-02T02:59:13.002367Z"
    }
   },
   "outputs": [],
   "source": [
    "#Добавляем признак крупного города: более 500000 населения\n",
    "Capital['more500']=Capital.Population.apply(lambda x: 1 if x>500000 else 0)"
   ]
  },
  {
   "cell_type": "code",
   "execution_count": 48,
   "metadata": {
    "execution": {
     "iopub.execute_input": "2021-06-02T02:59:13.011251Z",
     "iopub.status.busy": "2021-06-02T02:59:13.010735Z",
     "iopub.status.idle": "2021-06-02T02:59:13.206734Z",
     "shell.execute_reply": "2021-06-02T02:59:13.205640Z",
     "shell.execute_reply.started": "2021-06-02T02:59:13.010968Z"
    }
   },
   "outputs": [
    {
     "data": {
      "text/html": [
       "<div>\n",
       "<style scoped>\n",
       "    .dataframe tbody tr th:only-of-type {\n",
       "        vertical-align: middle;\n",
       "    }\n",
       "\n",
       "    .dataframe tbody tr th {\n",
       "        vertical-align: top;\n",
       "    }\n",
       "\n",
       "    .dataframe thead th {\n",
       "        text-align: right;\n",
       "    }\n",
       "</style>\n",
       "<table border=\"1\" class=\"dataframe\">\n",
       "  <thead>\n",
       "    <tr style=\"text-align: right;\">\n",
       "      <th></th>\n",
       "      <th>Restaurant_id</th>\n",
       "      <th>City</th>\n",
       "      <th>Cuisine Style</th>\n",
       "      <th>Ranking</th>\n",
       "      <th>Price Range</th>\n",
       "      <th>Number of Reviews</th>\n",
       "      <th>Reviews</th>\n",
       "      <th>URL_TA</th>\n",
       "      <th>ID_TA</th>\n",
       "      <th>sample</th>\n",
       "      <th>...</th>\n",
       "      <th>first_date</th>\n",
       "      <th>last_date</th>\n",
       "      <th>delta_days_rev</th>\n",
       "      <th>delta_days_last_rev</th>\n",
       "      <th>Weight</th>\n",
       "      <th>Weight_cusine</th>\n",
       "      <th>Capital</th>\n",
       "      <th>Population</th>\n",
       "      <th>more500</th>\n",
       "      <th>popul_rest</th>\n",
       "    </tr>\n",
       "  </thead>\n",
       "  <tbody>\n",
       "    <tr>\n",
       "      <th>0</th>\n",
       "      <td>id_0</td>\n",
       "      <td>Paris</td>\n",
       "      <td>['Bar', 'Pub']</td>\n",
       "      <td>12963.0</td>\n",
       "      <td>2.0</td>\n",
       "      <td>4.0</td>\n",
       "      <td>[[], []]</td>\n",
       "      <td>/Restaurant_Review-g187147-d10746918-Reviews-L...</td>\n",
       "      <td>d10746918</td>\n",
       "      <td>0</td>\n",
       "      <td>...</td>\n",
       "      <td>NaT</td>\n",
       "      <td>NaT</td>\n",
       "      <td>0.0</td>\n",
       "      <td>136.0</td>\n",
       "      <td>376.330504</td>\n",
       "      <td>188.165252</td>\n",
       "      <td>1</td>\n",
       "      <td>2160928</td>\n",
       "      <td>1</td>\n",
       "      <td>0.002827</td>\n",
       "    </tr>\n",
       "    <tr>\n",
       "      <th>1</th>\n",
       "      <td>id_1</td>\n",
       "      <td>Helsinki</td>\n",
       "      <td>['European', 'Scandinavian', 'Gluten Free Opti...</td>\n",
       "      <td>106.0</td>\n",
       "      <td>2.0</td>\n",
       "      <td>97.0</td>\n",
       "      <td>[['Very good reviews!', 'Fine dining in Hakani...</td>\n",
       "      <td>/Restaurant_Review-g189934-d6674944-Reviews-Ra...</td>\n",
       "      <td>d6674944</td>\n",
       "      <td>0</td>\n",
       "      <td>...</td>\n",
       "      <td>2017-10-29</td>\n",
       "      <td>2017-12-05</td>\n",
       "      <td>37.0</td>\n",
       "      <td>83.0</td>\n",
       "      <td>278.012585</td>\n",
       "      <td>55.602517</td>\n",
       "      <td>1</td>\n",
       "      <td>656229</td>\n",
       "      <td>1</td>\n",
       "      <td>0.000724</td>\n",
       "    </tr>\n",
       "    <tr>\n",
       "      <th>2</th>\n",
       "      <td>id_2</td>\n",
       "      <td>Edinburgh</td>\n",
       "      <td>['Vegetarian Friendly']</td>\n",
       "      <td>810.0</td>\n",
       "      <td>2.0</td>\n",
       "      <td>28.0</td>\n",
       "      <td>[['Better than the Links', 'Ivy Black'], ['12/...</td>\n",
       "      <td>/Restaurant_Review-g186525-d13129638-Reviews-B...</td>\n",
       "      <td>d13129638</td>\n",
       "      <td>0</td>\n",
       "      <td>...</td>\n",
       "      <td>2017-12-06</td>\n",
       "      <td>2017-12-28</td>\n",
       "      <td>22.0</td>\n",
       "      <td>60.0</td>\n",
       "      <td>340.110920</td>\n",
       "      <td>340.110920</td>\n",
       "      <td>0</td>\n",
       "      <td>482005</td>\n",
       "      <td>0</td>\n",
       "      <td>0.001546</td>\n",
       "    </tr>\n",
       "    <tr>\n",
       "      <th>3</th>\n",
       "      <td>id_3</td>\n",
       "      <td>London</td>\n",
       "      <td>['Italian', 'Mediterranean', 'European', 'Vege...</td>\n",
       "      <td>1669.0</td>\n",
       "      <td>3.0</td>\n",
       "      <td>202.0</td>\n",
       "      <td>[['Most exquisite', 'Delicious and authentic']...</td>\n",
       "      <td>/Restaurant_Review-g186338-d680417-Reviews-Qui...</td>\n",
       "      <td>d680417</td>\n",
       "      <td>0</td>\n",
       "      <td>...</td>\n",
       "      <td>2017-11-22</td>\n",
       "      <td>2017-12-06</td>\n",
       "      <td>14.0</td>\n",
       "      <td>82.0</td>\n",
       "      <td>288.434934</td>\n",
       "      <td>57.686987</td>\n",
       "      <td>1</td>\n",
       "      <td>8982256</td>\n",
       "      <td>1</td>\n",
       "      <td>0.000801</td>\n",
       "    </tr>\n",
       "    <tr>\n",
       "      <th>4</th>\n",
       "      <td>id_4</td>\n",
       "      <td>Bratislava</td>\n",
       "      <td>['Italian', 'Mediterranean', 'European', 'Seaf...</td>\n",
       "      <td>37.0</td>\n",
       "      <td>3.0</td>\n",
       "      <td>162.0</td>\n",
       "      <td>[['Always the best in bratislava', 'Very good ...</td>\n",
       "      <td>/Restaurant_Review-g274924-d1112354-Reviews-Ma...</td>\n",
       "      <td>d1112354</td>\n",
       "      <td>0</td>\n",
       "      <td>...</td>\n",
       "      <td>2018-01-24</td>\n",
       "      <td>2018-02-08</td>\n",
       "      <td>15.0</td>\n",
       "      <td>18.0</td>\n",
       "      <td>414.119422</td>\n",
       "      <td>69.019904</td>\n",
       "      <td>1</td>\n",
       "      <td>437726</td>\n",
       "      <td>0</td>\n",
       "      <td>0.000868</td>\n",
       "    </tr>\n",
       "    <tr>\n",
       "      <th>...</th>\n",
       "      <td>...</td>\n",
       "      <td>...</td>\n",
       "      <td>...</td>\n",
       "      <td>...</td>\n",
       "      <td>...</td>\n",
       "      <td>...</td>\n",
       "      <td>...</td>\n",
       "      <td>...</td>\n",
       "      <td>...</td>\n",
       "      <td>...</td>\n",
       "      <td>...</td>\n",
       "      <td>...</td>\n",
       "      <td>...</td>\n",
       "      <td>...</td>\n",
       "      <td>...</td>\n",
       "      <td>...</td>\n",
       "      <td>...</td>\n",
       "      <td>...</td>\n",
       "      <td>...</td>\n",
       "      <td>...</td>\n",
       "      <td>...</td>\n",
       "    </tr>\n",
       "    <tr>\n",
       "      <th>49995</th>\n",
       "      <td>id_499</td>\n",
       "      <td>Milan</td>\n",
       "      <td>['Italian', 'Vegetarian Friendly', 'Vegan Opti...</td>\n",
       "      <td>500.0</td>\n",
       "      <td>2.0</td>\n",
       "      <td>79.0</td>\n",
       "      <td>[['The real Italian experience!', 'Wonderful f...</td>\n",
       "      <td>/Restaurant_Review-g187849-d2104414-Reviews-Ro...</td>\n",
       "      <td>d2104414</td>\n",
       "      <td>1</td>\n",
       "      <td>...</td>\n",
       "      <td>2017-11-12</td>\n",
       "      <td>2017-12-16</td>\n",
       "      <td>34.0</td>\n",
       "      <td>72.0</td>\n",
       "      <td>244.546189</td>\n",
       "      <td>61.136547</td>\n",
       "      <td>0</td>\n",
       "      <td>1399860</td>\n",
       "      <td>1</td>\n",
       "      <td>0.001924</td>\n",
       "    </tr>\n",
       "    <tr>\n",
       "      <th>49996</th>\n",
       "      <td>id_6340</td>\n",
       "      <td>Paris</td>\n",
       "      <td>['French', 'American', 'Bar', 'European', 'Veg...</td>\n",
       "      <td>6341.0</td>\n",
       "      <td>2.0</td>\n",
       "      <td>542.0</td>\n",
       "      <td>[['Parisian atmosphere', 'Bit pricey but inter...</td>\n",
       "      <td>/Restaurant_Review-g187147-d1800036-Reviews-La...</td>\n",
       "      <td>d1800036</td>\n",
       "      <td>1</td>\n",
       "      <td>...</td>\n",
       "      <td>2017-12-12</td>\n",
       "      <td>2017-12-21</td>\n",
       "      <td>9.0</td>\n",
       "      <td>67.0</td>\n",
       "      <td>38.052504</td>\n",
       "      <td>7.610501</td>\n",
       "      <td>1</td>\n",
       "      <td>2160928</td>\n",
       "      <td>1</td>\n",
       "      <td>0.002827</td>\n",
       "    </tr>\n",
       "    <tr>\n",
       "      <th>49997</th>\n",
       "      <td>id_1649</td>\n",
       "      <td>Stockholm</td>\n",
       "      <td>['Japanese', 'Sushi']</td>\n",
       "      <td>1652.0</td>\n",
       "      <td>2.0</td>\n",
       "      <td>4.0</td>\n",
       "      <td>[['Good by swedish standards', 'A hidden jewel...</td>\n",
       "      <td>/Restaurant_Review-g189852-d947615-Reviews-Sus...</td>\n",
       "      <td>d947615</td>\n",
       "      <td>1</td>\n",
       "      <td>...</td>\n",
       "      <td>2008-04-12</td>\n",
       "      <td>2016-11-03</td>\n",
       "      <td>3127.0</td>\n",
       "      <td>480.0</td>\n",
       "      <td>106.768699</td>\n",
       "      <td>53.384349</td>\n",
       "      <td>1</td>\n",
       "      <td>975551</td>\n",
       "      <td>1</td>\n",
       "      <td>0.001059</td>\n",
       "    </tr>\n",
       "    <tr>\n",
       "      <th>49998</th>\n",
       "      <td>id_640</td>\n",
       "      <td>Warsaw</td>\n",
       "      <td>['Polish', 'European', 'Eastern European', 'Ce...</td>\n",
       "      <td>641.0</td>\n",
       "      <td>2.0</td>\n",
       "      <td>70.0</td>\n",
       "      <td>[['Underground restaurant', 'Oldest Restaurant...</td>\n",
       "      <td>/Restaurant_Review-g274856-d1100838-Reviews-Ho...</td>\n",
       "      <td>d1100838</td>\n",
       "      <td>1</td>\n",
       "      <td>...</td>\n",
       "      <td>2017-06-18</td>\n",
       "      <td>2017-07-11</td>\n",
       "      <td>23.0</td>\n",
       "      <td>230.0</td>\n",
       "      <td>124.886871</td>\n",
       "      <td>24.977374</td>\n",
       "      <td>1</td>\n",
       "      <td>1764615</td>\n",
       "      <td>1</td>\n",
       "      <td>0.000524</td>\n",
       "    </tr>\n",
       "    <tr>\n",
       "      <th>49999</th>\n",
       "      <td>id_4824</td>\n",
       "      <td>Milan</td>\n",
       "      <td>['Spanish']</td>\n",
       "      <td>4827.0</td>\n",
       "      <td>2.0</td>\n",
       "      <td>260.0</td>\n",
       "      <td>[['Average', 'Nice an informal'], ['01/31/2016...</td>\n",
       "      <td>/Restaurant_Review-g187849-d1109020-Reviews-Ta...</td>\n",
       "      <td>d1109020</td>\n",
       "      <td>1</td>\n",
       "      <td>...</td>\n",
       "      <td>2012-07-04</td>\n",
       "      <td>2016-01-31</td>\n",
       "      <td>1306.0</td>\n",
       "      <td>757.0</td>\n",
       "      <td>35.206375</td>\n",
       "      <td>35.206375</td>\n",
       "      <td>0</td>\n",
       "      <td>1399860</td>\n",
       "      <td>1</td>\n",
       "      <td>0.001924</td>\n",
       "    </tr>\n",
       "  </tbody>\n",
       "</table>\n",
       "<p>50000 rows × 61 columns</p>\n",
       "</div>"
      ],
      "text/plain": [
       "      Restaurant_id        City  \\\n",
       "0              id_0       Paris   \n",
       "1              id_1    Helsinki   \n",
       "2              id_2   Edinburgh   \n",
       "3              id_3      London   \n",
       "4              id_4  Bratislava   \n",
       "...             ...         ...   \n",
       "49995        id_499       Milan   \n",
       "49996       id_6340       Paris   \n",
       "49997       id_1649   Stockholm   \n",
       "49998        id_640      Warsaw   \n",
       "49999       id_4824       Milan   \n",
       "\n",
       "                                           Cuisine Style  Ranking  \\\n",
       "0                                         ['Bar', 'Pub']  12963.0   \n",
       "1      ['European', 'Scandinavian', 'Gluten Free Opti...    106.0   \n",
       "2                                ['Vegetarian Friendly']    810.0   \n",
       "3      ['Italian', 'Mediterranean', 'European', 'Vege...   1669.0   \n",
       "4      ['Italian', 'Mediterranean', 'European', 'Seaf...     37.0   \n",
       "...                                                  ...      ...   \n",
       "49995  ['Italian', 'Vegetarian Friendly', 'Vegan Opti...    500.0   \n",
       "49996  ['French', 'American', 'Bar', 'European', 'Veg...   6341.0   \n",
       "49997                              ['Japanese', 'Sushi']   1652.0   \n",
       "49998  ['Polish', 'European', 'Eastern European', 'Ce...    641.0   \n",
       "49999                                        ['Spanish']   4827.0   \n",
       "\n",
       "       Price Range  Number of Reviews  \\\n",
       "0              2.0                4.0   \n",
       "1              2.0               97.0   \n",
       "2              2.0               28.0   \n",
       "3              3.0              202.0   \n",
       "4              3.0              162.0   \n",
       "...            ...                ...   \n",
       "49995          2.0               79.0   \n",
       "49996          2.0              542.0   \n",
       "49997          2.0                4.0   \n",
       "49998          2.0               70.0   \n",
       "49999          2.0              260.0   \n",
       "\n",
       "                                                 Reviews  \\\n",
       "0                                               [[], []]   \n",
       "1      [['Very good reviews!', 'Fine dining in Hakani...   \n",
       "2      [['Better than the Links', 'Ivy Black'], ['12/...   \n",
       "3      [['Most exquisite', 'Delicious and authentic']...   \n",
       "4      [['Always the best in bratislava', 'Very good ...   \n",
       "...                                                  ...   \n",
       "49995  [['The real Italian experience!', 'Wonderful f...   \n",
       "49996  [['Parisian atmosphere', 'Bit pricey but inter...   \n",
       "49997  [['Good by swedish standards', 'A hidden jewel...   \n",
       "49998  [['Underground restaurant', 'Oldest Restaurant...   \n",
       "49999  [['Average', 'Nice an informal'], ['01/31/2016...   \n",
       "\n",
       "                                                  URL_TA      ID_TA  sample  \\\n",
       "0      /Restaurant_Review-g187147-d10746918-Reviews-L...  d10746918       0   \n",
       "1      /Restaurant_Review-g189934-d6674944-Reviews-Ra...   d6674944       0   \n",
       "2      /Restaurant_Review-g186525-d13129638-Reviews-B...  d13129638       0   \n",
       "3      /Restaurant_Review-g186338-d680417-Reviews-Qui...    d680417       0   \n",
       "4      /Restaurant_Review-g274924-d1112354-Reviews-Ma...   d1112354       0   \n",
       "...                                                  ...        ...     ...   \n",
       "49995  /Restaurant_Review-g187849-d2104414-Reviews-Ro...   d2104414       1   \n",
       "49996  /Restaurant_Review-g187147-d1800036-Reviews-La...   d1800036       1   \n",
       "49997  /Restaurant_Review-g189852-d947615-Reviews-Sus...    d947615       1   \n",
       "49998  /Restaurant_Review-g274856-d1100838-Reviews-Ho...   d1100838       1   \n",
       "49999  /Restaurant_Review-g187849-d1109020-Reviews-Ta...   d1109020       1   \n",
       "\n",
       "       ...  first_date  last_date  delta_days_rev  delta_days_last_rev  \\\n",
       "0      ...         NaT        NaT             0.0                136.0   \n",
       "1      ...  2017-10-29 2017-12-05            37.0                 83.0   \n",
       "2      ...  2017-12-06 2017-12-28            22.0                 60.0   \n",
       "3      ...  2017-11-22 2017-12-06            14.0                 82.0   \n",
       "4      ...  2018-01-24 2018-02-08            15.0                 18.0   \n",
       "...    ...         ...        ...             ...                  ...   \n",
       "49995  ...  2017-11-12 2017-12-16            34.0                 72.0   \n",
       "49996  ...  2017-12-12 2017-12-21             9.0                 67.0   \n",
       "49997  ...  2008-04-12 2016-11-03          3127.0                480.0   \n",
       "49998  ...  2017-06-18 2017-07-11            23.0                230.0   \n",
       "49999  ...  2012-07-04 2016-01-31          1306.0                757.0   \n",
       "\n",
       "           Weight  Weight_cusine  Capital  Population  more500  popul_rest  \n",
       "0      376.330504     188.165252        1     2160928        1    0.002827  \n",
       "1      278.012585      55.602517        1      656229        1    0.000724  \n",
       "2      340.110920     340.110920        0      482005        0    0.001546  \n",
       "3      288.434934      57.686987        1     8982256        1    0.000801  \n",
       "4      414.119422      69.019904        1      437726        0    0.000868  \n",
       "...           ...            ...      ...         ...      ...         ...  \n",
       "49995  244.546189      61.136547        0     1399860        1    0.001924  \n",
       "49996   38.052504       7.610501        1     2160928        1    0.002827  \n",
       "49997  106.768699      53.384349        1      975551        1    0.001059  \n",
       "49998  124.886871      24.977374        1     1764615        1    0.000524  \n",
       "49999   35.206375      35.206375        0     1399860        1    0.001924  \n",
       "\n",
       "[50000 rows x 61 columns]"
      ]
     },
     "execution_count": 48,
     "metadata": {},
     "output_type": "execute_result"
    }
   ],
   "source": [
    "#Чистим города от кавычек:\n",
    "data.City=data.City.apply(lambda x: x.replace(\"'\",''))\n",
    "data=data.merge(Capital, how='left',on='City')\n",
    "data['popul_rest']=data['count_rest_in_city']/data['Population']\n",
    "data"
   ]
  },
  {
   "cell_type": "markdown",
   "metadata": {},
   "source": []
  },
  {
   "cell_type": "code",
   "execution_count": 49,
   "metadata": {
    "execution": {
     "iopub.execute_input": "2021-06-02T02:59:13.208451Z",
     "iopub.status.busy": "2021-06-02T02:59:13.208082Z",
     "iopub.status.idle": "2021-06-02T02:59:14.835915Z",
     "shell.execute_reply": "2021-06-02T02:59:14.834883Z",
     "shell.execute_reply.started": "2021-06-02T02:59:13.208288Z"
    }
   },
   "outputs": [
    {
     "data": {
      "text/plain": [
       "<matplotlib.axes._subplots.AxesSubplot at 0x7f44c48a6e80>"
      ]
     },
     "execution_count": 49,
     "metadata": {},
     "output_type": "execute_result"
    },
    {
     "data": {
      "image/png": "[encoded data removed]",
      "text/plain": [
       "<Figure size 1080x720 with 2 Axes>"
      ]
     },
     "metadata": {
      "needs_background": "light"
     },
     "output_type": "display_data"
    }
   ],
   "source": [
    "dt=data.groupby('Restaurant_id')['City'].count()\n",
    "\n",
    "plt.rcParams['figure.figsize'] = (15,10)\n",
    "\n",
    "matrix = np.triu(data.corr())\n",
    "sns.heatmap(data.corr(), annot=False, mask=matrix, cmap= 'coolwarm')"
   ]
  },
  {
   "cell_type": "markdown",
   "metadata": {},
   "source": [
    "## EDA\n",
    "Простым перебором признаков не удалось получить ощутимое увеличение качества модели. Без EDA все-таки не обойтись."
   ]
  },
  {
   "cell_type": "code",
   "execution_count": 50,
   "metadata": {
    "execution": {
     "iopub.execute_input": "2021-06-02T02:59:14.844135Z",
     "iopub.status.busy": "2021-06-02T02:59:14.841360Z",
     "iopub.status.idle": "2021-06-02T02:59:14.896362Z",
     "shell.execute_reply": "2021-06-02T02:59:14.895610Z",
     "shell.execute_reply.started": "2021-06-02T02:59:14.844051Z"
    }
   },
   "outputs": [
    {
     "name": "stdout",
     "output_type": "stream",
     "text": [
      "<class 'pandas.core.frame.DataFrame'>\n",
      "Int64Index: 50000 entries, 0 to 49999\n",
      "Data columns (total 61 columns):\n",
      "Restaurant_id          50000 non-null object\n",
      "City                   50000 non-null object\n",
      "Cuisine Style          50000 non-null object\n",
      "Ranking                50000 non-null float64\n",
      "Price Range            50000 non-null float64\n",
      "Number of Reviews      50000 non-null float64\n",
      "Reviews                49998 non-null object\n",
      "URL_TA                 50000 non-null object\n",
      "ID_TA                  50000 non-null object\n",
      "sample                 50000 non-null int64\n",
      "Rating                 50000 non-null float64\n",
      "isNAN                  50000 non-null uint8\n",
      "Cuisine_Style          50000 non-null int64\n",
      "city_Amsterdam         50000 non-null uint8\n",
      "city_Athens            50000 non-null uint8\n",
      "city_Barcelona         50000 non-null uint8\n",
      "city_Berlin            50000 non-null uint8\n",
      "city_Bratislava        50000 non-null uint8\n",
      "city_Brussels          50000 non-null uint8\n",
      "city_Budapest          50000 non-null uint8\n",
      "city_Copenhagen        50000 non-null uint8\n",
      "city_Dublin            50000 non-null uint8\n",
      "city_Edinburgh         50000 non-null uint8\n",
      "city_Geneva            50000 non-null uint8\n",
      "city_Hamburg           50000 non-null uint8\n",
      "city_Helsinki          50000 non-null uint8\n",
      "city_Krakow            50000 non-null uint8\n",
      "city_Lisbon            50000 non-null uint8\n",
      "city_Ljubljana         50000 non-null uint8\n",
      "city_London            50000 non-null uint8\n",
      "city_Luxembourg        50000 non-null uint8\n",
      "city_Lyon              50000 non-null uint8\n",
      "city_Madrid            50000 non-null uint8\n",
      "city_Milan             50000 non-null uint8\n",
      "city_Munich            50000 non-null uint8\n",
      "city_Oporto            50000 non-null uint8\n",
      "city_Oslo              50000 non-null uint8\n",
      "city_Paris             50000 non-null uint8\n",
      "city_Prague            50000 non-null uint8\n",
      "city_Rome              50000 non-null uint8\n",
      "city_Stockholm         50000 non-null uint8\n",
      "city_Vienna            50000 non-null uint8\n",
      "city_Warsaw            50000 non-null uint8\n",
      "city_Zurich            50000 non-null uint8\n",
      "city_nan               50000 non-null uint8\n",
      "count_rest_in_city     50000 non-null int64\n",
      "Rank_count             50000 non-null float64\n",
      "Reviews_only           50000 non-null object\n",
      "Date_of_Reviews        50000 non-null object\n",
      "cnt_rev_0              50000 non-null float64\n",
      "date_list              50000 non-null object\n",
      "first_date             36206 non-null datetime64[ns]\n",
      "last_date              36206 non-null datetime64[ns]\n",
      "delta_days_rev         50000 non-null float64\n",
      "delta_days_last_rev    50000 non-null float64\n",
      "Weight                 50000 non-null float64\n",
      "Weight_cusine          50000 non-null float64\n",
      "Capital                50000 non-null int64\n",
      "Population             50000 non-null int64\n",
      "more500                50000 non-null int64\n",
      "popul_rest             50000 non-null float64\n",
      "dtypes: datetime64[ns](2), float64(11), int64(6), object(9), uint8(33)\n",
      "memory usage: 12.6+ MB\n"
     ]
    }
   ],
   "source": [
    "data.info()"
   ]
  },
  {
   "cell_type": "markdown",
   "metadata": {},
   "source": []
  },
  {
   "cell_type": "code",
   "execution_count": 51,
   "metadata": {
    "execution": {
     "iopub.execute_input": "2021-06-02T02:59:14.898297Z",
     "iopub.status.busy": "2021-06-02T02:59:14.897956Z",
     "iopub.status.idle": "2021-06-02T02:59:20.870149Z",
     "shell.execute_reply": "2021-06-02T02:59:20.869211Z",
     "shell.execute_reply.started": "2021-06-02T02:59:14.898230Z"
    }
   },
   "outputs": [
    {
     "name": "stdout",
     "output_type": "stream",
     "text": [
      "Распределение для столбца (числовой): Ranking\n"
     ]
    },
    {
     "data": {
      "image/png": "[encoded data removed]",
      "text/plain": [
       "<Figure size 360x360 with 1 Axes>"
      ]
     },
     "metadata": {},
     "output_type": "display_data"
    },
    {
     "name": "stdout",
     "output_type": "stream",
     "text": [
      "50000\n",
      "50000\n",
      "пустых значений,% 0.0\n",
      "Распределение для столбца (числовой): Price Range\n"
     ]
    },
    {
     "data": {
      "image/png": "[encoded data removed]",
      "text/plain": [
       "<Figure size 360x360 with 1 Axes>"
      ]
     },
     "metadata": {},
     "output_type": "display_data"
    },
    {
     "name": "stdout",
     "output_type": "stream",
     "text": [
      "50000\n",
      "50000\n",
      "пустых значений,% 0.0\n",
      "Распределение для столбца (числовой): Number of Reviews\n"
     ]
    },
    {
     "data": {
      "image/png": "[encoded data removed]",
      "text/plain": [
       "<Figure size 360x360 with 1 Axes>"
      ]
     },
     "metadata": {},
     "output_type": "display_data"
    },
    {
     "name": "stdout",
     "output_type": "stream",
     "text": [
      "50000\n",
      "50000\n",
      "пустых значений,% 0.0\n",
      "Распределение для столбца (числовой): sample\n"
     ]
    },
    {
     "data": {
      "image/png": "[encoded data removed]",
      "text/plain": [
       "<Figure size 360x360 with 1 Axes>"
      ]
     },
     "metadata": {},
     "output_type": "display_data"
    },
    {
     "name": "stdout",
     "output_type": "stream",
     "text": [
      "50000\n",
      "50000\n",
      "пустых значений,% 0.0\n",
      "Распределение для столбца (числовой): Rating\n"
     ]
    },
    {
     "data": {
      "image/png": "[encoded data removed]",
      "text/plain": [
       "<Figure size 360x360 with 1 Axes>"
      ]
     },
     "metadata": {},
     "output_type": "display_data"
    },
    {
     "name": "stdout",
     "output_type": "stream",
     "text": [
      "50000\n",
      "50000\n",
      "пустых значений,% 0.0\n",
      "Распределение для столбца (числовой): isNAN\n"
     ]
    },
    {
     "data": {
      "image/png": "[encoded data removed]",
      "text/plain": [
       "<Figure size 360x360 with 1 Axes>"
      ]
     },
     "metadata": {},
     "output_type": "display_data"
    },
    {
     "name": "stdout",
     "output_type": "stream",
     "text": [
      "50000\n",
      "50000\n",
      "пустых значений,% 0.0\n",
      "Распределение для столбца (числовой): Cuisine_Style\n"
     ]
    },
    {
     "data": {
      "image/png": "[encoded data removed]",
      "text/plain": [
       "<Figure size 360x360 with 1 Axes>"
      ]
     },
     "metadata": {},
     "output_type": "display_data"
    },
    {
     "name": "stdout",
     "output_type": "stream",
     "text": [
      "50000\n",
      "50000\n",
      "пустых значений,% 0.0\n",
      "Распределение для столбца (числовой): count_rest_in_city\n"
     ]
    },
    {
     "data": {
      "image/png": "[encoded data removed]",
      "text/plain": [
       "<Figure size 360x360 with 1 Axes>"
      ]
     },
     "metadata": {},
     "output_type": "display_data"
    },
    {
     "name": "stdout",
     "output_type": "stream",
     "text": [
      "50000\n",
      "50000\n",
      "пустых значений,% 0.0\n",
      "Распределение для столбца (числовой): Rank_count\n"
     ]
    },
    {
     "data": {
      "image/png": "[encoded data removed]",
      "text/plain": [
       "<Figure size 360x360 with 1 Axes>"
      ]
     },
     "metadata": {},
     "output_type": "display_data"
    },
    {
     "name": "stdout",
     "output_type": "stream",
     "text": [
      "50000\n",
      "50000\n",
      "пустых значений,% 0.0\n",
      "Распределение для столбца (числовой): cnt_rev_0\n"
     ]
    },
    {
     "data": {
      "image/png": "[encoded data removed]",
      "text/plain": [
       "<Figure size 360x360 with 1 Axes>"
      ]
     },
     "metadata": {},
     "output_type": "display_data"
    },
    {
     "name": "stdout",
     "output_type": "stream",
     "text": [
      "50000\n",
      "50000\n",
      "пустых значений,% 0.0\n",
      "Распределение для столбца (числовой): delta_days_rev\n"
     ]
    },
    {
     "data": {
      "image/png": "[encoded data removed]",
      "text/plain": [
       "<Figure size 360x360 with 1 Axes>"
      ]
     },
     "metadata": {},
     "output_type": "display_data"
    },
    {
     "name": "stdout",
     "output_type": "stream",
     "text": [
      "50000\n",
      "50000\n",
      "пустых значений,% 0.0\n",
      "Распределение для столбца (числовой): delta_days_last_rev\n"
     ]
    },
    {
     "data": {
      "image/png": "[encoded data removed]",
      "text/plain": [
       "<Figure size 360x360 with 1 Axes>"
      ]
     },
     "metadata": {},
     "output_type": "display_data"
    },
    {
     "name": "stdout",
     "output_type": "stream",
     "text": [
      "50000\n",
      "50000\n",
      "пустых значений,% 0.0\n",
      "Распределение для столбца (числовой): Weight\n"
     ]
    },
    {
     "data": {
      "image/png": "[encoded data removed]",
      "text/plain": [
       "<Figure size 360x360 with 1 Axes>"
      ]
     },
     "metadata": {},
     "output_type": "display_data"
    },
    {
     "name": "stdout",
     "output_type": "stream",
     "text": [
      "50000\n",
      "50000\n",
      "пустых значений,% 0.0\n",
      "Распределение для столбца (числовой): Weight_cusine\n"
     ]
    },
    {
     "data": {
      "image/png": "[encoded data removed]",
      "text/plain": [
       "<Figure size 360x360 with 1 Axes>"
      ]
     },
     "metadata": {},
     "output_type": "display_data"
    },
    {
     "name": "stdout",
     "output_type": "stream",
     "text": [
      "50000\n",
      "50000\n",
      "пустых значений,% 0.0\n",
      "Распределение для столбца (числовой): Capital\n"
     ]
    },
    {
     "data": {
      "image/png": "[encoded data removed]",
      "text/plain": [
       "<Figure size 360x360 with 1 Axes>"
      ]
     },
     "metadata": {},
     "output_type": "display_data"
    },
    {
     "name": "stdout",
     "output_type": "stream",
     "text": [
      "50000\n",
      "50000\n",
      "пустых значений,% 0.0\n",
      "Распределение для столбца (числовой): Population\n"
     ]
    },
    {
     "data": {
      "image/png": "[encoded data removed]",
      "text/plain": [
       "<Figure size 360x360 with 1 Axes>"
      ]
     },
     "metadata": {},
     "output_type": "display_data"
    },
    {
     "name": "stdout",
     "output_type": "stream",
     "text": [
      "50000\n",
      "50000\n",
      "пустых значений,% 0.0\n",
      "Распределение для столбца (числовой): more500\n"
     ]
    },
    {
     "data": {
      "image/png": "[encoded data removed]",
      "text/plain": [
       "<Figure size 360x360 with 1 Axes>"
      ]
     },
     "metadata": {},
     "output_type": "display_data"
    },
    {
     "name": "stdout",
     "output_type": "stream",
     "text": [
      "50000\n",
      "50000\n",
      "пустых значений,% 0.0\n",
      "Распределение для столбца (числовой): popul_rest\n"
     ]
    },
    {
     "data": {
      "image/png": "[encoded data removed]",
      "text/plain": [
       "<Figure size 360x360 with 1 Axes>"
      ]
     },
     "metadata": {},
     "output_type": "display_data"
    },
    {
     "name": "stdout",
     "output_type": "stream",
     "text": [
      "50000\n",
      "50000\n",
      "пустых значений,% 0.0\n"
     ]
    }
   ],
   "source": [
    "#формируем список столбцов с числовыми значениями\n",
    "numbers_colmn_list=(data.select_dtypes(include=[np.number])).columns.values.tolist()\n",
    "numbers_colmn_list\n",
    "#распределение цифровых столбцов\n",
    "for column in numbers_colmn_list:\n",
    "    borders=None\n",
    "    if column[0:4]=='city':\n",
    "        continue\n",
    "    \n",
    "    plot_num(data,column,borders)"
   ]
  },
  {
   "cell_type": "markdown",
   "metadata": {},
   "source": [
    "Выводы.\n",
    "Прослеживается закономерность в распределении численности населения: версия с разделением на сегменты по признаку чилсленность населения более 500т выглядит правдоподобно. Есть смысл сегментировать признак и использовать его при построении модели (more500)\n",
    "Вес каждой кухни и средний вес популярности (как сумма весов/количество кухонь) кухни не повлиял в лучшую сторону на качество модели, но сбрасывать его со счетов пока что не стоит.  \n",
    "Признак \"Количество ресторанов в городе\" (count_rest_in_city) можно попытаться также сегментировать (count_rest_in_city_segm=1 (более 0,0006) (т.к. количество ресторанов сильно зависит от размера города) и оценить результат.\n",
    "Также можно проверить комбинацию сегментированных (count_rest_in_city_segm, more500)  и несегментированных (count_rest_in_city, population) признаков (проверено, незначительное снижение ошбики дает использование \"чистых\" значений, без признака сегмента).\n",
    "По признакам, так или иначе связанным с размером города: Рапределение смещено, можно попробовать нормализовать распределение и оценить результат.\n",
    "\n"
   ]
  },
  {
   "cell_type": "code",
   "execution_count": 52,
   "metadata": {
    "execution": {
     "iopub.execute_input": "2021-06-02T02:59:20.872067Z",
     "iopub.status.busy": "2021-06-02T02:59:20.871549Z",
     "iopub.status.idle": "2021-06-02T02:59:20.933114Z",
     "shell.execute_reply": "2021-06-02T02:59:20.932324Z",
     "shell.execute_reply.started": "2021-06-02T02:59:20.872009Z"
    }
   },
   "outputs": [],
   "source": [
    "data['count_rest_in_city_segm']=data['popul_rest'].apply(lambda x: 1 if x>0.006 else 0)\n",
    "#преобразуем id:\n",
    "data['Restaurant_id_num']=data['Restaurant_id'].apply(lambda x: int(x.replace('id_','')))"
   ]
  },
  {
   "cell_type": "markdown",
   "metadata": {},
   "source": [
    "Посмотрим на выбросы, попробуем заменить на среднее значение даты:"
   ]
  },
  {
   "cell_type": "code",
   "execution_count": 53,
   "metadata": {
    "execution": {
     "iopub.execute_input": "2021-06-02T02:59:20.934910Z",
     "iopub.status.busy": "2021-06-02T02:59:20.934392Z",
     "iopub.status.idle": "2021-06-02T02:59:20.996949Z",
     "shell.execute_reply": "2021-06-02T02:59:20.996013Z",
     "shell.execute_reply.started": "2021-06-02T02:59:20.934854Z"
    }
   },
   "outputs": [
    {
     "data": {
      "text/html": [
       "<div>\n",
       "<style scoped>\n",
       "    .dataframe tbody tr th:only-of-type {\n",
       "        vertical-align: middle;\n",
       "    }\n",
       "\n",
       "    .dataframe tbody tr th {\n",
       "        vertical-align: top;\n",
       "    }\n",
       "\n",
       "    .dataframe thead th {\n",
       "        text-align: right;\n",
       "    }\n",
       "</style>\n",
       "<table border=\"1\" class=\"dataframe\">\n",
       "  <thead>\n",
       "    <tr style=\"text-align: right;\">\n",
       "      <th></th>\n",
       "      <th>Restaurant_id</th>\n",
       "      <th>City</th>\n",
       "      <th>Cuisine Style</th>\n",
       "      <th>Ranking</th>\n",
       "      <th>Price Range</th>\n",
       "      <th>Number of Reviews</th>\n",
       "      <th>Reviews</th>\n",
       "      <th>URL_TA</th>\n",
       "      <th>ID_TA</th>\n",
       "      <th>sample</th>\n",
       "      <th>...</th>\n",
       "      <th>delta_days_rev</th>\n",
       "      <th>delta_days_last_rev</th>\n",
       "      <th>Weight</th>\n",
       "      <th>Weight_cusine</th>\n",
       "      <th>Capital</th>\n",
       "      <th>Population</th>\n",
       "      <th>more500</th>\n",
       "      <th>popul_rest</th>\n",
       "      <th>count_rest_in_city_segm</th>\n",
       "      <th>Restaurant_id_num</th>\n",
       "    </tr>\n",
       "  </thead>\n",
       "  <tbody>\n",
       "    <tr>\n",
       "      <th>13</th>\n",
       "      <td>id_13</td>\n",
       "      <td>Hamburg</td>\n",
       "      <td>[mixed]</td>\n",
       "      <td>1000.0</td>\n",
       "      <td>2.0</td>\n",
       "      <td>30.0</td>\n",
       "      <td>[['Surprisingly good pizza', 'Yummy'], ['09/28...</td>\n",
       "      <td>/Restaurant_Review-g187331-d1344523-Reviews-Il...</td>\n",
       "      <td>d1344523</td>\n",
       "      <td>0</td>\n",
       "      <td>...</td>\n",
       "      <td>374.0</td>\n",
       "      <td>151.0</td>\n",
       "      <td>297.539348</td>\n",
       "      <td>297.539348</td>\n",
       "      <td>0</td>\n",
       "      <td>1841179</td>\n",
       "      <td>1</td>\n",
       "      <td>0.000644</td>\n",
       "      <td>0</td>\n",
       "      <td>13</td>\n",
       "    </tr>\n",
       "    <tr>\n",
       "      <th>22</th>\n",
       "      <td>id_22</td>\n",
       "      <td>Barcelona</td>\n",
       "      <td>['Mediterranean', 'Spanish', 'Vegetarian Frien...</td>\n",
       "      <td>2853.0</td>\n",
       "      <td>2.0</td>\n",
       "      <td>71.0</td>\n",
       "      <td>[['Amazing', 'Loved It!!!!'], ['09/24/2017', '...</td>\n",
       "      <td>/Restaurant_Review-g187497-d1216215-Reviews-La...</td>\n",
       "      <td>d1216215</td>\n",
       "      <td>0</td>\n",
       "      <td>...</td>\n",
       "      <td>797.0</td>\n",
       "      <td>155.0</td>\n",
       "      <td>302.314385</td>\n",
       "      <td>100.771462</td>\n",
       "      <td>1</td>\n",
       "      <td>1636762</td>\n",
       "      <td>1</td>\n",
       "      <td>0.002074</td>\n",
       "      <td>0</td>\n",
       "      <td>22</td>\n",
       "    </tr>\n",
       "    <tr>\n",
       "      <th>47</th>\n",
       "      <td>id_47</td>\n",
       "      <td>Paris</td>\n",
       "      <td>['French', 'Fusion']</td>\n",
       "      <td>3859.0</td>\n",
       "      <td>2.0</td>\n",
       "      <td>144.0</td>\n",
       "      <td>[['Good food', 'complete satisfaction'], ['11/...</td>\n",
       "      <td>/Restaurant_Review-g187147-d1336377-Reviews-La...</td>\n",
       "      <td>d1336377</td>\n",
       "      <td>0</td>\n",
       "      <td>...</td>\n",
       "      <td>648.0</td>\n",
       "      <td>474.0</td>\n",
       "      <td>304.430698</td>\n",
       "      <td>152.215349</td>\n",
       "      <td>1</td>\n",
       "      <td>2160928</td>\n",
       "      <td>1</td>\n",
       "      <td>0.002827</td>\n",
       "      <td>0</td>\n",
       "      <td>47</td>\n",
       "    </tr>\n",
       "    <tr>\n",
       "      <th>56</th>\n",
       "      <td>id_56</td>\n",
       "      <td>London</td>\n",
       "      <td>['Indian', 'Asian']</td>\n",
       "      <td>13559.0</td>\n",
       "      <td>2.0</td>\n",
       "      <td>13.0</td>\n",
       "      <td>[['Dinner', \"Mum's 80th Birthday Surprise Lunc...</td>\n",
       "      <td>/Restaurant_Review-g186338-d4919094-Reviews-Bl...</td>\n",
       "      <td>d4919094</td>\n",
       "      <td>0</td>\n",
       "      <td>...</td>\n",
       "      <td>330.0</td>\n",
       "      <td>278.0</td>\n",
       "      <td>251.417732</td>\n",
       "      <td>125.708866</td>\n",
       "      <td>1</td>\n",
       "      <td>8982256</td>\n",
       "      <td>1</td>\n",
       "      <td>0.000801</td>\n",
       "      <td>0</td>\n",
       "      <td>56</td>\n",
       "    </tr>\n",
       "    <tr>\n",
       "      <th>92</th>\n",
       "      <td>id_92</td>\n",
       "      <td>Paris</td>\n",
       "      <td>['Italian']</td>\n",
       "      <td>5317.0</td>\n",
       "      <td>1.0</td>\n",
       "      <td>49.0</td>\n",
       "      <td>[['Sad restaurant', 'Well worth trying'], ['07...</td>\n",
       "      <td>/Restaurant_Review-g187147-d1337474-Reviews-Il...</td>\n",
       "      <td>d1337474</td>\n",
       "      <td>0</td>\n",
       "      <td>...</td>\n",
       "      <td>776.0</td>\n",
       "      <td>230.0</td>\n",
       "      <td>302.437036</td>\n",
       "      <td>302.437036</td>\n",
       "      <td>1</td>\n",
       "      <td>2160928</td>\n",
       "      <td>1</td>\n",
       "      <td>0.002827</td>\n",
       "      <td>0</td>\n",
       "      <td>92</td>\n",
       "    </tr>\n",
       "    <tr>\n",
       "      <th>...</th>\n",
       "      <td>...</td>\n",
       "      <td>...</td>\n",
       "      <td>...</td>\n",
       "      <td>...</td>\n",
       "      <td>...</td>\n",
       "      <td>...</td>\n",
       "      <td>...</td>\n",
       "      <td>...</td>\n",
       "      <td>...</td>\n",
       "      <td>...</td>\n",
       "      <td>...</td>\n",
       "      <td>...</td>\n",
       "      <td>...</td>\n",
       "      <td>...</td>\n",
       "      <td>...</td>\n",
       "      <td>...</td>\n",
       "      <td>...</td>\n",
       "      <td>...</td>\n",
       "      <td>...</td>\n",
       "      <td>...</td>\n",
       "      <td>...</td>\n",
       "    </tr>\n",
       "    <tr>\n",
       "      <th>49960</th>\n",
       "      <td>id_3989</td>\n",
       "      <td>Prague</td>\n",
       "      <td>['European', 'Czech']</td>\n",
       "      <td>4000.0</td>\n",
       "      <td>2.0</td>\n",
       "      <td>3.0</td>\n",
       "      <td>[['Time saver for the castle', 'Tourist trap.....</td>\n",
       "      <td>/Restaurant_Review-g274707-d7653680-Reviews-Ca...</td>\n",
       "      <td>d7653680</td>\n",
       "      <td>1</td>\n",
       "      <td>...</td>\n",
       "      <td>632.0</td>\n",
       "      <td>164.0</td>\n",
       "      <td>43.545930</td>\n",
       "      <td>21.772965</td>\n",
       "      <td>1</td>\n",
       "      <td>1308632</td>\n",
       "      <td>1</td>\n",
       "      <td>0.001388</td>\n",
       "      <td>0</td>\n",
       "      <td>3989</td>\n",
       "    </tr>\n",
       "    <tr>\n",
       "      <th>49963</th>\n",
       "      <td>id_562</td>\n",
       "      <td>Milan</td>\n",
       "      <td>['Japanese', 'Sushi', 'Fusion', 'Vegetarian Fr...</td>\n",
       "      <td>563.0</td>\n",
       "      <td>2.0</td>\n",
       "      <td>360.0</td>\n",
       "      <td>[['You know what you get', 'High level sushi i...</td>\n",
       "      <td>/Restaurant_Review-g187849-d2344726-Reviews-Mi...</td>\n",
       "      <td>d2344726</td>\n",
       "      <td>1</td>\n",
       "      <td>...</td>\n",
       "      <td>422.0</td>\n",
       "      <td>323.0</td>\n",
       "      <td>194.454771</td>\n",
       "      <td>48.613693</td>\n",
       "      <td>0</td>\n",
       "      <td>1399860</td>\n",
       "      <td>1</td>\n",
       "      <td>0.001924</td>\n",
       "      <td>0</td>\n",
       "      <td>562</td>\n",
       "    </tr>\n",
       "    <tr>\n",
       "      <th>49993</th>\n",
       "      <td>id_6057</td>\n",
       "      <td>Paris</td>\n",
       "      <td>[mixed]</td>\n",
       "      <td>6058.0</td>\n",
       "      <td>2.0</td>\n",
       "      <td>16.0</td>\n",
       "      <td>[['Naught but VERY nice', 'Yum'], ['01/23/2017...</td>\n",
       "      <td>/Restaurant_Review-g187147-d10532509-Reviews-B...</td>\n",
       "      <td>d10532509</td>\n",
       "      <td>1</td>\n",
       "      <td>...</td>\n",
       "      <td>342.0</td>\n",
       "      <td>57.0</td>\n",
       "      <td>27.736809</td>\n",
       "      <td>27.736809</td>\n",
       "      <td>1</td>\n",
       "      <td>2160928</td>\n",
       "      <td>1</td>\n",
       "      <td>0.002827</td>\n",
       "      <td>0</td>\n",
       "      <td>6057</td>\n",
       "    </tr>\n",
       "    <tr>\n",
       "      <th>49997</th>\n",
       "      <td>id_1649</td>\n",
       "      <td>Stockholm</td>\n",
       "      <td>['Japanese', 'Sushi']</td>\n",
       "      <td>1652.0</td>\n",
       "      <td>2.0</td>\n",
       "      <td>4.0</td>\n",
       "      <td>[['Good by swedish standards', 'A hidden jewel...</td>\n",
       "      <td>/Restaurant_Review-g189852-d947615-Reviews-Sus...</td>\n",
       "      <td>d947615</td>\n",
       "      <td>1</td>\n",
       "      <td>...</td>\n",
       "      <td>3127.0</td>\n",
       "      <td>480.0</td>\n",
       "      <td>106.768699</td>\n",
       "      <td>53.384349</td>\n",
       "      <td>1</td>\n",
       "      <td>975551</td>\n",
       "      <td>1</td>\n",
       "      <td>0.001059</td>\n",
       "      <td>0</td>\n",
       "      <td>1649</td>\n",
       "    </tr>\n",
       "    <tr>\n",
       "      <th>49999</th>\n",
       "      <td>id_4824</td>\n",
       "      <td>Milan</td>\n",
       "      <td>['Spanish']</td>\n",
       "      <td>4827.0</td>\n",
       "      <td>2.0</td>\n",
       "      <td>260.0</td>\n",
       "      <td>[['Average', 'Nice an informal'], ['01/31/2016...</td>\n",
       "      <td>/Restaurant_Review-g187849-d1109020-Reviews-Ta...</td>\n",
       "      <td>d1109020</td>\n",
       "      <td>1</td>\n",
       "      <td>...</td>\n",
       "      <td>1306.0</td>\n",
       "      <td>757.0</td>\n",
       "      <td>35.206375</td>\n",
       "      <td>35.206375</td>\n",
       "      <td>0</td>\n",
       "      <td>1399860</td>\n",
       "      <td>1</td>\n",
       "      <td>0.001924</td>\n",
       "      <td>0</td>\n",
       "      <td>4824</td>\n",
       "    </tr>\n",
       "  </tbody>\n",
       "</table>\n",
       "<p>4536 rows × 63 columns</p>\n",
       "</div>"
      ],
      "text/plain": [
       "      Restaurant_id       City  \\\n",
       "13            id_13    Hamburg   \n",
       "22            id_22  Barcelona   \n",
       "47            id_47      Paris   \n",
       "56            id_56     London   \n",
       "92            id_92      Paris   \n",
       "...             ...        ...   \n",
       "49960       id_3989     Prague   \n",
       "49963        id_562      Milan   \n",
       "49993       id_6057      Paris   \n",
       "49997       id_1649  Stockholm   \n",
       "49999       id_4824      Milan   \n",
       "\n",
       "                                           Cuisine Style  Ranking  \\\n",
       "13                                               [mixed]   1000.0   \n",
       "22     ['Mediterranean', 'Spanish', 'Vegetarian Frien...   2853.0   \n",
       "47                                  ['French', 'Fusion']   3859.0   \n",
       "56                                   ['Indian', 'Asian']  13559.0   \n",
       "92                                           ['Italian']   5317.0   \n",
       "...                                                  ...      ...   \n",
       "49960                              ['European', 'Czech']   4000.0   \n",
       "49963  ['Japanese', 'Sushi', 'Fusion', 'Vegetarian Fr...    563.0   \n",
       "49993                                            [mixed]   6058.0   \n",
       "49997                              ['Japanese', 'Sushi']   1652.0   \n",
       "49999                                        ['Spanish']   4827.0   \n",
       "\n",
       "       Price Range  Number of Reviews  \\\n",
       "13             2.0               30.0   \n",
       "22             2.0               71.0   \n",
       "47             2.0              144.0   \n",
       "56             2.0               13.0   \n",
       "92             1.0               49.0   \n",
       "...            ...                ...   \n",
       "49960          2.0                3.0   \n",
       "49963          2.0              360.0   \n",
       "49993          2.0               16.0   \n",
       "49997          2.0                4.0   \n",
       "49999          2.0              260.0   \n",
       "\n",
       "                                                 Reviews  \\\n",
       "13     [['Surprisingly good pizza', 'Yummy'], ['09/28...   \n",
       "22     [['Amazing', 'Loved It!!!!'], ['09/24/2017', '...   \n",
       "47     [['Good food', 'complete satisfaction'], ['11/...   \n",
       "56     [['Dinner', \"Mum's 80th Birthday Surprise Lunc...   \n",
       "92     [['Sad restaurant', 'Well worth trying'], ['07...   \n",
       "...                                                  ...   \n",
       "49960  [['Time saver for the castle', 'Tourist trap.....   \n",
       "49963  [['You know what you get', 'High level sushi i...   \n",
       "49993  [['Naught but VERY nice', 'Yum'], ['01/23/2017...   \n",
       "49997  [['Good by swedish standards', 'A hidden jewel...   \n",
       "49999  [['Average', 'Nice an informal'], ['01/31/2016...   \n",
       "\n",
       "                                                  URL_TA      ID_TA  sample  \\\n",
       "13     /Restaurant_Review-g187331-d1344523-Reviews-Il...   d1344523       0   \n",
       "22     /Restaurant_Review-g187497-d1216215-Reviews-La...   d1216215       0   \n",
       "47     /Restaurant_Review-g187147-d1336377-Reviews-La...   d1336377       0   \n",
       "56     /Restaurant_Review-g186338-d4919094-Reviews-Bl...   d4919094       0   \n",
       "92     /Restaurant_Review-g187147-d1337474-Reviews-Il...   d1337474       0   \n",
       "...                                                  ...        ...     ...   \n",
       "49960  /Restaurant_Review-g274707-d7653680-Reviews-Ca...   d7653680       1   \n",
       "49963  /Restaurant_Review-g187849-d2344726-Reviews-Mi...   d2344726       1   \n",
       "49993  /Restaurant_Review-g187147-d10532509-Reviews-B...  d10532509       1   \n",
       "49997  /Restaurant_Review-g189852-d947615-Reviews-Sus...    d947615       1   \n",
       "49999  /Restaurant_Review-g187849-d1109020-Reviews-Ta...   d1109020       1   \n",
       "\n",
       "       ...  delta_days_rev  delta_days_last_rev      Weight  Weight_cusine  \\\n",
       "13     ...           374.0                151.0  297.539348     297.539348   \n",
       "22     ...           797.0                155.0  302.314385     100.771462   \n",
       "47     ...           648.0                474.0  304.430698     152.215349   \n",
       "56     ...           330.0                278.0  251.417732     125.708866   \n",
       "92     ...           776.0                230.0  302.437036     302.437036   \n",
       "...    ...             ...                  ...         ...            ...   \n",
       "49960  ...           632.0                164.0   43.545930      21.772965   \n",
       "49963  ...           422.0                323.0  194.454771      48.613693   \n",
       "49993  ...           342.0                 57.0   27.736809      27.736809   \n",
       "49997  ...          3127.0                480.0  106.768699      53.384349   \n",
       "49999  ...          1306.0                757.0   35.206375      35.206375   \n",
       "\n",
       "       Capital  Population  more500  popul_rest  count_rest_in_city_segm  \\\n",
       "13           0     1841179        1    0.000644                        0   \n",
       "22           1     1636762        1    0.002074                        0   \n",
       "47           1     2160928        1    0.002827                        0   \n",
       "56           1     8982256        1    0.000801                        0   \n",
       "92           1     2160928        1    0.002827                        0   \n",
       "...        ...         ...      ...         ...                      ...   \n",
       "49960        1     1308632        1    0.001388                        0   \n",
       "49963        0     1399860        1    0.001924                        0   \n",
       "49993        1     2160928        1    0.002827                        0   \n",
       "49997        1      975551        1    0.001059                        0   \n",
       "49999        0     1399860        1    0.001924                        0   \n",
       "\n",
       "       Restaurant_id_num  \n",
       "13                    13  \n",
       "22                    22  \n",
       "47                    47  \n",
       "56                    56  \n",
       "92                    92  \n",
       "...                  ...  \n",
       "49960               3989  \n",
       "49963                562  \n",
       "49993               6057  \n",
       "49997               1649  \n",
       "49999               4824  \n",
       "\n",
       "[4536 rows x 63 columns]"
      ]
     },
     "execution_count": 53,
     "metadata": {},
     "output_type": "execute_result"
    }
   ],
   "source": [
    "q=data.delta_days_rev.describe()\n",
    "#print(q)\n",
    "#low=q[4]-1.5*(q[6]-q[4])\n",
    "#up=q[6]+1.5*(q[6]-q[4])\n",
    "                                \n",
    "#mid_value=data.delta_days_rev.mean()\n",
    "\n",
    "#print (up, low, mid_value)\n",
    "data[~data.delta_days_rev.between(q[4]-1.5*(q[6]-q[4]),q[6]+1.5*(q[6]-q[4]))&pd.notnull(data.loc[:,'delta_days_rev'])]\n",
    "#data.delta_days_rev=data.delta_days_rev.apply(lambda x: mid_value if x==0 else x)\n",
    "#data.info()\n",
    "\n",
    "\n",
    "#положительного результата замена не дала"
   ]
  },
  {
   "cell_type": "markdown",
   "metadata": {
    "execution": {
     "iopub.execute_input": "2021-06-01T22:59:16.167627Z",
     "iopub.status.busy": "2021-06-01T22:59:16.167406Z",
     "iopub.status.idle": "2021-06-01T22:59:16.224481Z",
     "shell.execute_reply": "2021-06-01T22:59:16.223875Z",
     "shell.execute_reply.started": "2021-06-01T22:59:16.167585Z"
    }
   },
   "source": [
    "Ну и последняя попытка сделать модель лучше: \n",
    "1. Определим значимые категориальные признаки с попощью теста Стьюдента (процедура из предыдущего юнита)\n",
    "2. Убираем столбцы, пусть значимые, но создающие шум. Оцениваем результат после каждого удаленного столбца."
   ]
  },
  {
   "cell_type": "code",
   "execution_count": 54,
   "metadata": {
    "execution": {
     "iopub.execute_input": "2021-06-02T02:59:20.998795Z",
     "iopub.status.busy": "2021-06-02T02:59:20.998301Z",
     "iopub.status.idle": "2021-06-02T02:59:31.298495Z",
     "shell.execute_reply": "2021-06-02T02:59:31.297432Z",
     "shell.execute_reply.started": "2021-06-02T02:59:20.998739Z"
    }
   },
   "outputs": [
    {
     "name": "stdout",
     "output_type": "stream",
     "text": [
      "Найдены статистически значимые различия для колонки City\n",
      "Найдены статистически значимые различия для колонки Price Range\n",
      "Найдены статистически значимые различия для колонки URL_TA\n",
      "Найдены статистически значимые различия для колонки ID_TA\n",
      "Найдены статистически значимые различия для колонки sample\n",
      "Найдены статистически значимые различия для колонки isNAN\n",
      "Найдены статистически значимые различия для колонки Cuisine_Style\n",
      "Найдены статистически значимые различия для колонки city_Athens\n",
      "Найдены статистически значимые различия для колонки city_Berlin\n",
      "Найдены статистически значимые различия для колонки city_Madrid\n",
      "Найдены статистически значимые различия для колонки city_Milan\n",
      "Найдены статистически значимые различия для колонки city_Oporto\n",
      "Найдены статистически значимые различия для колонки city_Rome\n",
      "Найдены статистически значимые различия для колонки city_Stockholm\n",
      "Найдены статистически значимые различия для колонки city_Vienna\n",
      "Найдены статистически значимые различия для колонки count_rest_in_city\n",
      "Найдены статистически значимые различия для колонки cnt_rev_0\n",
      "Найдены статистически значимые различия для колонки Weight\n",
      "Найдены статистически значимые различия для колонки Weight_cusine\n",
      "Найдены статистически значимые различия для колонки Population\n",
      "Найдены статистически значимые различия для колонки popul_rest\n"
     ]
    },
    {
     "data": {
      "text/plain": [
       "['city_Amsterdam',\n",
       " 'city_Barcelona',\n",
       " 'city_Bratislava',\n",
       " 'city_Brussels',\n",
       " 'city_Budapest',\n",
       " 'city_Copenhagen',\n",
       " 'city_Dublin',\n",
       " 'city_Edinburgh',\n",
       " 'city_Geneva',\n",
       " 'city_Hamburg',\n",
       " 'city_Helsinki',\n",
       " 'city_Krakow',\n",
       " 'city_Lisbon',\n",
       " 'city_Ljubljana',\n",
       " 'city_London',\n",
       " 'city_Luxembourg',\n",
       " 'city_Lyon',\n",
       " 'city_Munich',\n",
       " 'city_Oslo',\n",
       " 'city_Paris',\n",
       " 'city_Prague',\n",
       " 'city_Warsaw',\n",
       " 'city_Zurich',\n",
       " 'city_nan']"
      ]
     },
     "execution_count": 54,
     "metadata": {},
     "output_type": "execute_result"
    }
   ],
   "source": [
    "#data.info()\n",
    "not_st_list=[]\n",
    "st_list=[]\n",
    "data.sample()\n",
    "#data=data.drop(['Reviews','URL_TA'], axis=1)\n",
    "numbers_colmn_list=['Reviews','Number of Reviews','delta_days_rev','delta_days_last_rev','Restaurant_id_num','Cuisine Style','Rating','Date_of_Reviews','date_list']\n",
    "                    #'Weight','Weight_cusine','Population','popul_rest',\n",
    "for colum in data.columns:\n",
    "    #print (colum)\n",
    "    if colum not in numbers_colmn_list :    \n",
    "        st_t=get_stat_dif(data,colum)\n",
    "        #print(st_t)\n",
    "        if st_t==1: st_list.append(colum)\n",
    "for colum in data.columns:\n",
    "#    print(colum[0:3])\n",
    "    if colum not in st_list and colum[0:3]=='cit':\n",
    "        \n",
    "        not_st_list.append(colum)\n",
    "not_st_list        "
   ]
  },
  {
   "cell_type": "markdown",
   "metadata": {
    "execution": {
     "iopub.execute_input": "2021-06-02T00:38:46.598639Z",
     "iopub.status.busy": "2021-06-02T00:38:46.598431Z",
     "iopub.status.idle": "2021-06-02T00:38:46.603519Z",
     "shell.execute_reply": "2021-06-02T00:38:46.602719Z",
     "shell.execute_reply.started": "2021-06-02T00:38:46.598595Z"
    }
   },
   "source": [
    "Cоздаем модель на основании теста Стьюдента (только он)\n",
    "Результат валидации (ошибка) немного ухудшился, в таком виде модель использовать не стоит. Но можно попробовать изменить предыдущую модель с учотом значимости признаков (по тесту)\n",
    "1. Выделим числовую часть из признака ID_TA\n"
   ]
  },
  {
   "cell_type": "code",
   "execution_count": 55,
   "metadata": {
    "execution": {
     "iopub.execute_input": "2021-06-02T02:59:31.299863Z",
     "iopub.status.busy": "2021-06-02T02:59:31.299645Z",
     "iopub.status.idle": "2021-06-02T02:59:31.356328Z",
     "shell.execute_reply": "2021-06-02T02:59:31.355698Z",
     "shell.execute_reply.started": "2021-06-02T02:59:31.299831Z"
    }
   },
   "outputs": [
    {
     "data": {
      "text/html": [
       "<div>\n",
       "<style scoped>\n",
       "    .dataframe tbody tr th:only-of-type {\n",
       "        vertical-align: middle;\n",
       "    }\n",
       "\n",
       "    .dataframe tbody tr th {\n",
       "        vertical-align: top;\n",
       "    }\n",
       "\n",
       "    .dataframe thead th {\n",
       "        text-align: right;\n",
       "    }\n",
       "</style>\n",
       "<table border=\"1\" class=\"dataframe\">\n",
       "  <thead>\n",
       "    <tr style=\"text-align: right;\">\n",
       "      <th></th>\n",
       "      <th>Restaurant_id</th>\n",
       "      <th>City</th>\n",
       "      <th>Cuisine Style</th>\n",
       "      <th>Ranking</th>\n",
       "      <th>Price Range</th>\n",
       "      <th>Number of Reviews</th>\n",
       "      <th>Reviews</th>\n",
       "      <th>URL_TA</th>\n",
       "      <th>ID_TA</th>\n",
       "      <th>sample</th>\n",
       "      <th>...</th>\n",
       "      <th>delta_days_last_rev</th>\n",
       "      <th>Weight</th>\n",
       "      <th>Weight_cusine</th>\n",
       "      <th>Capital</th>\n",
       "      <th>Population</th>\n",
       "      <th>more500</th>\n",
       "      <th>popul_rest</th>\n",
       "      <th>count_rest_in_city_segm</th>\n",
       "      <th>Restaurant_id_num</th>\n",
       "      <th>id_ta</th>\n",
       "    </tr>\n",
       "  </thead>\n",
       "  <tbody>\n",
       "    <tr>\n",
       "      <th>26045</th>\n",
       "      <td>id_317</td>\n",
       "      <td>Luxembourg</td>\n",
       "      <td>['Italian']</td>\n",
       "      <td>318.0</td>\n",
       "      <td>1.0</td>\n",
       "      <td>14.0</td>\n",
       "      <td>[['Really weird experience', \"Luxembourg's bes...</td>\n",
       "      <td>/Restaurant_Review-g190356-d7723145-Reviews-At...</td>\n",
       "      <td>d7723145</td>\n",
       "      <td>1</td>\n",
       "      <td>...</td>\n",
       "      <td>307.0</td>\n",
       "      <td>205.925373</td>\n",
       "      <td>205.925373</td>\n",
       "      <td>1</td>\n",
       "      <td>613894</td>\n",
       "      <td>1</td>\n",
       "      <td>0.000428</td>\n",
       "      <td>0</td>\n",
       "      <td>317</td>\n",
       "      <td>7723145</td>\n",
       "    </tr>\n",
       "    <tr>\n",
       "      <th>28762</th>\n",
       "      <td>id_347</td>\n",
       "      <td>Oslo</td>\n",
       "      <td>['Italian', 'Mediterranean']</td>\n",
       "      <td>348.0</td>\n",
       "      <td>2.0</td>\n",
       "      <td>18.0</td>\n",
       "      <td>[['Awesome Italian food, great Service, lovel....</td>\n",
       "      <td>/Restaurant_Review-g190479-d10785584-Reviews-A...</td>\n",
       "      <td>d10785584</td>\n",
       "      <td>1</td>\n",
       "      <td>...</td>\n",
       "      <td>184.0</td>\n",
       "      <td>231.638048</td>\n",
       "      <td>115.819024</td>\n",
       "      <td>1</td>\n",
       "      <td>634293</td>\n",
       "      <td>1</td>\n",
       "      <td>0.000769</td>\n",
       "      <td>0</td>\n",
       "      <td>347</td>\n",
       "      <td>10785584</td>\n",
       "    </tr>\n",
       "  </tbody>\n",
       "</table>\n",
       "<p>2 rows × 64 columns</p>\n",
       "</div>"
      ],
      "text/plain": [
       "      Restaurant_id        City                 Cuisine Style  Ranking  \\\n",
       "26045        id_317  Luxembourg                   ['Italian']    318.0   \n",
       "28762        id_347        Oslo  ['Italian', 'Mediterranean']    348.0   \n",
       "\n",
       "       Price Range  Number of Reviews  \\\n",
       "26045          1.0               14.0   \n",
       "28762          2.0               18.0   \n",
       "\n",
       "                                                 Reviews  \\\n",
       "26045  [['Really weird experience', \"Luxembourg's bes...   \n",
       "28762  [['Awesome Italian food, great Service, lovel....   \n",
       "\n",
       "                                                  URL_TA      ID_TA  sample  \\\n",
       "26045  /Restaurant_Review-g190356-d7723145-Reviews-At...   d7723145       1   \n",
       "28762  /Restaurant_Review-g190479-d10785584-Reviews-A...  d10785584       1   \n",
       "\n",
       "       ...  delta_days_last_rev      Weight  Weight_cusine  Capital  \\\n",
       "26045  ...                307.0  205.925373     205.925373        1   \n",
       "28762  ...                184.0  231.638048     115.819024        1   \n",
       "\n",
       "       Population  more500  popul_rest  count_rest_in_city_segm  \\\n",
       "26045      613894        1    0.000428                        0   \n",
       "28762      634293        1    0.000769                        0   \n",
       "\n",
       "       Restaurant_id_num     id_ta  \n",
       "26045                317   7723145  \n",
       "28762                347  10785584  \n",
       "\n",
       "[2 rows x 64 columns]"
      ]
     },
     "execution_count": 55,
     "metadata": {},
     "output_type": "execute_result"
    }
   ],
   "source": [
    "data['id_ta']=data.ID_TA.apply(lambda x: int(x[1:]))\n",
    "data.sample(2)"
   ]
  },
  {
   "cell_type": "code",
   "execution_count": 56,
   "metadata": {
    "execution": {
     "iopub.execute_input": "2021-06-02T02:59:31.357583Z",
     "iopub.status.busy": "2021-06-02T02:59:31.357263Z",
     "iopub.status.idle": "2021-06-02T02:59:31.407280Z",
     "shell.execute_reply": "2021-06-02T02:59:31.406624Z",
     "shell.execute_reply.started": "2021-06-02T02:59:31.357549Z"
    }
   },
   "outputs": [
    {
     "name": "stdout",
     "output_type": "stream",
     "text": [
      "<class 'pandas.core.frame.DataFrame'>\n",
      "Int64Index: 50000 entries, 0 to 49999\n",
      "Data columns (total 26 columns):\n",
      "City                   50000 non-null object\n",
      "Price Range            50000 non-null float64\n",
      "URL_TA                 50000 non-null object\n",
      "ID_TA                  50000 non-null object\n",
      "sample                 50000 non-null int64\n",
      "isNAN                  50000 non-null uint8\n",
      "Cuisine_Style          50000 non-null int64\n",
      "city_Athens            50000 non-null uint8\n",
      "city_Berlin            50000 non-null uint8\n",
      "city_Madrid            50000 non-null uint8\n",
      "city_Milan             50000 non-null uint8\n",
      "city_Oporto            50000 non-null uint8\n",
      "city_Rome              50000 non-null uint8\n",
      "city_Stockholm         50000 non-null uint8\n",
      "city_Vienna            50000 non-null uint8\n",
      "count_rest_in_city     50000 non-null int64\n",
      "cnt_rev_0              50000 non-null float64\n",
      "Weight                 50000 non-null float64\n",
      "Weight_cusine          50000 non-null float64\n",
      "Population             50000 non-null int64\n",
      "popul_rest             50000 non-null float64\n",
      "Number of Reviews      50000 non-null float64\n",
      "delta_days_rev         50000 non-null float64\n",
      "delta_days_last_rev    50000 non-null float64\n",
      "Restaurant_id_num      50000 non-null int64\n",
      "Rating                 50000 non-null float64\n",
      "dtypes: float64(9), int64(5), object(3), uint8(9)\n",
      "memory usage: 7.3+ MB\n"
     ]
    },
    {
     "data": {
      "text/html": [
       "<div>\n",
       "<style scoped>\n",
       "    .dataframe tbody tr th:only-of-type {\n",
       "        vertical-align: middle;\n",
       "    }\n",
       "\n",
       "    .dataframe tbody tr th {\n",
       "        vertical-align: top;\n",
       "    }\n",
       "\n",
       "    .dataframe thead th {\n",
       "        text-align: right;\n",
       "    }\n",
       "</style>\n",
       "<table border=\"1\" class=\"dataframe\">\n",
       "  <thead>\n",
       "    <tr style=\"text-align: right;\">\n",
       "      <th></th>\n",
       "      <th>City</th>\n",
       "      <th>Price Range</th>\n",
       "      <th>URL_TA</th>\n",
       "      <th>ID_TA</th>\n",
       "      <th>sample</th>\n",
       "      <th>isNAN</th>\n",
       "      <th>Cuisine_Style</th>\n",
       "      <th>city_Athens</th>\n",
       "      <th>city_Berlin</th>\n",
       "      <th>city_Madrid</th>\n",
       "      <th>...</th>\n",
       "      <th>cnt_rev_0</th>\n",
       "      <th>Weight</th>\n",
       "      <th>Weight_cusine</th>\n",
       "      <th>Population</th>\n",
       "      <th>popul_rest</th>\n",
       "      <th>Number of Reviews</th>\n",
       "      <th>delta_days_rev</th>\n",
       "      <th>delta_days_last_rev</th>\n",
       "      <th>Restaurant_id_num</th>\n",
       "      <th>Rating</th>\n",
       "    </tr>\n",
       "  </thead>\n",
       "  <tbody>\n",
       "    <tr>\n",
       "      <th>14817</th>\n",
       "      <td>Rome</td>\n",
       "      <td>2.0</td>\n",
       "      <td>/Restaurant_Review-g187791-d1207928-Reviews-Th...</td>\n",
       "      <td>d1207928</td>\n",
       "      <td>1</td>\n",
       "      <td>0</td>\n",
       "      <td>5</td>\n",
       "      <td>0</td>\n",
       "      <td>0</td>\n",
       "      <td>0</td>\n",
       "      <td>...</td>\n",
       "      <td>0.0</td>\n",
       "      <td>259.899746</td>\n",
       "      <td>51.979949</td>\n",
       "      <td>2873494</td>\n",
       "      <td>0.000901</td>\n",
       "      <td>5927.0</td>\n",
       "      <td>2.0</td>\n",
       "      <td>48.0</td>\n",
       "      <td>144</td>\n",
       "      <td>4.5</td>\n",
       "    </tr>\n",
       "  </tbody>\n",
       "</table>\n",
       "<p>1 rows × 26 columns</p>\n",
       "</div>"
      ],
      "text/plain": [
       "       City  Price Range                                             URL_TA  \\\n",
       "14817  Rome          2.0  /Restaurant_Review-g187791-d1207928-Reviews-Th...   \n",
       "\n",
       "          ID_TA  sample  isNAN  Cuisine_Style  city_Athens  city_Berlin  \\\n",
       "14817  d1207928       1      0              5            0            0   \n",
       "\n",
       "       city_Madrid  ...  cnt_rev_0      Weight  Weight_cusine  Population  \\\n",
       "14817            0  ...        0.0  259.899746      51.979949     2873494   \n",
       "\n",
       "       popul_rest  Number of Reviews  delta_days_rev  delta_days_last_rev  \\\n",
       "14817    0.000901             5927.0             2.0                 48.0   \n",
       "\n",
       "       Restaurant_id_num  Rating  \n",
       "14817                144     4.5  \n",
       "\n",
       "[1 rows x 26 columns]"
      ]
     },
     "execution_count": 56,
     "metadata": {},
     "output_type": "execute_result"
    }
   ],
   "source": [
    "data_st=data[st_list+['Number of Reviews','delta_days_rev','delta_days_last_rev','Restaurant_id_num','Rating']]\n",
    "data_st.info()\n",
    "data_st.sample(1)"
   ]
  },
  {
   "cell_type": "markdown",
   "metadata": {},
   "source": [
    "по рузультату теста выявлено, что данные по некоторым городам вообще не влияют на результат. Попробуем убрать эти столбцы из выборки."
   ]
  },
  {
   "cell_type": "markdown",
   "metadata": {},
   "source": [
    "# Data Preprocessing"
   ]
  },
  {
   "cell_type": "code",
   "execution_count": 57,
   "metadata": {
    "execution": {
     "iopub.execute_input": "2021-06-02T02:59:31.408538Z",
     "iopub.status.busy": "2021-06-02T02:59:31.408210Z",
     "iopub.status.idle": "2021-06-02T02:59:31.451501Z",
     "shell.execute_reply": "2021-06-02T02:59:31.450558Z",
     "shell.execute_reply.started": "2021-06-02T02:59:31.408501Z"
    }
   },
   "outputs": [],
   "source": [
    "#df_preproc = data[['Ranking','Price Range','Number of Reviews','Rating','Cuisine_Style','sample','count_rest_in_city','delta_days_rev','delta_days_last_rev','Weight']]\n",
    "df_preproc=data.copy()\n",
    "#df_preproc=df_preproc.drop()\n",
    "df_preproc = df_preproc.drop(['Restaurant_id','Restaurant_id_num','Cuisine Style', 'Reviews', 'URL_TA', 'ID_TA', 'Reviews_only',\n",
    "    'Date_of_Reviews','date_list','first_date','last_date','Weight','Weight_cusine','Capital','more500',]+not_st_list  , axis=1) \n",
    "#df_preproc = df_preproc.drop(['URL_TA','ID_TA'], axis=1)\n",
    "#'\n",
    "#'Rank_count','count_rest_in_city_segm','popul_rest','more500','cnt_rev_0''Restaurant_id','Reviews_only''Date_of_Reviews','date_list','first_date','last_date'\n",
    "df_preproc = df_preproc.drop(['City'], axis=1)\n",
    "\n",
    "# Теперь выделим тестовую часть\n",
    "train_data = df_preproc.query('sample == 1').drop(['sample'], axis=1)\n",
    "test_data = df_preproc.query('sample == 0').drop(['sample'], axis=1)\n",
    "\n",
    "y = train_data.Rating.values            # наш таргет\n",
    "X = train_data.drop(['Rating'], axis=1)"
   ]
  },
  {
   "cell_type": "markdown",
   "metadata": {},
   "source": [
    "**Перед тем как отправлять наши данные на обучение, разделим данные на еще один тест и трейн, для валидации. \n",
    "Это поможет нам проверить, как хорошо наша модель работает, до отправки submissiona на kaggle.**"
   ]
  },
  {
   "cell_type": "code",
   "execution_count": 58,
   "metadata": {
    "execution": {
     "iopub.execute_input": "2021-06-02T02:59:31.452979Z",
     "iopub.status.busy": "2021-06-02T02:59:31.452733Z",
     "iopub.status.idle": "2021-06-02T02:59:31.465701Z",
     "shell.execute_reply": "2021-06-02T02:59:31.464397Z",
     "shell.execute_reply.started": "2021-06-02T02:59:31.452932Z"
    }
   },
   "outputs": [
    {
     "name": "stdout",
     "output_type": "stream",
     "text": [
      "<class 'pandas.core.frame.DataFrame'>\n",
      "Int64Index: 50000 entries, 0 to 49999\n",
      "Data columns (total 24 columns):\n",
      "Ranking                    50000 non-null float64\n",
      "Price Range                50000 non-null float64\n",
      "Number of Reviews          50000 non-null float64\n",
      "sample                     50000 non-null int64\n",
      "Rating                     50000 non-null float64\n",
      "isNAN                      50000 non-null uint8\n",
      "Cuisine_Style              50000 non-null int64\n",
      "city_Athens                50000 non-null uint8\n",
      "city_Berlin                50000 non-null uint8\n",
      "city_Madrid                50000 non-null uint8\n",
      "city_Milan                 50000 non-null uint8\n",
      "city_Oporto                50000 non-null uint8\n",
      "city_Rome                  50000 non-null uint8\n",
      "city_Stockholm             50000 non-null uint8\n",
      "city_Vienna                50000 non-null uint8\n",
      "count_rest_in_city         50000 non-null int64\n",
      "Rank_count                 50000 non-null float64\n",
      "cnt_rev_0                  50000 non-null float64\n",
      "delta_days_rev             50000 non-null float64\n",
      "delta_days_last_rev        50000 non-null float64\n",
      "Population                 50000 non-null int64\n",
      "popul_rest                 50000 non-null float64\n",
      "count_rest_in_city_segm    50000 non-null int64\n",
      "id_ta                      50000 non-null int64\n",
      "dtypes: float64(9), int64(6), uint8(9)\n",
      "memory usage: 6.5 MB\n"
     ]
    }
   ],
   "source": [
    "df_preproc.info()"
   ]
  },
  {
   "cell_type": "code",
   "execution_count": 59,
   "metadata": {
    "execution": {
     "iopub.execute_input": "2021-06-02T02:59:31.467161Z",
     "iopub.status.busy": "2021-06-02T02:59:31.466896Z",
     "iopub.status.idle": "2021-06-02T02:59:31.480905Z",
     "shell.execute_reply": "2021-06-02T02:59:31.480022Z",
     "shell.execute_reply.started": "2021-06-02T02:59:31.467115Z"
    }
   },
   "outputs": [],
   "source": [
    "# Воспользуемся специальной функцие train_test_split для разбивки тестовых данных\n",
    "# выделим 20% данных на валидацию (параметр test_size)\n",
    "X_train, X_test, y_train, y_test = train_test_split(X, y, test_size=0.2, random_state=RANDOM_SEED)"
   ]
  },
  {
   "cell_type": "code",
   "execution_count": 60,
   "metadata": {
    "execution": {
     "iopub.execute_input": "2021-06-02T02:59:31.482425Z",
     "iopub.status.busy": "2021-06-02T02:59:31.482154Z",
     "iopub.status.idle": "2021-06-02T02:59:31.488895Z",
     "shell.execute_reply": "2021-06-02T02:59:31.488087Z",
     "shell.execute_reply.started": "2021-06-02T02:59:31.482378Z"
    }
   },
   "outputs": [
    {
     "data": {
      "text/plain": [
       "((10000, 23), (40000, 23), (40000, 22), (32000, 22), (8000, 22))"
      ]
     },
     "execution_count": 60,
     "metadata": {},
     "output_type": "execute_result"
    }
   ],
   "source": [
    "# проверяем\n",
    "test_data.shape, train_data.shape, X.shape, X_train.shape, X_test.shape"
   ]
  },
  {
   "cell_type": "markdown",
   "metadata": {},
   "source": [
    "# Model \n",
    "Сам ML"
   ]
  },
  {
   "cell_type": "code",
   "execution_count": 61,
   "metadata": {
    "execution": {
     "iopub.execute_input": "2021-06-02T02:59:31.490468Z",
     "iopub.status.busy": "2021-06-02T02:59:31.490239Z",
     "iopub.status.idle": "2021-06-02T02:59:31.499095Z",
     "shell.execute_reply": "2021-06-02T02:59:31.498348Z",
     "shell.execute_reply.started": "2021-06-02T02:59:31.490434Z"
    }
   },
   "outputs": [],
   "source": [
    "# Импортируем необходимые библиотеки:\n",
    "from sklearn.ensemble import RandomForestRegressor # инструмент для создания и обучения модели\n",
    "from sklearn import metrics # инструменты для оценки точности модели"
   ]
  },
  {
   "cell_type": "code",
   "execution_count": 62,
   "metadata": {
    "execution": {
     "iopub.execute_input": "2021-06-02T02:59:31.500806Z",
     "iopub.status.busy": "2021-06-02T02:59:31.500280Z",
     "iopub.status.idle": "2021-06-02T02:59:31.514622Z",
     "shell.execute_reply": "2021-06-02T02:59:31.513445Z",
     "shell.execute_reply.started": "2021-06-02T02:59:31.500705Z"
    }
   },
   "outputs": [],
   "source": [
    "# Создаём модель (НАСТРОЙКИ НЕ ТРОГАЕМ)\n",
    "model = RandomForestRegressor(n_estimators=100, verbose=1, n_jobs=-1, random_state=RANDOM_SEED)"
   ]
  },
  {
   "cell_type": "code",
   "execution_count": 63,
   "metadata": {
    "execution": {
     "iopub.execute_input": "2021-06-02T02:59:31.516387Z",
     "iopub.status.busy": "2021-06-02T02:59:31.515995Z",
     "iopub.status.idle": "2021-06-02T02:59:40.047318Z",
     "shell.execute_reply": "2021-06-02T02:59:40.046599Z",
     "shell.execute_reply.started": "2021-06-02T02:59:31.516322Z"
    }
   },
   "outputs": [
    {
     "name": "stderr",
     "output_type": "stream",
     "text": [
      "[Parallel(n_jobs=-1)]: Using backend ThreadingBackend with 4 concurrent workers.\n",
      "[Parallel(n_jobs=-1)]: Done  42 tasks      | elapsed:    4.1s\n",
      "[Parallel(n_jobs=-1)]: Done 100 out of 100 | elapsed:    8.9s finished\n",
      "[Parallel(n_jobs=4)]: Using backend ThreadingBackend with 4 concurrent workers.\n",
      "[Parallel(n_jobs=4)]: Done  42 tasks      | elapsed:    0.0s\n",
      "[Parallel(n_jobs=4)]: Done 100 out of 100 | elapsed:    0.1s finished\n",
      "[Parallel(n_jobs=4)]: Using backend ThreadingBackend with 4 concurrent workers.\n",
      "[Parallel(n_jobs=4)]: Done  42 tasks      | elapsed:    0.0s\n",
      "[Parallel(n_jobs=4)]: Done 100 out of 100 | elapsed:    0.1s finished\n"
     ]
    }
   ],
   "source": [
    "# Обучаем модель на тестовом наборе данных\n",
    "model.fit(X_train, y_train)\n",
    "\n",
    "# Используем обученную модель для предсказания рейтинга ресторанов в тестовой выборке.\n",
    "# Предсказанные значения записываем в переменную y_pred\n",
    "\n",
    "# округлим данные\n",
    "# Округляем результаты с точностью 0.5\n",
    "\n",
    "def rating_round(x, base=0.5):\n",
    "    return base * round(x/base)\n",
    "\n",
    "def predict(ds):\n",
    "    return np.array([rating_round(x) for x in model.predict(ds)])\n",
    "\n",
    "y_pred = predict(X_test)\n",
    "\n",
    "y_pred1 = model.predict(X_test)\n",
    "#np.round(y_predict * 2)/2"
   ]
  },
  {
   "cell_type": "code",
   "execution_count": 64,
   "metadata": {
    "execution": {
     "iopub.execute_input": "2021-06-02T02:59:40.048867Z",
     "iopub.status.busy": "2021-06-02T02:59:40.048606Z",
     "iopub.status.idle": "2021-06-02T02:59:40.055553Z",
     "shell.execute_reply": "2021-06-02T02:59:40.054634Z",
     "shell.execute_reply.started": "2021-06-02T02:59:40.048818Z"
    }
   },
   "outputs": [
    {
     "name": "stdout",
     "output_type": "stream",
     "text": [
      "MAE: 0.170125\n",
      "MAE без округления: 0.20395375\n"
     ]
    }
   ],
   "source": [
    "# Сравниваем предсказанные значения (y_pred) с реальными (y_test), и смотрим насколько они в среднем отличаются\n",
    "# Метрика называется Mean Absolute Error (MAE) и показывает среднее отклонение предсказанных значений от фактических.\n",
    "print('MAE:', metrics.mean_absolute_error(y_test, y_pred))\n",
    "print('MAE без округления:', metrics.mean_absolute_error(y_test, y_pred1))"
   ]
  },
  {
   "cell_type": "code",
   "execution_count": 65,
   "metadata": {
    "execution": {
     "iopub.execute_input": "2021-06-02T02:59:40.057282Z",
     "iopub.status.busy": "2021-06-02T02:59:40.056988Z",
     "iopub.status.idle": "2021-06-02T02:59:40.421350Z",
     "shell.execute_reply": "2021-06-02T02:59:40.420756Z",
     "shell.execute_reply.started": "2021-06-02T02:59:40.057230Z"
    }
   },
   "outputs": [
    {
     "data": {
      "text/plain": [
       "<matplotlib.axes._subplots.AxesSubplot at 0x7f44c4047080>"
      ]
     },
     "execution_count": 65,
     "metadata": {},
     "output_type": "execute_result"
    },
    {
     "data": {
      "image/png": "[encoded data removed]",
      "text/plain": [
       "<Figure size 720x720 with 1 Axes>"
      ]
     },
     "metadata": {},
     "output_type": "display_data"
    }
   ],
   "source": [
    "# в RandomForestRegressor есть возможность вывести самые важные признаки для модели\n",
    "plt.rcParams['figure.figsize'] = (10,10)\n",
    "feat_importances = pd.Series(model.feature_importances_, index=X.columns)\n",
    "feat_importances.nlargest(20).plot(kind='barh')"
   ]
  },
  {
   "cell_type": "markdown",
   "metadata": {},
   "source": [
    "# Выводы. \n",
    "Работа интересная, позволяет прощупать руками признаки и их влияние на оценку. Первое знакомство с ML.\n",
    "На данном этапе обучения движения в направлении улучшения качества модели выглядят несколько хаотичными с большим количеством ручных переборов и догадок. \n",
    "\n",
    "### Что сделано: \n",
    "1. Найдены дополнительные признаки, улучшающие качество модели (количство населения города,разница между датами отзывов, и т.д.\n",
    "2. Были попытки создать дополнительные признаки, окончившиеся неудачно (по причине негативного влияния на модель): признак столицы, вес (популярность) видов кухни.\n",
    "3. Была попытка провеси сегментацию городов, которая оказалась практически бесполезной (не включено в модель)\n",
    "4. Наилучший резульат был получен с учетом данных полученных в результате расчета коэффициента Стьюдента для каждого из признаков.\n",
    "\n",
    "### Что НЕ сделано (по причине отстутсвия времени и опыта), но могло боы повлиять на качество модели:\n",
    "1. Провести более качественную сегментацию ресторанов на основании нескольких признаков.\n",
    "2. Проанализировать отзывы: \n",
    "- тональность (положительный или отрицательный)\n",
    "- поиск ключевых слов, которые могут косвенно свидтельствовать о положительности отзыва\n",
    "3. Загрузить дополнительные данные с tripadwisor (место? координаты?) (нет опыта парсинга, вообще не знаю, как это делать)\n",
    "4. Поскольку подбор параметров и их комбинаций на данный момент - результат по большей части \"наудачу\", проводится вручную и является, по сути, перебором полей, предположительно можно автоматизировать процесс поиска наиболее удачных комбинаций и их количестваю, приводящих к минимизации ошибки.\n"
   ]
  },
  {
   "cell_type": "markdown",
   "metadata": {},
   "source": [
    "# Submission\n",
    "Если все устраевает - готовим Submission на кагл"
   ]
  },
  {
   "cell_type": "code",
   "execution_count": 66,
   "metadata": {
    "execution": {
     "iopub.execute_input": "2021-06-02T02:59:40.422845Z",
     "iopub.status.busy": "2021-06-02T02:59:40.422430Z",
     "iopub.status.idle": "2021-06-02T02:59:40.472218Z",
     "shell.execute_reply": "2021-06-02T02:59:40.471581Z",
     "shell.execute_reply.started": "2021-06-02T02:59:40.422804Z"
    }
   },
   "outputs": [
    {
     "data": {
      "text/html": [
       "<div>\n",
       "<style scoped>\n",
       "    .dataframe tbody tr th:only-of-type {\n",
       "        vertical-align: middle;\n",
       "    }\n",
       "\n",
       "    .dataframe tbody tr th {\n",
       "        vertical-align: top;\n",
       "    }\n",
       "\n",
       "    .dataframe thead th {\n",
       "        text-align: right;\n",
       "    }\n",
       "</style>\n",
       "<table border=\"1\" class=\"dataframe\">\n",
       "  <thead>\n",
       "    <tr style=\"text-align: right;\">\n",
       "      <th></th>\n",
       "      <th>Ranking</th>\n",
       "      <th>Price Range</th>\n",
       "      <th>Number of Reviews</th>\n",
       "      <th>Rating</th>\n",
       "      <th>isNAN</th>\n",
       "      <th>Cuisine_Style</th>\n",
       "      <th>city_Athens</th>\n",
       "      <th>city_Berlin</th>\n",
       "      <th>city_Madrid</th>\n",
       "      <th>city_Milan</th>\n",
       "      <th>...</th>\n",
       "      <th>city_Vienna</th>\n",
       "      <th>count_rest_in_city</th>\n",
       "      <th>Rank_count</th>\n",
       "      <th>cnt_rev_0</th>\n",
       "      <th>delta_days_rev</th>\n",
       "      <th>delta_days_last_rev</th>\n",
       "      <th>Population</th>\n",
       "      <th>popul_rest</th>\n",
       "      <th>count_rest_in_city_segm</th>\n",
       "      <th>id_ta</th>\n",
       "    </tr>\n",
       "  </thead>\n",
       "  <tbody>\n",
       "    <tr>\n",
       "      <th>3037</th>\n",
       "      <td>5867.0</td>\n",
       "      <td>2.0</td>\n",
       "      <td>25.0</td>\n",
       "      <td>0.0</td>\n",
       "      <td>1</td>\n",
       "      <td>1</td>\n",
       "      <td>0</td>\n",
       "      <td>0</td>\n",
       "      <td>0</td>\n",
       "      <td>0</td>\n",
       "      <td>...</td>\n",
       "      <td>0</td>\n",
       "      <td>6108</td>\n",
       "      <td>0.960544</td>\n",
       "      <td>0.0</td>\n",
       "      <td>163.0</td>\n",
       "      <td>169.0</td>\n",
       "      <td>2160928</td>\n",
       "      <td>0.002827</td>\n",
       "      <td>0</td>\n",
       "      <td>12006211</td>\n",
       "    </tr>\n",
       "    <tr>\n",
       "      <th>9353</th>\n",
       "      <td>678.0</td>\n",
       "      <td>3.0</td>\n",
       "      <td>183.0</td>\n",
       "      <td>0.0</td>\n",
       "      <td>0</td>\n",
       "      <td>6</td>\n",
       "      <td>0</td>\n",
       "      <td>0</td>\n",
       "      <td>0</td>\n",
       "      <td>0</td>\n",
       "      <td>...</td>\n",
       "      <td>0</td>\n",
       "      <td>3395</td>\n",
       "      <td>0.199705</td>\n",
       "      <td>1.0</td>\n",
       "      <td>28.0</td>\n",
       "      <td>94.0</td>\n",
       "      <td>1636762</td>\n",
       "      <td>0.002074</td>\n",
       "      <td>0</td>\n",
       "      <td>9809738</td>\n",
       "    </tr>\n",
       "    <tr>\n",
       "      <th>4446</th>\n",
       "      <td>3911.0</td>\n",
       "      <td>1.0</td>\n",
       "      <td>108.0</td>\n",
       "      <td>0.0</td>\n",
       "      <td>0</td>\n",
       "      <td>2</td>\n",
       "      <td>0</td>\n",
       "      <td>0</td>\n",
       "      <td>0</td>\n",
       "      <td>0</td>\n",
       "      <td>...</td>\n",
       "      <td>0</td>\n",
       "      <td>2589</td>\n",
       "      <td>1.510622</td>\n",
       "      <td>0.0</td>\n",
       "      <td>0.0</td>\n",
       "      <td>136.0</td>\n",
       "      <td>2873494</td>\n",
       "      <td>0.000901</td>\n",
       "      <td>0</td>\n",
       "      <td>4503959</td>\n",
       "    </tr>\n",
       "    <tr>\n",
       "      <th>427</th>\n",
       "      <td>1046.0</td>\n",
       "      <td>2.0</td>\n",
       "      <td>67.0</td>\n",
       "      <td>0.0</td>\n",
       "      <td>1</td>\n",
       "      <td>1</td>\n",
       "      <td>0</td>\n",
       "      <td>0</td>\n",
       "      <td>0</td>\n",
       "      <td>0</td>\n",
       "      <td>...</td>\n",
       "      <td>0</td>\n",
       "      <td>925</td>\n",
       "      <td>1.130811</td>\n",
       "      <td>1.0</td>\n",
       "      <td>0.0</td>\n",
       "      <td>136.0</td>\n",
       "      <td>1764615</td>\n",
       "      <td>0.000524</td>\n",
       "      <td>0</td>\n",
       "      <td>12362395</td>\n",
       "    </tr>\n",
       "    <tr>\n",
       "      <th>6687</th>\n",
       "      <td>4564.0</td>\n",
       "      <td>2.0</td>\n",
       "      <td>37.0</td>\n",
       "      <td>0.0</td>\n",
       "      <td>1</td>\n",
       "      <td>1</td>\n",
       "      <td>0</td>\n",
       "      <td>0</td>\n",
       "      <td>0</td>\n",
       "      <td>0</td>\n",
       "      <td>...</td>\n",
       "      <td>0</td>\n",
       "      <td>3395</td>\n",
       "      <td>1.344330</td>\n",
       "      <td>1.0</td>\n",
       "      <td>0.0</td>\n",
       "      <td>136.0</td>\n",
       "      <td>1636762</td>\n",
       "      <td>0.002074</td>\n",
       "      <td>0</td>\n",
       "      <td>5775941</td>\n",
       "    </tr>\n",
       "    <tr>\n",
       "      <th>7041</th>\n",
       "      <td>3280.0</td>\n",
       "      <td>2.0</td>\n",
       "      <td>85.0</td>\n",
       "      <td>0.0</td>\n",
       "      <td>0</td>\n",
       "      <td>5</td>\n",
       "      <td>0</td>\n",
       "      <td>0</td>\n",
       "      <td>0</td>\n",
       "      <td>0</td>\n",
       "      <td>...</td>\n",
       "      <td>0</td>\n",
       "      <td>1647</td>\n",
       "      <td>1.991500</td>\n",
       "      <td>0.0</td>\n",
       "      <td>217.0</td>\n",
       "      <td>142.0</td>\n",
       "      <td>505526</td>\n",
       "      <td>0.003258</td>\n",
       "      <td>0</td>\n",
       "      <td>8058337</td>\n",
       "    </tr>\n",
       "    <tr>\n",
       "      <th>1914</th>\n",
       "      <td>7479.0</td>\n",
       "      <td>2.0</td>\n",
       "      <td>2.0</td>\n",
       "      <td>0.0</td>\n",
       "      <td>1</td>\n",
       "      <td>1</td>\n",
       "      <td>0</td>\n",
       "      <td>0</td>\n",
       "      <td>0</td>\n",
       "      <td>0</td>\n",
       "      <td>...</td>\n",
       "      <td>0</td>\n",
       "      <td>3395</td>\n",
       "      <td>2.202946</td>\n",
       "      <td>0.0</td>\n",
       "      <td>0.0</td>\n",
       "      <td>136.0</td>\n",
       "      <td>1636762</td>\n",
       "      <td>0.002074</td>\n",
       "      <td>0</td>\n",
       "      <td>11903522</td>\n",
       "    </tr>\n",
       "    <tr>\n",
       "      <th>9774</th>\n",
       "      <td>845.0</td>\n",
       "      <td>2.0</td>\n",
       "      <td>21.0</td>\n",
       "      <td>0.0</td>\n",
       "      <td>0</td>\n",
       "      <td>5</td>\n",
       "      <td>0</td>\n",
       "      <td>0</td>\n",
       "      <td>0</td>\n",
       "      <td>0</td>\n",
       "      <td>...</td>\n",
       "      <td>0</td>\n",
       "      <td>1372</td>\n",
       "      <td>0.615889</td>\n",
       "      <td>0.0</td>\n",
       "      <td>20.0</td>\n",
       "      <td>59.0</td>\n",
       "      <td>873555</td>\n",
       "      <td>0.001571</td>\n",
       "      <td>0</td>\n",
       "      <td>11829815</td>\n",
       "    </tr>\n",
       "    <tr>\n",
       "      <th>3329</th>\n",
       "      <td>9691.0</td>\n",
       "      <td>1.0</td>\n",
       "      <td>10.0</td>\n",
       "      <td>0.0</td>\n",
       "      <td>0</td>\n",
       "      <td>1</td>\n",
       "      <td>0</td>\n",
       "      <td>0</td>\n",
       "      <td>0</td>\n",
       "      <td>0</td>\n",
       "      <td>...</td>\n",
       "      <td>0</td>\n",
       "      <td>7193</td>\n",
       "      <td>1.347282</td>\n",
       "      <td>0.0</td>\n",
       "      <td>32.0</td>\n",
       "      <td>111.0</td>\n",
       "      <td>8982256</td>\n",
       "      <td>0.000801</td>\n",
       "      <td>0</td>\n",
       "      <td>8436666</td>\n",
       "    </tr>\n",
       "    <tr>\n",
       "      <th>7929</th>\n",
       "      <td>1884.0</td>\n",
       "      <td>2.0</td>\n",
       "      <td>15.0</td>\n",
       "      <td>0.0</td>\n",
       "      <td>1</td>\n",
       "      <td>2</td>\n",
       "      <td>0</td>\n",
       "      <td>0</td>\n",
       "      <td>0</td>\n",
       "      <td>0</td>\n",
       "      <td>...</td>\n",
       "      <td>0</td>\n",
       "      <td>819</td>\n",
       "      <td>2.300366</td>\n",
       "      <td>0.0</td>\n",
       "      <td>88.0</td>\n",
       "      <td>296.0</td>\n",
       "      <td>794128</td>\n",
       "      <td>0.001031</td>\n",
       "      <td>0</td>\n",
       "      <td>1012041</td>\n",
       "    </tr>\n",
       "  </tbody>\n",
       "</table>\n",
       "<p>10 rows × 23 columns</p>\n",
       "</div>"
      ],
      "text/plain": [
       "      Ranking  Price Range  Number of Reviews  Rating  isNAN  Cuisine_Style  \\\n",
       "3037   5867.0          2.0               25.0     0.0      1              1   \n",
       "9353    678.0          3.0              183.0     0.0      0              6   \n",
       "4446   3911.0          1.0              108.0     0.0      0              2   \n",
       "427    1046.0          2.0               67.0     0.0      1              1   \n",
       "6687   4564.0          2.0               37.0     0.0      1              1   \n",
       "7041   3280.0          2.0               85.0     0.0      0              5   \n",
       "1914   7479.0          2.0                2.0     0.0      1              1   \n",
       "9774    845.0          2.0               21.0     0.0      0              5   \n",
       "3329   9691.0          1.0               10.0     0.0      0              1   \n",
       "7929   1884.0          2.0               15.0     0.0      1              2   \n",
       "\n",
       "      city_Athens  city_Berlin  city_Madrid  city_Milan  ...  city_Vienna  \\\n",
       "3037            0            0            0           0  ...            0   \n",
       "9353            0            0            0           0  ...            0   \n",
       "4446            0            0            0           0  ...            0   \n",
       "427             0            0            0           0  ...            0   \n",
       "6687            0            0            0           0  ...            0   \n",
       "7041            0            0            0           0  ...            0   \n",
       "1914            0            0            0           0  ...            0   \n",
       "9774            0            0            0           0  ...            0   \n",
       "3329            0            0            0           0  ...            0   \n",
       "7929            0            0            0           0  ...            0   \n",
       "\n",
       "      count_rest_in_city  Rank_count  cnt_rev_0  delta_days_rev  \\\n",
       "3037                6108    0.960544        0.0           163.0   \n",
       "9353                3395    0.199705        1.0            28.0   \n",
       "4446                2589    1.510622        0.0             0.0   \n",
       "427                  925    1.130811        1.0             0.0   \n",
       "6687                3395    1.344330        1.0             0.0   \n",
       "7041                1647    1.991500        0.0           217.0   \n",
       "1914                3395    2.202946        0.0             0.0   \n",
       "9774                1372    0.615889        0.0            20.0   \n",
       "3329                7193    1.347282        0.0            32.0   \n",
       "7929                 819    2.300366        0.0            88.0   \n",
       "\n",
       "      delta_days_last_rev  Population  popul_rest  count_rest_in_city_segm  \\\n",
       "3037                169.0     2160928    0.002827                        0   \n",
       "9353                 94.0     1636762    0.002074                        0   \n",
       "4446                136.0     2873494    0.000901                        0   \n",
       "427                 136.0     1764615    0.000524                        0   \n",
       "6687                136.0     1636762    0.002074                        0   \n",
       "7041                142.0      505526    0.003258                        0   \n",
       "1914                136.0     1636762    0.002074                        0   \n",
       "9774                 59.0      873555    0.001571                        0   \n",
       "3329                111.0     8982256    0.000801                        0   \n",
       "7929                296.0      794128    0.001031                        0   \n",
       "\n",
       "         id_ta  \n",
       "3037  12006211  \n",
       "9353   9809738  \n",
       "4446   4503959  \n",
       "427   12362395  \n",
       "6687   5775941  \n",
       "7041   8058337  \n",
       "1914  11903522  \n",
       "9774  11829815  \n",
       "3329   8436666  \n",
       "7929   1012041  \n",
       "\n",
       "[10 rows x 23 columns]"
      ]
     },
     "execution_count": 66,
     "metadata": {},
     "output_type": "execute_result"
    }
   ],
   "source": [
    "test_data.sample(10)"
   ]
  },
  {
   "cell_type": "code",
   "execution_count": 67,
   "metadata": {
    "execution": {
     "iopub.execute_input": "2021-06-02T02:59:40.473706Z",
     "iopub.status.busy": "2021-06-02T02:59:40.473291Z",
     "iopub.status.idle": "2021-06-02T02:59:40.479045Z",
     "shell.execute_reply": "2021-06-02T02:59:40.478343Z",
     "shell.execute_reply.started": "2021-06-02T02:59:40.473663Z"
    }
   },
   "outputs": [],
   "source": [
    "test_data = test_data.drop(['Rating'], axis=1)"
   ]
  },
  {
   "cell_type": "code",
   "execution_count": 68,
   "metadata": {
    "execution": {
     "iopub.execute_input": "2021-06-02T02:59:40.480764Z",
     "iopub.status.busy": "2021-06-02T02:59:40.480348Z",
     "iopub.status.idle": "2021-06-02T02:59:40.499422Z",
     "shell.execute_reply": "2021-06-02T02:59:40.498740Z",
     "shell.execute_reply.started": "2021-06-02T02:59:40.480722Z"
    }
   },
   "outputs": [
    {
     "data": {
      "text/html": [
       "<div>\n",
       "<style scoped>\n",
       "    .dataframe tbody tr th:only-of-type {\n",
       "        vertical-align: middle;\n",
       "    }\n",
       "\n",
       "    .dataframe tbody tr th {\n",
       "        vertical-align: top;\n",
       "    }\n",
       "\n",
       "    .dataframe thead th {\n",
       "        text-align: right;\n",
       "    }\n",
       "</style>\n",
       "<table border=\"1\" class=\"dataframe\">\n",
       "  <thead>\n",
       "    <tr style=\"text-align: right;\">\n",
       "      <th></th>\n",
       "      <th>Restaurant_id</th>\n",
       "      <th>Rating</th>\n",
       "    </tr>\n",
       "  </thead>\n",
       "  <tbody>\n",
       "    <tr>\n",
       "      <th>0</th>\n",
       "      <td>id_0</td>\n",
       "      <td>2.0</td>\n",
       "    </tr>\n",
       "    <tr>\n",
       "      <th>1</th>\n",
       "      <td>id_1</td>\n",
       "      <td>2.5</td>\n",
       "    </tr>\n",
       "    <tr>\n",
       "      <th>2</th>\n",
       "      <td>id_2</td>\n",
       "      <td>4.0</td>\n",
       "    </tr>\n",
       "    <tr>\n",
       "      <th>3</th>\n",
       "      <td>id_3</td>\n",
       "      <td>1.0</td>\n",
       "    </tr>\n",
       "    <tr>\n",
       "      <th>4</th>\n",
       "      <td>id_4</td>\n",
       "      <td>4.0</td>\n",
       "    </tr>\n",
       "    <tr>\n",
       "      <th>...</th>\n",
       "      <td>...</td>\n",
       "      <td>...</td>\n",
       "    </tr>\n",
       "    <tr>\n",
       "      <th>9995</th>\n",
       "      <td>id_9995</td>\n",
       "      <td>3.0</td>\n",
       "    </tr>\n",
       "    <tr>\n",
       "      <th>9996</th>\n",
       "      <td>id_9996</td>\n",
       "      <td>1.5</td>\n",
       "    </tr>\n",
       "    <tr>\n",
       "      <th>9997</th>\n",
       "      <td>id_9997</td>\n",
       "      <td>4.5</td>\n",
       "    </tr>\n",
       "    <tr>\n",
       "      <th>9998</th>\n",
       "      <td>id_9998</td>\n",
       "      <td>1.0</td>\n",
       "    </tr>\n",
       "    <tr>\n",
       "      <th>9999</th>\n",
       "      <td>id_9999</td>\n",
       "      <td>2.5</td>\n",
       "    </tr>\n",
       "  </tbody>\n",
       "</table>\n",
       "<p>10000 rows × 2 columns</p>\n",
       "</div>"
      ],
      "text/plain": [
       "     Restaurant_id  Rating\n",
       "0             id_0     2.0\n",
       "1             id_1     2.5\n",
       "2             id_2     4.0\n",
       "3             id_3     1.0\n",
       "4             id_4     4.0\n",
       "...            ...     ...\n",
       "9995       id_9995     3.0\n",
       "9996       id_9996     1.5\n",
       "9997       id_9997     4.5\n",
       "9998       id_9998     1.0\n",
       "9999       id_9999     2.5\n",
       "\n",
       "[10000 rows x 2 columns]"
      ]
     },
     "execution_count": 68,
     "metadata": {},
     "output_type": "execute_result"
    }
   ],
   "source": [
    "sample_submission"
   ]
  },
  {
   "cell_type": "code",
   "execution_count": 69,
   "metadata": {
    "execution": {
     "iopub.execute_input": "2021-06-02T02:59:40.501194Z",
     "iopub.status.busy": "2021-06-02T02:59:40.500688Z",
     "iopub.status.idle": "2021-06-02T02:59:40.637835Z",
     "shell.execute_reply": "2021-06-02T02:59:40.636796Z",
     "shell.execute_reply.started": "2021-06-02T02:59:40.501152Z"
    }
   },
   "outputs": [
    {
     "name": "stderr",
     "output_type": "stream",
     "text": [
      "[Parallel(n_jobs=4)]: Using backend ThreadingBackend with 4 concurrent workers.\n",
      "[Parallel(n_jobs=4)]: Done  42 tasks      | elapsed:    0.0s\n",
      "[Parallel(n_jobs=4)]: Done 100 out of 100 | elapsed:    0.1s finished\n"
     ]
    }
   ],
   "source": [
    "predict_submission = predict(test_data)"
   ]
  },
  {
   "cell_type": "code",
   "execution_count": 70,
   "metadata": {
    "execution": {
     "iopub.execute_input": "2021-06-02T02:59:40.639661Z",
     "iopub.status.busy": "2021-06-02T02:59:40.639316Z",
     "iopub.status.idle": "2021-06-02T02:59:40.648494Z",
     "shell.execute_reply": "2021-06-02T02:59:40.647345Z",
     "shell.execute_reply.started": "2021-06-02T02:59:40.639603Z"
    }
   },
   "outputs": [
    {
     "data": {
      "text/plain": [
       "array([3. , 4. , 4. , ..., 3. , 4.5, 4. ])"
      ]
     },
     "execution_count": 70,
     "metadata": {},
     "output_type": "execute_result"
    }
   ],
   "source": [
    "predict_submission"
   ]
  },
  {
   "cell_type": "code",
   "execution_count": 71,
   "metadata": {
    "execution": {
     "iopub.execute_input": "2021-06-02T02:59:40.650339Z",
     "iopub.status.busy": "2021-06-02T02:59:40.649929Z",
     "iopub.status.idle": "2021-06-02T02:59:41.113021Z",
     "shell.execute_reply": "2021-06-02T02:59:41.112199Z",
     "shell.execute_reply.started": "2021-06-02T02:59:40.650265Z"
    }
   },
   "outputs": [
    {
     "data": {
      "text/html": [
       "<div>\n",
       "<style scoped>\n",
       "    .dataframe tbody tr th:only-of-type {\n",
       "        vertical-align: middle;\n",
       "    }\n",
       "\n",
       "    .dataframe tbody tr th {\n",
       "        vertical-align: top;\n",
       "    }\n",
       "\n",
       "    .dataframe thead th {\n",
       "        text-align: right;\n",
       "    }\n",
       "</style>\n",
       "<table border=\"1\" class=\"dataframe\">\n",
       "  <thead>\n",
       "    <tr style=\"text-align: right;\">\n",
       "      <th></th>\n",
       "      <th>Restaurant_id</th>\n",
       "      <th>Rating</th>\n",
       "    </tr>\n",
       "  </thead>\n",
       "  <tbody>\n",
       "    <tr>\n",
       "      <th>0</th>\n",
       "      <td>id_0</td>\n",
       "      <td>3.0</td>\n",
       "    </tr>\n",
       "    <tr>\n",
       "      <th>1</th>\n",
       "      <td>id_1</td>\n",
       "      <td>4.0</td>\n",
       "    </tr>\n",
       "    <tr>\n",
       "      <th>2</th>\n",
       "      <td>id_2</td>\n",
       "      <td>4.0</td>\n",
       "    </tr>\n",
       "    <tr>\n",
       "      <th>3</th>\n",
       "      <td>id_3</td>\n",
       "      <td>4.5</td>\n",
       "    </tr>\n",
       "    <tr>\n",
       "      <th>4</th>\n",
       "      <td>id_4</td>\n",
       "      <td>4.5</td>\n",
       "    </tr>\n",
       "    <tr>\n",
       "      <th>5</th>\n",
       "      <td>id_5</td>\n",
       "      <td>4.5</td>\n",
       "    </tr>\n",
       "    <tr>\n",
       "      <th>6</th>\n",
       "      <td>id_6</td>\n",
       "      <td>2.5</td>\n",
       "    </tr>\n",
       "    <tr>\n",
       "      <th>7</th>\n",
       "      <td>id_7</td>\n",
       "      <td>2.5</td>\n",
       "    </tr>\n",
       "    <tr>\n",
       "      <th>8</th>\n",
       "      <td>id_8</td>\n",
       "      <td>4.0</td>\n",
       "    </tr>\n",
       "    <tr>\n",
       "      <th>9</th>\n",
       "      <td>id_9</td>\n",
       "      <td>4.5</td>\n",
       "    </tr>\n",
       "  </tbody>\n",
       "</table>\n",
       "</div>"
      ],
      "text/plain": [
       "  Restaurant_id  Rating\n",
       "0          id_0     3.0\n",
       "1          id_1     4.0\n",
       "2          id_2     4.0\n",
       "3          id_3     4.5\n",
       "4          id_4     4.5\n",
       "5          id_5     4.5\n",
       "6          id_6     2.5\n",
       "7          id_7     2.5\n",
       "8          id_8     4.0\n",
       "9          id_9     4.5"
      ]
     },
     "execution_count": 71,
     "metadata": {},
     "output_type": "execute_result"
    }
   ],
   "source": [
    "sample_submission['Rating'] = predict_submission\n",
    "sample_submission.to_csv('submission.csv', index=False)\n",
    "sample_submission.head(10)"
   ]
  },
  {
   "cell_type": "markdown",
   "metadata": {},
   "source": [
    "# What's next?\n",
    "Или что делать, чтоб улучшить результат:\n",
    "* Обработать оставшиеся признаки в понятный для машины формат\n",
    "* Посмотреть, что еще можно извлечь из признаков\n",
    "* Сгенерировать новые признаки\n",
    "* Подгрузить дополнительные данные, например: по населению или благосостоянию городов\n",
    "* Подобрать состав признаков\n",
    "\n",
    "В общем, процесс творческий и весьма увлекательный! Удачи в соревновании!\n"
   ]
  },
  {
   "cell_type": "code",
   "execution_count": null,
   "metadata": {},
   "outputs": [],
   "source": []
  }
 ],
 "metadata": {
  "kernelspec": {
   "display_name": "Python 3",
   "language": "python",
   "name": "python3"
  },
  "language_info": {
   "codemirror_mode": {
    "name": "ipython",
    "version": 3
   },
   "file_extension": ".py",
   "mimetype": "text/x-python",
   "name": "python",
   "nbconvert_exporter": "python",
   "pygments_lexer": "ipython3",
   "version": "3.6.6"
  }
 },
 "nbformat": 4,
 "nbformat_minor": 4
}
