{
 "cells": [
  {
   "cell_type": "code",
   "execution_count": 11,
   "metadata": {},
   "outputs": [
    {
     "name": "stdout",
     "output_type": "stream",
     "text": [
      "Ваш алгоритм угадывает число в среднем за 5 попыток\n"
     ]
    }
   ],
   "source": [
    "#скрипт для определения загаданного случайного числа от 1 до 100\n",
    "import numpy as np\n",
    "\n",
    "#Функция, устанавливающая лимиты поиска числа\n",
    "def limits (candidate, l1, l2):\n",
    "    global lim1,lim2\n",
    "    if candidate < number:\n",
    "        l1 = candidate\n",
    "        l2 = lim2\n",
    "    if candidate > number: \n",
    "        l1 = lim1\n",
    "        l2 = candidate\n",
    "    #Изменяем диапазон поиска числа в зависимости от того, больше или меньше число-кандидат искомого числа\n",
    "    lim1=l1\n",
    "    lim2=l2\n",
    "\n",
    "#Функция для определения количества попыток угадывания числа\n",
    "def game_score(number):\n",
    "    global lim1,lim2,candidate\n",
    "    #Стартовые значения границ диапазона отгадывания\n",
    "    lim1 = 1\n",
    "    lim2 = 101\n",
    "    #cnt - Количество попыток\n",
    "    cnt = 0\n",
    "    \n",
    "    while candidate!=number:\n",
    "        \n",
    "        #выбираем число-кандидат из определенного диапазона (берем середину)\n",
    "        candidate=int((lim1+lim2)/2)\n",
    "        \n",
    "        #Возможен менее эффективный вариант, если число брать случайным из диапазона\n",
    "        #candidate=np.random.randint(lim1,lim2)\n",
    "        \n",
    "        limits(candidate,lim1,lim2)\n",
    "        cnt+=1\n",
    "    return cnt\n",
    " \n",
    "count_num=[]\n",
    "# Определяем массив из 1000 числе в диапазоне от 1 до 100 для тестирования скрипта\n",
    "random_array = np.random.randint(1,101, size=1000)\n",
    "for number in random_array:\n",
    "    #определяем для каждого числа из массива количество попыток, когда чило будет отгадано (функция game_score):\n",
    "    count_num.append(game_score(number))\n",
    "#определяем среднее значение количества попыток\n",
    "score = int(np.mean(count_num))\n",
    "print(f\"Ваш алгоритм угадывает число в среднем за {score} попыток\")"
   ]
  }
 ],
 "metadata": {
  "kernelspec": {
   "display_name": "Python 3",
   "language": "python",
   "name": "python3"
  },
  "language_info": {
   "codemirror_mode": {
    "name": "ipython",
    "version": 3
   },
   "file_extension": ".py",
   "mimetype": "text/x-python",
   "name": "python",
   "nbconvert_exporter": "python",
   "pygments_lexer": "ipython3",
   "version": "3.7.3"
  }
 },
 "nbformat": 4,
 "nbformat_minor": 2
}
